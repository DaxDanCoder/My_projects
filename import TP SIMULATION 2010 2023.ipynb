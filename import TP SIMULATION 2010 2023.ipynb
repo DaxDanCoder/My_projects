{
 "cells": [
  {
   "cell_type": "raw",
   "id": "4eab8280-ff37-4cb5-9269-db5ec758f7f6",
   "metadata": {},
   "source": [
    "pip install cdsapi\n",
    "pip install calendar"
   ]
  },
  {
   "cell_type": "markdown",
   "id": "ee6e2fcc-db9f-423f-86c4-0946f3744aca",
   "metadata": {
    "jp-MarkdownHeadingCollapsed": true
   },
   "source": [
    "# ACCESS ACCOUNT"
   ]
  },
  {
   "cell_type": "raw",
   "id": "00fbf97f-6da9-49db-8c37-22d31feb47a2",
   "metadata": {},
   "source": [
    "cette partie est obligatoire et nécessaire avant de débuter tout téléchargement des données de climat"
   ]
  },
  {
   "cell_type": "code",
   "execution_count": null,
   "id": "e8a43f7f-0559-4928-aeee-cb2191e5c888",
   "metadata": {},
   "outputs": [],
   "source": [
    "import os\n",
    "\n",
    "content = \"\"\"url:https://cds.climate.copernicus.eu/api\n",
    "key:a34410a0-50b1-4315-a731-682ea01aa1f3\"\"\"\n",
    "home = os.path.expanduser(\"~\")\n",
    "filepath = os.path.join(home, \".cdsapirc\")\n",
    "with open(filepath, \"w\") as f:\n",
    "    f.write(content)\n",
    "print(f\"Fichier créé à : {filepath}\")"
   ]
  },
  {
   "cell_type": "code",
   "execution_count": null,
   "id": "d98150d5-bdde-4206-b8d2-45398fe68c29",
   "metadata": {},
   "outputs": [],
   "source": [
    "import os\n",
    "print(os.path.expanduser(\"~\"))\n",
    "with open(os.path.expanduser(\"~/.cdsapirc\")) as f:\n",
    "    print(f.read())"
   ]
  },
  {
   "cell_type": "markdown",
   "id": "88300de0-c0d9-4590-b6cf-323d957eb6ec",
   "metadata": {
    "jp-MarkdownHeadingCollapsed": true
   },
   "source": [
    "# DOWNLOAD TEMP 00:00"
   ]
  },
  {
   "cell_type": "code",
   "execution_count": null,
   "id": "c1420176-af40-4cdd-8d8b-18ab7dd3173c",
   "metadata": {
    "scrolled": true
   },
   "outputs": [],
   "source": [
    "#Les données seront téléchargées de manière distincte par heure\n",
    "#il faudra ensuite les combiner grâce à un autre code\n",
    "import cdsapi\n",
    "c=cdsapi.Client(timeout=1200)\n",
    "\n",
    "year1 = 2010\n",
    "year2 = 2024\n",
    "\n",
    "years = [f\"{y:02d}\" for y in range(year1, year2)]\n",
    "months = [f\"{m:02d}\" for m in range(1, 13)]\n",
    "days = [f\"{d:02d}\" for d in range(1, 32)]\n",
    "variable = \"2m_temperature\" #temperature\n",
    "area = [5.5, -12.5, -13.5, 31.5] #drc area [N, W, S, E]\n",
    "\n",
    "for year in years:\n",
    "    for month in months:\n",
    "        print(f\"en cours {year} - {month}...\")\n",
    "        c.retrieve(\"reanalysis-era5-single-levels\",\n",
    "               {\"product_type\" : \"reanalysis\",\n",
    "                \"variable\": variable,\n",
    "                \"year\": year,\n",
    "                \"month\": month,\n",
    "                \"day\": days,\n",
    "                \"area\": area,\n",
    "                \"time\": [\"00:00\"],\n",
    "                \"format\": \"netcdf\",\n",
    "               },\n",
    "               f\"C:/Users/Lenovo/Documents/PYTHON SCRIPTS/DATACLIMATE 00/Temp day{year}-{month}.nc\"\n",
    "              )\n",
    "print(f\"le fichier est enregistré dans C:/Users/Lenovo/Documents/PYTHON SCRIPTS\")"
   ]
  },
  {
   "cell_type": "markdown",
   "id": "422717f7-b876-4382-8f89-272f15a8d961",
   "metadata": {},
   "source": [
    "# DOWNLOAD PRECIP 00:00"
   ]
  },
  {
   "cell_type": "code",
   "execution_count": null,
   "id": "2dc248f6-cb24-4cac-89b7-aca0b064f6e3",
   "metadata": {
    "scrolled": true
   },
   "outputs": [],
   "source": [
    "#Les données seront téléchargées de manière distincte par heure\n",
    "#il faudra ensuite les combiner grâce à un autre code\n",
    "import cdsapi\n",
    "c=cdsapi.Client(timeout=1200)\n",
    "\n",
    "year1 = 2010\n",
    "year2 = 2024\n",
    "\n",
    "years = [f\"{y:02d}\" for y in range(year1, year2)]\n",
    "months = [f\"{m:02d}\" for m in range(1, 13)]\n",
    "days = [f\"{d:02d}\" for d in range(1, 32)]\n",
    "variable = \"total_precipitation\" #rainfall\n",
    "area = [5.5, -12.5, -13.5, 31.5] #drc area [N, W, S, E]\n",
    "\n",
    "for year in years:\n",
    "    for month in months:\n",
    "        print(f\"en cours {year} - {month}...\")\n",
    "        c.retrieve(\"reanalysis-era5-single-levels\",\n",
    "               {\"product_type\" : \"reanalysis\",\n",
    "                \"variable\": variable,\n",
    "                \"year\": year,\n",
    "                \"month\": month,\n",
    "                \"day\": days,\n",
    "                \"area\": area,\n",
    "                \"time\": [\"00:00\"],\n",
    "                \"format\": \"netcdf\",\n",
    "               },\n",
    "               f\"C:/Users/Lenovo/Documents/PYTHON SCRIPTS/DATACLIMATE 00/Precip day{year}-{month}.nc\"\n",
    "              )\n",
    "print(f\"le fichier est enregistré dans C:/Users/Lenovo/Documents/PYTHON SCRIPTS\")"
   ]
  },
  {
   "cell_type": "code",
   "execution_count": null,
   "id": "783760d5-d816-43cb-b6f0-4ba5621a5330",
   "metadata": {},
   "outputs": [],
   "source": [
    "#combinuer des netcdf files TEMPERATURE 00\n",
    "import xarray as xr\n",
    "years = range(2010, 2024)\n",
    "months = range(1, 13)\n",
    "\n",
    "netcdfs = []\n",
    "\n",
    "for year in years:\n",
    "    for month in months:\n",
    "        netcdfs.append(f\"C:/Users/Lenovo/Documents/PYTHON SCRIPTS/DATACLIMATE 00/Temp 00h day{year}-{month:02d}.nc\")\n",
    "        \n",
    "ds = xr.open_mfdataset(netcdfs, combine = \"by_coords\")\n",
    "ds.to_netcdf(f\"C:/Users/Lenovo/Documents/PYTHON SCRIPTS/DATACLIMATE 00/Temp 00h final_files.nc\")\n",
    "print(f\"...Fusion terminée\")"
   ]
  },
  {
   "cell_type": "markdown",
   "id": "46f036d6-2892-4cc5-980f-55be33c7fe8d",
   "metadata": {},
   "source": [
    "# COMBINATED PRECIP 00:00"
   ]
  },
  {
   "cell_type": "code",
   "execution_count": null,
   "id": "fd7f333d-56df-470f-9358-478ec67b73ef",
   "metadata": {},
   "outputs": [],
   "source": [
    "#combinuer des netcdf files PRECIPITATION 00\n",
    "import xarray as xr\n",
    "years = range(2010, 2024)\n",
    "months = range(1, 13)\n",
    "\n",
    "netcdfs = []\n",
    "\n",
    "for year in years:\n",
    "    for month in months:\n",
    "        netcdfs.append(f\"C:/Users/Lenovo/Documents/PYTHON SCRIPTS/DATACLIMATE 00/Precip 00h day{year}-{month:02d}.nc\")\n",
    "        \n",
    "ds = xr.open_mfdataset(netcdfs, combine = \"by_coords\")\n",
    "ds.to_netcdf(f\"C:/Users/Lenovo/Documents/PYTHON SCRIPTS/DATACLIMATE 00/Precip 00h final_files.nc\")\n",
    "print(f\"...Fusion terminée\")"
   ]
  },
  {
   "cell_type": "markdown",
   "id": "0a78b4d7-a05c-4d14-bb94-91dc89d2459b",
   "metadata": {},
   "source": [
    "# DOWNLOAD TEMPERATURE DATA 2010-2023 (ALL HOURS)"
   ]
  },
  {
   "cell_type": "code",
   "execution_count": 3,
   "id": "e2ea1bcd-90b8-44ff-97b0-7bc3e89db7e2",
   "metadata": {
    "collapsed": true,
    "jupyter": {
     "outputs_hidden": true
    },
    "scrolled": true
   },
   "outputs": [
    {
     "name": "stderr",
     "output_type": "stream",
     "text": [
      "2025-09-03 00:54:39,982 INFO [2024-09-26T00:00:00] Watch our [Forum](https://forum.ecmwf.int/) for Announcements, news and other discussed topics.\n"
     ]
    },
    {
     "name": "stdout",
     "output_type": "stream",
     "text": [
      "en cours 2010 - 04 - 27...\n"
     ]
    },
    {
     "name": "stderr",
     "output_type": "stream",
     "text": [
      "2025-09-03 00:54:40,853 INFO Request ID is adeda489-286a-4cd9-b7eb-1aee92e3175a\n",
      "2025-09-03 00:54:41,213 INFO status has been updated to accepted\n",
      "2025-09-03 00:54:50,621 INFO status has been updated to running\n",
      "2025-09-03 00:55:03,933 INFO status has been updated to successful\n"
     ]
    },
    {
     "data": {
      "application/vnd.jupyter.widget-view+json": {
       "model_id": "b8a7799817844603ab96f4b3cd280e02",
       "version_major": 2,
       "version_minor": 0
      },
      "text/plain": [
       "54ace9aca90bcfb717dc45178ee6b47e.nc:   0%|          | 0.00/513k [00:00<?, ?B/s]"
      ]
     },
     "metadata": {},
     "output_type": "display_data"
    },
    {
     "name": "stdout",
     "output_type": "stream",
     "text": [
      "en cours 2011 - 04 - 27...\n"
     ]
    },
    {
     "name": "stderr",
     "output_type": "stream",
     "text": [
      "2025-09-03 00:55:09,642 INFO Request ID is ef1074c7-a9f4-4849-984a-350d0b49d688\n",
      "2025-09-03 00:55:09,978 INFO status has been updated to accepted\n",
      "2025-09-03 00:55:32,821 INFO status has been updated to running\n",
      "2025-09-03 00:56:01,892 INFO status has been updated to successful\n"
     ]
    },
    {
     "data": {
      "application/vnd.jupyter.widget-view+json": {
       "model_id": "2ebf3a3dc524461383c38cd87e0ea71a",
       "version_major": 2,
       "version_minor": 0
      },
      "text/plain": [
       "8f3525c39ecd2235026451a4c20c0537.nc:   0%|          | 0.00/516k [00:00<?, ?B/s]"
      ]
     },
     "metadata": {},
     "output_type": "display_data"
    },
    {
     "name": "stdout",
     "output_type": "stream",
     "text": [
      "en cours 2012 - 04 - 27...\n"
     ]
    },
    {
     "name": "stderr",
     "output_type": "stream",
     "text": [
      "2025-09-03 00:56:07,080 INFO Request ID is 77dfbd6f-ad11-45b5-a18f-6347d30d451b\n",
      "2025-09-03 00:56:07,431 INFO status has been updated to accepted\n",
      "2025-09-03 00:56:13,290 INFO status has been updated to running\n",
      "2025-09-03 00:56:22,374 INFO status has been updated to successful\n"
     ]
    },
    {
     "data": {
      "application/vnd.jupyter.widget-view+json": {
       "model_id": "083ecf38bdb04097895daa368a8bf24f",
       "version_major": 2,
       "version_minor": 0
      },
      "text/plain": [
       "5024d39029dc260698d3c3fcfdba11fc.nc:   0%|          | 0.00/515k [00:00<?, ?B/s]"
      ]
     },
     "metadata": {},
     "output_type": "display_data"
    },
    {
     "name": "stdout",
     "output_type": "stream",
     "text": [
      "en cours 2013 - 04 - 27...\n"
     ]
    },
    {
     "name": "stderr",
     "output_type": "stream",
     "text": [
      "2025-09-03 00:56:28,189 INFO Request ID is aae8f914-8450-4f44-b3d3-df20f9463c71\n",
      "2025-09-03 00:56:28,467 INFO status has been updated to accepted\n",
      "2025-09-03 00:56:38,351 INFO status has been updated to running\n",
      "2025-09-03 00:56:43,776 INFO status has been updated to successful\n"
     ]
    },
    {
     "data": {
      "application/vnd.jupyter.widget-view+json": {
       "model_id": "50d9746ca0394264be511df2c1d5c7fe",
       "version_major": 2,
       "version_minor": 0
      },
      "text/plain": [
       "2f8b0bea621bad3d0d1a5b3128a8d54e.nc:   0%|          | 0.00/516k [00:00<?, ?B/s]"
      ]
     },
     "metadata": {},
     "output_type": "display_data"
    },
    {
     "name": "stderr",
     "output_type": "stream",
     "text": [
      "Recovering from connection error [HTTPSConnectionPool(host='object-store.os-api.cci2.ecmwf.int', port=443): Read timed out.], attempt 1 of 500\n",
      "Retrying in 120 seconds\n"
     ]
    },
    {
     "data": {
      "application/vnd.jupyter.widget-view+json": {
       "model_id": "133a02bc42e5470a98ba36138098b4b1",
       "version_major": 2,
       "version_minor": 0
      },
      "text/plain": [
       "2f8b0bea621bad3d0d1a5b3128a8d54e.nc:   0%|          | 0.00/516k [00:00<?, ?B/s]"
      ]
     },
     "metadata": {},
     "output_type": "display_data"
    },
    {
     "name": "stdout",
     "output_type": "stream",
     "text": [
      "en cours 2014 - 04 - 27...\n"
     ]
    },
    {
     "name": "stderr",
     "output_type": "stream",
     "text": [
      "2025-09-03 01:18:52,523 INFO Request ID is c1a647c2-2a42-4061-81ba-39106b5638fb\n",
      "2025-09-03 01:18:53,133 INFO status has been updated to accepted\n",
      "2025-09-03 01:19:16,480 INFO status has been updated to successful\n"
     ]
    },
    {
     "data": {
      "application/vnd.jupyter.widget-view+json": {
       "model_id": "77283c0443904678a20844a810224f62",
       "version_major": 2,
       "version_minor": 0
      },
      "text/plain": [
       "72dbec80afa348278ceab86a6afb9cbf.nc:   0%|          | 0.00/512k [00:00<?, ?B/s]"
      ]
     },
     "metadata": {},
     "output_type": "display_data"
    },
    {
     "name": "stdout",
     "output_type": "stream",
     "text": [
      "en cours 2015 - 04 - 27...\n"
     ]
    },
    {
     "name": "stderr",
     "output_type": "stream",
     "text": [
      "2025-09-03 01:19:22,385 INFO Request ID is 264f4af6-9b6b-43db-8e72-de53072bc569\n",
      "2025-09-03 01:19:22,862 INFO status has been updated to accepted\n",
      "2025-09-03 01:19:38,294 INFO status has been updated to running\n",
      "2025-09-03 01:19:46,588 INFO status has been updated to successful\n"
     ]
    },
    {
     "data": {
      "application/vnd.jupyter.widget-view+json": {
       "model_id": "51d8cfe7d35e422daa03a7adabd05b44",
       "version_major": 2,
       "version_minor": 0
      },
      "text/plain": [
       "64a24b9657c5aa51a5e7a55b098b4e5c.nc:   0%|          | 0.00/514k [00:00<?, ?B/s]"
      ]
     },
     "metadata": {},
     "output_type": "display_data"
    },
    {
     "name": "stdout",
     "output_type": "stream",
     "text": [
      "en cours 2016 - 04 - 27...\n"
     ]
    },
    {
     "name": "stderr",
     "output_type": "stream",
     "text": [
      "2025-09-03 01:19:51,560 INFO Request ID is a5b2c062-12af-45e0-bcaf-3f45cf861db2\n",
      "2025-09-03 01:19:51,996 INFO status has been updated to accepted\n",
      "2025-09-03 01:20:15,221 INFO status has been updated to running\n",
      "2025-09-03 01:20:27,186 INFO status has been updated to successful\n"
     ]
    },
    {
     "data": {
      "application/vnd.jupyter.widget-view+json": {
       "model_id": "85f875e8fdcc4da4822dd469ecf9ffbe",
       "version_major": 2,
       "version_minor": 0
      },
      "text/plain": [
       "d4ba329b7db9aa9cf5a4522a49f8fc17.nc:   0%|          | 0.00/514k [00:00<?, ?B/s]"
      ]
     },
     "metadata": {},
     "output_type": "display_data"
    },
    {
     "name": "stdout",
     "output_type": "stream",
     "text": [
      "en cours 2017 - 04 - 27...\n"
     ]
    },
    {
     "name": "stderr",
     "output_type": "stream",
     "text": [
      "2025-09-03 01:20:32,243 INFO Request ID is 2ed6e6f7-a865-405d-a376-2370562d6f53\n",
      "2025-09-03 01:20:32,668 INFO status has been updated to accepted\n",
      "2025-09-03 01:20:47,723 INFO status has been updated to running\n",
      "2025-09-03 01:20:55,606 INFO status has been updated to successful\n"
     ]
    },
    {
     "data": {
      "application/vnd.jupyter.widget-view+json": {
       "model_id": "f3bbda0bad4d4d4cb71934605fde629e",
       "version_major": 2,
       "version_minor": 0
      },
      "text/plain": [
       "6838b81425591818179e675f01135c43.nc:   0%|          | 0.00/514k [00:00<?, ?B/s]"
      ]
     },
     "metadata": {},
     "output_type": "display_data"
    },
    {
     "name": "stdout",
     "output_type": "stream",
     "text": [
      "en cours 2018 - 04 - 27...\n"
     ]
    },
    {
     "name": "stderr",
     "output_type": "stream",
     "text": [
      "2025-09-03 01:21:02,773 INFO Request ID is e1f847c4-458f-4258-8a77-9060d5ebb35a\n",
      "2025-09-03 01:21:03,081 INFO status has been updated to accepted\n",
      "2025-09-03 01:21:13,086 INFO status has been updated to running\n",
      "2025-09-03 01:21:18,401 INFO status has been updated to successful\n"
     ]
    },
    {
     "data": {
      "application/vnd.jupyter.widget-view+json": {
       "model_id": "caba728a9afb4d9a9082851412cd6fc0",
       "version_major": 2,
       "version_minor": 0
      },
      "text/plain": [
       "bdc1c4a16ac82adf4a2458e695b68dcf.nc:   0%|          | 0.00/514k [00:00<?, ?B/s]"
      ]
     },
     "metadata": {},
     "output_type": "display_data"
    },
    {
     "name": "stdout",
     "output_type": "stream",
     "text": [
      "en cours 2019 - 04 - 27...\n"
     ]
    },
    {
     "name": "stderr",
     "output_type": "stream",
     "text": [
      "2025-09-03 01:21:25,400 INFO Request ID is a2be5305-b3e6-4f10-a1f5-60907dce83ec\n",
      "2025-09-03 01:21:25,706 INFO status has been updated to accepted\n",
      "2025-09-03 01:21:49,061 INFO status has been updated to successful\n"
     ]
    },
    {
     "data": {
      "application/vnd.jupyter.widget-view+json": {
       "model_id": "2be2e73fbe9546998a32b4a87cbe613b",
       "version_major": 2,
       "version_minor": 0
      },
      "text/plain": [
       "7d5f56a63d4e08654729e4a3b0fa77d0.nc:   0%|          | 0.00/513k [00:00<?, ?B/s]"
      ]
     },
     "metadata": {},
     "output_type": "display_data"
    },
    {
     "name": "stdout",
     "output_type": "stream",
     "text": [
      "en cours 2020 - 04 - 27...\n"
     ]
    },
    {
     "name": "stderr",
     "output_type": "stream",
     "text": [
      "2025-09-03 01:21:54,230 INFO Request ID is e7a97338-7892-43b1-a3e5-bae91702b7d7\n",
      "2025-09-03 01:21:54,583 INFO status has been updated to accepted\n",
      "2025-09-03 01:22:04,831 INFO status has been updated to running\n",
      "2025-09-03 01:22:10,186 INFO status has been updated to successful\n"
     ]
    },
    {
     "data": {
      "application/vnd.jupyter.widget-view+json": {
       "model_id": "e2c0552c41e2444bb62aa3b03790edee",
       "version_major": 2,
       "version_minor": 0
      },
      "text/plain": [
       "225bd54584ea0b10e585225332fee549.nc:   0%|          | 0.00/518k [00:00<?, ?B/s]"
      ]
     },
     "metadata": {},
     "output_type": "display_data"
    },
    {
     "name": "stdout",
     "output_type": "stream",
     "text": [
      "en cours 2021 - 04 - 27...\n"
     ]
    },
    {
     "name": "stderr",
     "output_type": "stream",
     "text": [
      "2025-09-03 01:22:15,446 INFO Request ID is efbf5b4d-bbad-4dea-8e5b-8962931f0b3d\n",
      "2025-09-03 01:22:15,783 INFO status has been updated to accepted\n",
      "2025-09-03 01:22:30,836 INFO status has been updated to running\n",
      "2025-09-03 01:22:39,031 INFO status has been updated to successful\n"
     ]
    },
    {
     "data": {
      "application/vnd.jupyter.widget-view+json": {
       "model_id": "32ef76c688b740c3926a82d998126b3f",
       "version_major": 2,
       "version_minor": 0
      },
      "text/plain": [
       "b628cc98d99356ee7eda0ae17c3b04f4.nc:   0%|          | 0.00/516k [00:00<?, ?B/s]"
      ]
     },
     "metadata": {},
     "output_type": "display_data"
    },
    {
     "name": "stdout",
     "output_type": "stream",
     "text": [
      "en cours 2022 - 04 - 27...\n"
     ]
    },
    {
     "name": "stderr",
     "output_type": "stream",
     "text": [
      "2025-09-03 01:22:44,556 INFO Request ID is 139bf60a-93d4-443d-8849-9501c3ebe92d\n",
      "2025-09-03 01:22:44,998 INFO status has been updated to accepted\n",
      "2025-09-03 01:22:54,703 INFO status has been updated to running\n",
      "2025-09-03 01:23:00,121 INFO status has been updated to successful\n"
     ]
    },
    {
     "data": {
      "application/vnd.jupyter.widget-view+json": {
       "model_id": "f6ead0909a484af49c815db00cab301e",
       "version_major": 2,
       "version_minor": 0
      },
      "text/plain": [
       "e8d4f3d7e2cb8e1ea0aaf2ab11dbbe08.nc:   0%|          | 0.00/517k [00:00<?, ?B/s]"
      ]
     },
     "metadata": {},
     "output_type": "display_data"
    },
    {
     "name": "stdout",
     "output_type": "stream",
     "text": [
      "en cours 2023 - 04 - 27...\n"
     ]
    },
    {
     "name": "stderr",
     "output_type": "stream",
     "text": [
      "2025-09-03 01:23:05,836 INFO Request ID is 9d4d4208-310f-4f47-8afd-2968683b0f0e\n",
      "2025-09-03 01:23:06,270 INFO status has been updated to accepted\n",
      "2025-09-03 01:23:12,253 INFO status has been updated to running\n",
      "2025-09-03 01:23:21,361 INFO status has been updated to successful\n"
     ]
    },
    {
     "data": {
      "application/vnd.jupyter.widget-view+json": {
       "model_id": "fba1bace20f140049feb3f984e6058aa",
       "version_major": 2,
       "version_minor": 0
      },
      "text/plain": [
       "fff86d0b3076c8264c9d1a78a2a6ee4d.nc:   0%|          | 0.00/520k [00:00<?, ?B/s]"
      ]
     },
     "metadata": {},
     "output_type": "display_data"
    },
    {
     "name": "stdout",
     "output_type": "stream",
     "text": [
      "le fichier est enregistré dans D:/DATACLIMATE all\n"
     ]
    }
   ],
   "source": [
    "#Les données seront téléchargées de manière distincte par heure\n",
    "#il faudra ensuite les combiner grâce à un autre code\n",
    "import cdsapi\n",
    "c=cdsapi.Client(timeout=1200)\n",
    "\n",
    "year1 = 2010\n",
    "year2 = 2024\n",
    "\n",
    "years = [f\"{y:02d}\" for y in range(year1, year2)]\n",
    "months = [f\"{m:02d}\" for m in range(1, 13)]\n",
    "days = [f\"{d:02d}\" for d in range(1, 31)]\n",
    "hours = [f\"{h:02d}:00\" for h in range(24)]\n",
    "variable = \"2m_temperature\" #temperature data\n",
    "area = [5.5, -12.5, -13.5, 31.5] #drc area : [N, W, S, E]\n",
    "nb_err = 1\n",
    "\n",
    "import calendar\n",
    "for year in years:\n",
    "    for month in months:\n",
    "        for day in days:\n",
    "            try:\n",
    "                print(f\"en cours {year} - {month} - {day}...\")\n",
    "                c.retrieve(\"reanalysis-era5-single-levels\",\n",
    "                           {\"product_type\" : \"reanalysis\",\n",
    "                            \"variable\": variable,\n",
    "                            \"year\": year,\n",
    "                            \"month\": month,\n",
    "                            \"day\": day,\n",
    "                            \"area\": area,\n",
    "                            \"time\": hours,\n",
    "                            \"format\": \"netcdf\",\n",
    "                           },\n",
    "                           f\"D:/DATACLIMATE all/Temp all/Temp all 27 apr.nc\" \n",
    "                          )\n",
    "            except:\n",
    "                nb_err+=1\n",
    "print(f\"le fichier est enregistré dans D:/DATACLIMATE all\")"
   ]
  },
  {
   "cell_type": "markdown",
   "id": "d7141bdf-75e5-43a7-948d-aea3ce865d4a",
   "metadata": {},
   "source": [
    "# COMBINATED NETCDF_FILES ALL HOURS"
   ]
  },
  {
   "cell_type": "code",
   "execution_count": 2,
   "id": "19d9ae2c-f549-472c-bd22-f9fd5b717bc8",
   "metadata": {
    "scrolled": true
   },
   "outputs": [
    {
     "name": "stdout",
     "output_type": "stream",
     "text": [
      "Temp all 2012-02-29\n",
      "Temp all 2016-02-29\n",
      "Temp all 2020-02-29\n",
      "['D:/DATACLIMATE all/Temp all/Temp all 2012-02-29.nc', 'D:/DATACLIMATE all/Temp all/Temp all 2016-02-29.nc', 'D:/DATACLIMATE all/Temp all/Temp all 2020-02-29.nc']...\n",
      "Fusion terminée\n"
     ]
    }
   ],
   "source": [
    "#combiner des netcdf files RAINFALL/TEMPERATURE all hours\n",
    "import xarray as xr\n",
    "import os\n",
    "\n",
    "years = range(2010, 2024)\n",
    "months = range(1, 13)\n",
    "days = range(1, 32)\n",
    "n=0\n",
    "netcdfs = []\n",
    "\n",
    "for year in years:\n",
    "    for month in months:\n",
    "        for day in days:\n",
    "            road = f\"D:/DATACLIMATE all/Temp all/Temp all {year}-{month:02d}-{day:02d}.nc\"\n",
    "            try:\n",
    "                #xr.open_dataset(road).close()\n",
    "                netcdfs.append(road)\n",
    "                print(f\"Temp all {year}-{month:02d}-{day:02d}\")\n",
    "            except RuntimeError:\n",
    "                pass\n",
    "ds = xr.open_mfdataset(netcdfs, combine = \"by_coords\")\n",
    "ds.to_netcdf(f\"D:/DATACLIMATE all/Temp all/Temp all.nc\")\n",
    "print(f\"{netcdfs}.../nFusion terminée\")"
   ]
  },
  {
   "cell_type": "code",
   "execution_count": null,
   "id": "c175950a-6817-4c54-b227-164a186768af",
   "metadata": {},
   "outputs": [],
   "source": [
    "#combiner des netcdf files RAINFALL/TEMPERATURE all hours se trouvant tous dans un seul dossier\n",
    "import xarray as xr\n",
    "import glob\n",
    "\n",
    "netcdf_file = \"D:/DATACLIMATE all/Precip all/\"\n",
    "netcdfs = sorted(glob.glob(netcdf_file + \"*.nc\"))\n",
    "\n",
    "ds = xr.open_mfdataset(netcdfs, combine = \"by_coords\")\n",
    "ds.to_netcdf(f\"D:/DATACLIMATE all/Precip all/Precip all.nc\")\n",
    "print(f\"{netcdfs}.../nFusion terminée\")"
   ]
  },
  {
   "cell_type": "code",
   "execution_count": 3,
   "id": "075bfe91-a4d4-4fde-8fea-d1fe63f4f856",
   "metadata": {},
   "outputs": [
    {
     "name": "stderr",
     "output_type": "stream",
     "text": [
      "<>:26: SyntaxWarning: invalid escape sequence '\\D'\n",
      "<>:26: SyntaxWarning: invalid escape sequence '\\D'\n",
      "C:\\Users\\Lenovo\\AppData\\Local\\Temp\\ipykernel_20752\\2158168520.py:26: SyntaxWarning: invalid escape sequence '\\D'\n",
      "  print(f\"le fichier est enregistré dans D:\\DATACLIMATE all\")\n",
      "2025-09-15 17:58:14,987 INFO [2025-09-03T00:00:00] To improve our C3S service, we need to hear from you! Please complete this very short [survey](https://confluence.ecmwf.int/x/E7uBEQ/). Thank you.\n",
      "2025-09-15 17:58:14,989 INFO [2024-09-26T00:00:00] Watch our [Forum](https://forum.ecmwf.int/) for Announcements, news and other discussed topics.\n"
     ]
    },
    {
     "name": "stdout",
     "output_type": "stream",
     "text": [
      "en cours 2013 - 04...\n"
     ]
    },
    {
     "name": "stderr",
     "output_type": "stream",
     "text": [
      "2025-09-15 17:58:16,014 INFO Request ID is e2964d0b-f4b0-472b-b9ea-b2c8d490decf\n",
      "2025-09-15 17:58:16,432 INFO status has been updated to accepted\n",
      "2025-09-15 17:58:25,647 INFO status has been updated to running\n",
      "2025-09-15 17:58:31,010 INFO status has been updated to successful\n"
     ]
    },
    {
     "data": {
      "application/vnd.jupyter.widget-view+json": {
       "model_id": "5df8a56d51bf4aed85fd5c7630ca0948",
       "version_major": 2,
       "version_minor": 0
      },
      "text/plain": [
       "85c8f236577182429f1693c38942ff61.nc:   0%|          | 0.00/48.9k [00:00<?, ?B/s]"
      ]
     },
     "metadata": {},
     "output_type": "display_data"
    },
    {
     "name": "stdout",
     "output_type": "stream",
     "text": [
      "le fichier est enregistré dans D:\\DATACLIMATE all\n"
     ]
    }
   ],
   "source": [
    "#VERSION TEST 2 TEMPERATURE 00 OK\n",
    "import cdsapi\n",
    "c=cdsapi.Client(timeout=1200)\n",
    "\n",
    "years = [f\"{y:02d}\" for y in range(2010, 2024)]\n",
    "months = [f\"{m:02d}\" for m in range(1, 13)]\n",
    "days = [f\"{d:02d}\" for d in range(1, 32)]\n",
    "variable = \"2m_temperature\"\n",
    "area = [5.5, -12.5, -13.5, 31.5]\n",
    "\n",
    "for year in years:\n",
    "    for month in months:\n",
    "        print(f\"en cours {year} - {month}...\")\n",
    "        c.retrieve(\"reanalysis-era5-single-levels\",\n",
    "               {\"product_type\" : \"reanalysis\",\n",
    "                \"variable\": variable,\n",
    "                \"year\": year,\n",
    "                \"month\": month,\n",
    "                \"day\": days,\n",
    "                \"area\": area,\n",
    "                \"time\": [\"00:00\"],\n",
    "                \"format\": \"netcdf\",\n",
    "               },\n",
    "               f\"D:/DATACLIMATE all/Temp day{year}-{month}.nc\"\n",
    "              )\n",
    "print(f\"le fichier est enregistré dans D:/DATACLIMATE all\")"
   ]
  },
  {
   "cell_type": "code",
   "execution_count": null,
   "id": "6233b503-31e4-42cc-aa65-0932350a1402",
   "metadata": {
    "scrolled": true
   },
   "outputs": [],
   "source": [
    "#combiner des netcdf files rainfall\n",
    "import xarray as xr\n",
    "import glob\n",
    "year1 = 2022\n",
    "year2 = 2023\n",
    "\n",
    "netcdfs = sorted(glob.glob(f\"D:/DATACLIMATE all/Precip all/{year1}-{year2}/*.nc\"))\n",
    "ds = xr.open_mfdataset(netcdfs, \n",
    "                       combine = \"by_coords\",\n",
    "                       chunks = {\"time\" :24} #24h\n",
    "                      )\n",
    "print(f\"{netcdfs}.../nprêt.......\")\n"
   ]
  },
  {
   "cell_type": "code",
   "execution_count": null,
   "id": "3199b642-6da8-4d15-9a66-f6ef3a71ec63",
   "metadata": {},
   "outputs": [],
   "source": [
    "ds.to_netcdf(f\"D:/DATACLIMATE all/Temp all/Precip all {year1}-{year2}.nc\")\n",
    "print(f\"{netcdfs}.../nFusion terminée\")"
   ]
  },
  {
   "cell_type": "markdown",
   "id": "74d56ad6-82ec-477e-96f5-3dcebf6b203b",
   "metadata": {},
   "source": [
    "# RELATIVE HUMIDITY 2024"
   ]
  },
  {
   "cell_type": "code",
   "execution_count": 1,
   "id": "b174532a-62a2-4582-8014-96c773c7614d",
   "metadata": {
    "scrolled": true
   },
   "outputs": [
    {
     "name": "stderr",
     "output_type": "stream",
     "text": [
      "2025-09-29 16:26:45,274 INFO [2025-09-03T00:00:00] To improve our C3S service, we need to hear from you! Please complete this very short [survey](https://confluence.ecmwf.int/x/E7uBEQ/). Thank you.\n",
      "2025-09-29 16:26:45,279 INFO [2024-09-26T00:00:00] Watch our [Forum](https://forum.ecmwf.int/) for Announcements, news and other discussed topics.\n"
     ]
    },
    {
     "name": "stdout",
     "output_type": "stream",
     "text": [
      "en cours 2024 - 07 - 01...\n"
     ]
    },
    {
     "name": "stderr",
     "output_type": "stream",
     "text": [
      "2025-09-29 16:26:46,860 INFO Request ID is a9df03e7-d315-416e-b66c-2286d98bc781\n",
      "2025-09-29 16:26:47,086 INFO status has been updated to accepted\n",
      "2025-09-29 16:27:10,596 INFO status has been updated to successful\n"
     ]
    },
    {
     "data": {
      "application/vnd.jupyter.widget-view+json": {
       "model_id": "c0c31fdeb4ed49c5b8b0004992c71fe3",
       "version_major": 2,
       "version_minor": 0
      },
      "text/plain": [
       "57e96bec884d3173527349bdab9e67da.nc:   0%|          | 0.00/3.68M [00:00<?, ?B/s]"
      ]
     },
     "metadata": {},
     "output_type": "display_data"
    },
    {
     "name": "stdout",
     "output_type": "stream",
     "text": [
      "en cours 2024 - 07 - 02...\n"
     ]
    },
    {
     "name": "stderr",
     "output_type": "stream",
     "text": [
      "2025-09-29 16:28:55,728 INFO Request ID is 10395693-aef9-4ced-b761-2d47401aa0cd\n",
      "2025-09-29 16:28:57,235 INFO status has been updated to accepted\n",
      "2025-09-29 16:29:06,517 INFO status has been updated to running\n",
      "2025-09-29 16:29:11,812 INFO status has been updated to successful\n"
     ]
    },
    {
     "data": {
      "application/vnd.jupyter.widget-view+json": {
       "model_id": "f93184db1458474bb962d5a51d02cc84",
       "version_major": 2,
       "version_minor": 0
      },
      "text/plain": [
       "f875ab8dededb573a7bfb653cae41fb1.nc:   0%|          | 0.00/3.67M [00:00<?, ?B/s]"
      ]
     },
     "metadata": {},
     "output_type": "display_data"
    },
    {
     "name": "stdout",
     "output_type": "stream",
     "text": [
      "en cours 2024 - 07 - 03...\n"
     ]
    },
    {
     "name": "stderr",
     "output_type": "stream",
     "text": [
      "2025-09-29 16:29:47,743 INFO Request ID is 3bb177b3-603b-4cad-84ad-9406f7c62e48\n",
      "2025-09-29 16:29:48,223 INFO status has been updated to accepted\n",
      "2025-09-29 16:30:02,763 INFO status has been updated to successful\n"
     ]
    },
    {
     "data": {
      "application/vnd.jupyter.widget-view+json": {
       "model_id": "6cf98d1e5bcc40c894d7c661d5dc18ca",
       "version_major": 2,
       "version_minor": 0
      },
      "text/plain": [
       "fe6ca3e0e061adfd811a400cf2682dc8.nc:   0%|          | 0.00/3.66M [00:00<?, ?B/s]"
      ]
     },
     "metadata": {},
     "output_type": "display_data"
    },
    {
     "name": "stdout",
     "output_type": "stream",
     "text": [
      "en cours 2024 - 07 - 04...\n"
     ]
    },
    {
     "name": "stderr",
     "output_type": "stream",
     "text": [
      "2025-09-29 16:34:07,603 INFO Request ID is 3fedcfa5-2648-4615-a6e5-ef556a553ffd\n",
      "2025-09-29 16:34:08,074 INFO status has been updated to accepted\n",
      "2025-09-29 16:34:14,774 INFO status has been updated to running\n",
      "2025-09-29 16:34:18,417 INFO status has been updated to successful\n"
     ]
    },
    {
     "data": {
      "application/vnd.jupyter.widget-view+json": {
       "model_id": "42241861d5c84070b65a357e6411d6da",
       "version_major": 2,
       "version_minor": 0
      },
      "text/plain": [
       "e687285912bae432724735ee02fbe52f.nc:   0%|          | 0.00/3.65M [00:00<?, ?B/s]"
      ]
     },
     "metadata": {},
     "output_type": "display_data"
    },
    {
     "name": "stdout",
     "output_type": "stream",
     "text": [
      "en cours 2024 - 07 - 05...\n"
     ]
    },
    {
     "name": "stderr",
     "output_type": "stream",
     "text": [
      "2025-09-29 16:36:42,313 INFO Request ID is 0e08d4a7-4669-4c7e-ab02-0555bc3e606e\n",
      "2025-09-29 16:36:42,534 INFO status has been updated to accepted\n",
      "2025-09-29 16:36:57,102 INFO status has been updated to running\n",
      "2025-09-29 16:37:04,933 INFO status has been updated to successful\n"
     ]
    },
    {
     "data": {
      "application/vnd.jupyter.widget-view+json": {
       "model_id": "00a0b8d7b6f2468082b6923943e3ee4e",
       "version_major": 2,
       "version_minor": 0
      },
      "text/plain": [
       "23aabde1b60e663156d8edda4f0cc068.nc:   0%|          | 0.00/3.64M [00:00<?, ?B/s]"
      ]
     },
     "metadata": {},
     "output_type": "display_data"
    },
    {
     "name": "stderr",
     "output_type": "stream",
     "text": [
      "Recovering from connection error [('Connection broken: IncompleteRead(2856256 bytes read, 958737 more expected)', IncompleteRead(2856256 bytes read, 958737 more expected))], attempt 1 of 500\n",
      "Retrying in 120 seconds\n"
     ]
    },
    {
     "data": {
      "application/vnd.jupyter.widget-view+json": {
       "model_id": "48ea21f8c3674b2fb423b2ff8f9dcdf0",
       "version_major": 2,
       "version_minor": 0
      },
      "text/plain": [
       "23aabde1b60e663156d8edda4f0cc068.nc:  55%|#####4    | 2.00M/3.64M [00:00<?, ?B/s]"
      ]
     },
     "metadata": {},
     "output_type": "display_data"
    },
    {
     "name": "stdout",
     "output_type": "stream",
     "text": [
      "en cours 2024 - 07 - 06...\n"
     ]
    },
    {
     "name": "stderr",
     "output_type": "stream",
     "text": [
      "2025-09-29 16:43:00,750 INFO Request ID is 81059951-4039-4539-89e1-325d85e1f923\n",
      "2025-09-29 16:43:01,054 INFO status has been updated to accepted\n",
      "2025-09-29 16:43:15,644 INFO status has been updated to successful\n"
     ]
    },
    {
     "data": {
      "application/vnd.jupyter.widget-view+json": {
       "model_id": "50dd2952fe0740d0992405ca20cf77f0",
       "version_major": 2,
       "version_minor": 0
      },
      "text/plain": [
       "ed8fd2888cae29ea06007bc66dc3432d.nc:   0%|          | 0.00/3.61M [00:00<?, ?B/s]"
      ]
     },
     "metadata": {},
     "output_type": "display_data"
    },
    {
     "name": "stdout",
     "output_type": "stream",
     "text": [
      "en cours 2024 - 07 - 07...\n"
     ]
    },
    {
     "name": "stderr",
     "output_type": "stream",
     "text": [
      "2025-09-29 16:44:09,638 INFO Request ID is b5ef1b60-1b0d-40bf-9440-920b95ea5af7\n",
      "2025-09-29 16:44:09,880 INFO status has been updated to accepted\n",
      "2025-09-29 16:44:18,988 INFO status has been updated to running\n",
      "2025-09-29 16:44:24,290 INFO status has been updated to successful\n"
     ]
    },
    {
     "data": {
      "application/vnd.jupyter.widget-view+json": {
       "model_id": "36eb3802fbef4197acd789a393879585",
       "version_major": 2,
       "version_minor": 0
      },
      "text/plain": [
       "8ef4897bd55fcf49233a6b743dc6d6ae.nc:   0%|          | 0.00/3.58M [00:00<?, ?B/s]"
      ]
     },
     "metadata": {},
     "output_type": "display_data"
    },
    {
     "name": "stdout",
     "output_type": "stream",
     "text": [
      "en cours 2024 - 07 - 08...\n"
     ]
    },
    {
     "name": "stderr",
     "output_type": "stream",
     "text": [
      "2025-09-29 16:46:25,536 INFO Request ID is c9f9d108-85dc-4bf7-aa68-b33d429585ef\n",
      "2025-09-29 16:46:25,766 INFO status has been updated to accepted\n",
      "2025-09-29 16:46:34,940 INFO status has been updated to successful\n"
     ]
    },
    {
     "data": {
      "application/vnd.jupyter.widget-view+json": {
       "model_id": "f72927dbab9d466aafd604c258cd4d77",
       "version_major": 2,
       "version_minor": 0
      },
      "text/plain": [
       "7140a7ab26704e5ea30660bad8fac07e.nc:   0%|          | 0.00/3.61M [00:00<?, ?B/s]"
      ]
     },
     "metadata": {},
     "output_type": "display_data"
    },
    {
     "name": "stdout",
     "output_type": "stream",
     "text": [
      "en cours 2024 - 07 - 09...\n"
     ]
    },
    {
     "name": "stderr",
     "output_type": "stream",
     "text": [
      "2025-09-29 16:49:15,225 INFO Request ID is ad6edb23-03a7-42d2-b02c-382f9900e7c5\n",
      "2025-09-29 16:49:15,513 INFO status has been updated to accepted\n",
      "2025-09-29 16:49:24,807 INFO status has been updated to successful\n"
     ]
    },
    {
     "data": {
      "application/vnd.jupyter.widget-view+json": {
       "model_id": "fbd38f749aae43a3b9fafc171e8e9e26",
       "version_major": 2,
       "version_minor": 0
      },
      "text/plain": [
       "2ba349c610efce28244fa94b3bf820df.nc:   0%|          | 0.00/3.61M [00:00<?, ?B/s]"
      ]
     },
     "metadata": {},
     "output_type": "display_data"
    },
    {
     "name": "stdout",
     "output_type": "stream",
     "text": [
      "en cours 2024 - 07 - 10...\n"
     ]
    },
    {
     "name": "stderr",
     "output_type": "stream",
     "text": [
      "2025-09-29 16:50:40,718 INFO Request ID is e401f346-8959-4800-bbd5-051a1cdb159c\n",
      "2025-09-29 16:50:40,955 INFO status has been updated to accepted\n",
      "2025-09-29 16:50:50,166 INFO status has been updated to running\n",
      "2025-09-29 16:50:55,453 INFO status has been updated to successful\n"
     ]
    },
    {
     "data": {
      "application/vnd.jupyter.widget-view+json": {
       "model_id": "4de290e33c2e4ec4ba3b02193bb74b07",
       "version_major": 2,
       "version_minor": 0
      },
      "text/plain": [
       "d8cb5f41a012c85abf71b9db8e5e0c71.nc:   0%|          | 0.00/3.63M [00:00<?, ?B/s]"
      ]
     },
     "metadata": {},
     "output_type": "display_data"
    },
    {
     "name": "stdout",
     "output_type": "stream",
     "text": [
      "en cours 2024 - 07 - 11...\n"
     ]
    },
    {
     "name": "stderr",
     "output_type": "stream",
     "text": [
      "2025-09-29 16:51:54,042 INFO Request ID is 4ae5a2cb-a593-458a-a67a-15ddec58a35d\n",
      "2025-09-29 16:51:54,333 INFO status has been updated to accepted\n",
      "2025-09-29 16:52:03,573 INFO status has been updated to running\n",
      "2025-09-29 16:52:09,839 INFO status has been updated to successful\n"
     ]
    },
    {
     "data": {
      "application/vnd.jupyter.widget-view+json": {
       "model_id": "f64dd00af81a4e3aa3cfab4cea1097b2",
       "version_major": 2,
       "version_minor": 0
      },
      "text/plain": [
       "56fa809c1c6029e583a311b0be8ba204.nc:   0%|          | 0.00/3.63M [00:00<?, ?B/s]"
      ]
     },
     "metadata": {},
     "output_type": "display_data"
    },
    {
     "name": "stdout",
     "output_type": "stream",
     "text": [
      "en cours 2024 - 07 - 12...\n"
     ]
    },
    {
     "name": "stderr",
     "output_type": "stream",
     "text": [
      "2025-09-29 16:53:02,374 INFO Request ID is 789366e0-2d78-49f7-91ef-dacf6e4d11f2\n",
      "2025-09-29 16:53:02,634 INFO status has been updated to accepted\n",
      "2025-09-29 16:53:25,051 INFO status has been updated to successful\n"
     ]
    },
    {
     "data": {
      "application/vnd.jupyter.widget-view+json": {
       "model_id": "04ae872da8814ca5aa44f60f0d471c21",
       "version_major": 2,
       "version_minor": 0
      },
      "text/plain": [
       "da60e93c575df46ef754f7e3980407c4.nc:   0%|          | 0.00/3.65M [00:00<?, ?B/s]"
      ]
     },
     "metadata": {},
     "output_type": "display_data"
    },
    {
     "name": "stdout",
     "output_type": "stream",
     "text": [
      "en cours 2024 - 07 - 13...\n"
     ]
    },
    {
     "name": "stderr",
     "output_type": "stream",
     "text": [
      "2025-09-29 16:55:00,050 INFO Request ID is 293a2e4c-c119-47a3-8069-e2a8d76b49ca\n",
      "2025-09-29 16:55:00,285 INFO status has been updated to accepted\n",
      "Recovering from connection error [('Connection aborted.', RemoteDisconnected('Remote end closed connection without response'))], attempt 1 of 500\n",
      "Retrying in 120 seconds\n",
      "Recovering from connection error [HTTPSConnectionPool(host='cds.climate.copernicus.eu', port=443): Max retries exceeded with url: /api/retrieve/v1/jobs/293a2e4c-c119-47a3-8069-e2a8d76b49ca?log=True&request=True (Caused by NameResolutionError(\"<urllib3.connection.HTTPSConnection object at 0x000002EA377E7B60>: Failed to resolve 'cds.climate.copernicus.eu' ([Errno 11001] getaddrinfo failed)\"))], attempt 2 of 500\n",
      "Retrying in 120 seconds\n",
      "2025-09-29 16:59:29,487 INFO status has been updated to successful\n"
     ]
    },
    {
     "data": {
      "application/vnd.jupyter.widget-view+json": {
       "model_id": "2d305dc311bd429684ed556272a08758",
       "version_major": 2,
       "version_minor": 0
      },
      "text/plain": [
       "720e288aa8628921c86b2b4bd789be3a.nc:   0%|          | 0.00/3.65M [00:00<?, ?B/s]"
      ]
     },
     "metadata": {},
     "output_type": "display_data"
    },
    {
     "name": "stdout",
     "output_type": "stream",
     "text": [
      "en cours 2024 - 07 - 14...\n"
     ]
    },
    {
     "name": "stderr",
     "output_type": "stream",
     "text": [
      "2025-09-29 16:59:34,199 INFO Request ID is 85b2f7bb-c030-4190-87c6-d3fd1dc77abe\n",
      "2025-09-29 16:59:34,515 INFO status has been updated to accepted\n",
      "2025-09-29 16:59:49,019 INFO status has been updated to successful\n"
     ]
    },
    {
     "data": {
      "application/vnd.jupyter.widget-view+json": {
       "model_id": "0153692172bd4acc9d9ff5938c471c89",
       "version_major": 2,
       "version_minor": 0
      },
      "text/plain": [
       "3bc4c16189e64c11b9f8939ced932ecc.nc:   0%|          | 0.00/3.65M [00:00<?, ?B/s]"
      ]
     },
     "metadata": {},
     "output_type": "display_data"
    },
    {
     "name": "stdout",
     "output_type": "stream",
     "text": [
      "en cours 2024 - 07 - 15...\n"
     ]
    },
    {
     "name": "stderr",
     "output_type": "stream",
     "text": [
      "2025-09-29 16:59:53,840 INFO Request ID is e3d25a63-f4bb-4837-9d96-6da9cda84810\n",
      "2025-09-29 16:59:54,136 INFO status has been updated to accepted\n",
      "2025-09-29 17:00:03,373 INFO status has been updated to successful\n"
     ]
    },
    {
     "data": {
      "application/vnd.jupyter.widget-view+json": {
       "model_id": "3af540cb2f564a25bab0284b0e02f03a",
       "version_major": 2,
       "version_minor": 0
      },
      "text/plain": [
       "75722bd2cd6cc9ce1ff14a468b9b2bba.nc:   0%|          | 0.00/3.64M [00:00<?, ?B/s]"
      ]
     },
     "metadata": {},
     "output_type": "display_data"
    },
    {
     "name": "stdout",
     "output_type": "stream",
     "text": [
      "en cours 2024 - 07 - 16...\n"
     ]
    },
    {
     "name": "stderr",
     "output_type": "stream",
     "text": [
      "2025-09-29 17:00:08,601 INFO Request ID is 5fad0203-2814-48f9-b909-a8b6766a98c7\n",
      "2025-09-29 17:00:08,852 INFO status has been updated to accepted\n",
      "2025-09-29 17:00:23,488 INFO status has been updated to successful\n"
     ]
    },
    {
     "data": {
      "application/vnd.jupyter.widget-view+json": {
       "model_id": "5f62844ce5a946e4a6c402b04d497e7f",
       "version_major": 2,
       "version_minor": 0
      },
      "text/plain": [
       "afc4a63e61850a525f8cb687bc22cf07.nc:   0%|          | 0.00/3.60M [00:00<?, ?B/s]"
      ]
     },
     "metadata": {},
     "output_type": "display_data"
    },
    {
     "name": "stdout",
     "output_type": "stream",
     "text": [
      "en cours 2024 - 07 - 17...\n"
     ]
    },
    {
     "name": "stderr",
     "output_type": "stream",
     "text": [
      "2025-09-29 17:00:50,389 INFO Request ID is 5ae1c1e4-3d66-499a-ace1-12fabab4128e\n",
      "2025-09-29 17:00:50,666 INFO status has been updated to accepted\n",
      "2025-09-29 17:01:05,520 INFO status has been updated to successful\n"
     ]
    },
    {
     "data": {
      "application/vnd.jupyter.widget-view+json": {
       "model_id": "04d374de850f490cac2a3738147e5868",
       "version_major": 2,
       "version_minor": 0
      },
      "text/plain": [
       "7ef244c1aa5f22b3d2425a4fd5963de6.nc:   0%|          | 0.00/3.59M [00:00<?, ?B/s]"
      ]
     },
     "metadata": {},
     "output_type": "display_data"
    },
    {
     "name": "stdout",
     "output_type": "stream",
     "text": [
      "en cours 2024 - 07 - 18...\n"
     ]
    },
    {
     "name": "stderr",
     "output_type": "stream",
     "text": [
      "2025-09-29 17:01:09,881 INFO Request ID is 191139e0-008c-4ce0-807a-5c90d5765776\n",
      "2025-09-29 17:01:10,157 INFO status has been updated to accepted\n",
      "2025-09-29 17:01:44,239 INFO status has been updated to successful\n"
     ]
    },
    {
     "data": {
      "application/vnd.jupyter.widget-view+json": {
       "model_id": "4a77839957dc43a2b5cf36cbbb65df18",
       "version_major": 2,
       "version_minor": 0
      },
      "text/plain": [
       "5671744ad67b6e0d8cbcbcf6ee582276.nc:   0%|          | 0.00/3.63M [00:00<?, ?B/s]"
      ]
     },
     "metadata": {},
     "output_type": "display_data"
    },
    {
     "name": "stdout",
     "output_type": "stream",
     "text": [
      "en cours 2024 - 07 - 19...\n"
     ]
    },
    {
     "name": "stderr",
     "output_type": "stream",
     "text": [
      "2025-09-29 17:02:06,313 INFO Request ID is 6533c05f-76e6-4206-8e89-4ccc1b172043\n",
      "2025-09-29 17:02:06,640 INFO status has been updated to accepted\n",
      "Recovering from connection error [('Connection aborted.', RemoteDisconnected('Remote end closed connection without response'))], attempt 1 of 500\n",
      "Retrying in 120 seconds\n",
      "2025-09-29 17:04:33,101 INFO status has been updated to successful\n"
     ]
    },
    {
     "data": {
      "application/vnd.jupyter.widget-view+json": {
       "model_id": "5afe880d11794053ace466062de64912",
       "version_major": 2,
       "version_minor": 0
      },
      "text/plain": [
       "3d3a08e9ce680f4512db86356dcadbea.nc:   0%|          | 0.00/3.63M [00:00<?, ?B/s]"
      ]
     },
     "metadata": {},
     "output_type": "display_data"
    },
    {
     "name": "stdout",
     "output_type": "stream",
     "text": [
      "en cours 2024 - 07 - 20...\n"
     ]
    },
    {
     "name": "stderr",
     "output_type": "stream",
     "text": [
      "2025-09-29 17:04:39,302 INFO Request ID is 688be436-0a8e-4d14-b8f9-0e91e9553a28\n",
      "2025-09-29 17:04:39,571 INFO status has been updated to accepted\n",
      "2025-09-29 17:04:54,137 INFO status has been updated to successful\n"
     ]
    },
    {
     "data": {
      "application/vnd.jupyter.widget-view+json": {
       "model_id": "b56724db7c5a46329c62f5c4f3a39aeb",
       "version_major": 2,
       "version_minor": 0
      },
      "text/plain": [
       "68f8968c8fcabf54e9d7739824255966.nc:   0%|          | 0.00/3.60M [00:00<?, ?B/s]"
      ]
     },
     "metadata": {},
     "output_type": "display_data"
    },
    {
     "name": "stdout",
     "output_type": "stream",
     "text": [
      "en cours 2024 - 07 - 21...\n"
     ]
    },
    {
     "name": "stderr",
     "output_type": "stream",
     "text": [
      "2025-09-29 17:07:18,556 INFO Request ID is 4a4031ea-e3fb-4642-ae57-d307bd1c9327\n",
      "2025-09-29 17:07:18,798 INFO status has been updated to accepted\n",
      "2025-09-29 17:07:33,169 INFO status has been updated to successful\n"
     ]
    },
    {
     "data": {
      "application/vnd.jupyter.widget-view+json": {
       "model_id": "3f929e550cdc42f489a2e13bd4c68e87",
       "version_major": 2,
       "version_minor": 0
      },
      "text/plain": [
       "4db69eaf4f1e6240e06cfae3367bbbd8.nc:   0%|          | 0.00/3.66M [00:00<?, ?B/s]"
      ]
     },
     "metadata": {},
     "output_type": "display_data"
    },
    {
     "name": "stdout",
     "output_type": "stream",
     "text": [
      "en cours 2024 - 07 - 22...\n"
     ]
    },
    {
     "name": "stderr",
     "output_type": "stream",
     "text": [
      "2025-09-29 17:07:38,134 INFO Request ID is 0907b6e9-4e29-4cc9-8e67-39793bc3fa7e\n",
      "2025-09-29 17:07:38,353 INFO status has been updated to accepted\n",
      "2025-09-29 17:07:52,628 INFO status has been updated to successful\n"
     ]
    },
    {
     "data": {
      "application/vnd.jupyter.widget-view+json": {
       "model_id": "f0ae1f11d3714217980531bc1297e4a8",
       "version_major": 2,
       "version_minor": 0
      },
      "text/plain": [
       "fabe8931c6eff81f80cc10d0c45883c2.nc:   0%|          | 0.00/3.69M [00:00<?, ?B/s]"
      ]
     },
     "metadata": {},
     "output_type": "display_data"
    },
    {
     "name": "stdout",
     "output_type": "stream",
     "text": [
      "en cours 2024 - 07 - 23...\n"
     ]
    },
    {
     "name": "stderr",
     "output_type": "stream",
     "text": [
      "2025-09-29 17:07:57,153 INFO Request ID is 77d00905-18e6-44e0-8b47-87935104f7eb\n",
      "2025-09-29 17:07:57,470 INFO status has been updated to accepted\n",
      "2025-09-29 17:08:19,822 INFO status has been updated to successful\n"
     ]
    },
    {
     "data": {
      "application/vnd.jupyter.widget-view+json": {
       "model_id": "566c3f3004364c7c8c338ea4187d3354",
       "version_major": 2,
       "version_minor": 0
      },
      "text/plain": [
       "e60a3dcd31d936104c63c7de44b70a5b.nc:   0%|          | 0.00/3.68M [00:00<?, ?B/s]"
      ]
     },
     "metadata": {},
     "output_type": "display_data"
    },
    {
     "name": "stdout",
     "output_type": "stream",
     "text": [
      "en cours 2024 - 07 - 24...\n"
     ]
    },
    {
     "name": "stderr",
     "output_type": "stream",
     "text": [
      "2025-09-29 17:10:51,153 INFO Request ID is 46cd6643-47f8-4fe7-abd7-f51321dcb175\n",
      "2025-09-29 17:10:51,448 INFO status has been updated to accepted\n",
      "2025-09-29 17:11:06,249 INFO status has been updated to successful\n"
     ]
    },
    {
     "data": {
      "application/vnd.jupyter.widget-view+json": {
       "model_id": "c593a9ced75b4af29059983ca57d9861",
       "version_major": 2,
       "version_minor": 0
      },
      "text/plain": [
       "9b414ef70f64d04642524c51db3bc35c.nc:   0%|          | 0.00/3.64M [00:00<?, ?B/s]"
      ]
     },
     "metadata": {},
     "output_type": "display_data"
    },
    {
     "name": "stdout",
     "output_type": "stream",
     "text": [
      "en cours 2024 - 07 - 25...\n"
     ]
    },
    {
     "name": "stderr",
     "output_type": "stream",
     "text": [
      "2025-09-29 17:11:14,309 INFO Request ID is 7215d159-e8b4-4a82-a084-42f71f0b1140\n",
      "2025-09-29 17:11:14,597 INFO status has been updated to accepted\n",
      "2025-09-29 17:11:23,729 INFO status has been updated to running\n",
      "2025-09-29 17:11:29,091 INFO status has been updated to successful\n"
     ]
    },
    {
     "data": {
      "application/vnd.jupyter.widget-view+json": {
       "model_id": "011b93d4f5d440a99092276543ab5b92",
       "version_major": 2,
       "version_minor": 0
      },
      "text/plain": [
       "6805d03e61f51f2b5c7c25f923f75e34.nc:   0%|          | 0.00/3.60M [00:00<?, ?B/s]"
      ]
     },
     "metadata": {},
     "output_type": "display_data"
    },
    {
     "name": "stdout",
     "output_type": "stream",
     "text": [
      "en cours 2024 - 07 - 26...\n"
     ]
    },
    {
     "name": "stderr",
     "output_type": "stream",
     "text": [
      "2025-09-29 17:13:14,268 INFO Request ID is a5fdc2ee-0008-4fd3-a6ff-a92fd149cf48\n",
      "2025-09-29 17:13:14,550 INFO status has been updated to accepted\n",
      "2025-09-29 17:13:37,210 INFO status has been updated to successful\n"
     ]
    },
    {
     "data": {
      "application/vnd.jupyter.widget-view+json": {
       "model_id": "f86fb9c4fa4642f2802826b63bd66c56",
       "version_major": 2,
       "version_minor": 0
      },
      "text/plain": [
       "8afbc0403f1996d63766b33c6ce1d7a7.nc:   0%|          | 0.00/3.60M [00:00<?, ?B/s]"
      ]
     },
     "metadata": {},
     "output_type": "display_data"
    },
    {
     "name": "stdout",
     "output_type": "stream",
     "text": [
      "en cours 2024 - 07 - 27...\n"
     ]
    },
    {
     "name": "stderr",
     "output_type": "stream",
     "text": [
      "2025-09-29 17:13:42,364 INFO Request ID is f9035e7b-9f53-4ccd-879c-8b5b62c45205\n",
      "2025-09-29 17:13:42,646 INFO status has been updated to accepted\n",
      "2025-09-29 17:13:51,801 INFO status has been updated to successful\n"
     ]
    },
    {
     "data": {
      "application/vnd.jupyter.widget-view+json": {
       "model_id": "3e9e9eaf5f98415faa20bcd5607105cb",
       "version_major": 2,
       "version_minor": 0
      },
      "text/plain": [
       "90f179adedc658ed1d45653e06f572fc.nc:   0%|          | 0.00/3.60M [00:00<?, ?B/s]"
      ]
     },
     "metadata": {},
     "output_type": "display_data"
    },
    {
     "name": "stdout",
     "output_type": "stream",
     "text": [
      "en cours 2024 - 07 - 28...\n"
     ]
    },
    {
     "name": "stderr",
     "output_type": "stream",
     "text": [
      "2025-09-29 17:14:00,213 INFO Request ID is 986dde99-d8d9-4129-9708-8419c0a16dd0\n",
      "2025-09-29 17:14:00,459 INFO status has been updated to accepted\n",
      "2025-09-29 17:14:09,675 INFO status has been updated to successful\n"
     ]
    },
    {
     "data": {
      "application/vnd.jupyter.widget-view+json": {
       "model_id": "ac9b9b64f76744f2a8ee0817be78615d",
       "version_major": 2,
       "version_minor": 0
      },
      "text/plain": [
       "28cc2ed678c84523fafb7548835adb0f.nc:   0%|          | 0.00/3.61M [00:00<?, ?B/s]"
      ]
     },
     "metadata": {},
     "output_type": "display_data"
    },
    {
     "name": "stdout",
     "output_type": "stream",
     "text": [
      "en cours 2024 - 07 - 29...\n"
     ]
    },
    {
     "name": "stderr",
     "output_type": "stream",
     "text": [
      "2025-09-29 17:14:14,218 INFO Request ID is 34766f3a-7779-43f3-b2eb-cbe4b04ac25d\n",
      "2025-09-29 17:14:14,475 INFO status has been updated to accepted\n",
      "2025-09-29 17:14:28,962 INFO status has been updated to successful\n"
     ]
    },
    {
     "data": {
      "application/vnd.jupyter.widget-view+json": {
       "model_id": "07679ab1a0f246a1bffcd305e1343791",
       "version_major": 2,
       "version_minor": 0
      },
      "text/plain": [
       "c619b4075185f6c4f35362599733c8c3.nc:   0%|          | 0.00/3.68M [00:00<?, ?B/s]"
      ]
     },
     "metadata": {},
     "output_type": "display_data"
    },
    {
     "name": "stdout",
     "output_type": "stream",
     "text": [
      "en cours 2024 - 07 - 30...\n"
     ]
    },
    {
     "name": "stderr",
     "output_type": "stream",
     "text": [
      "2025-09-29 17:14:34,205 INFO Request ID is 90526378-a5ab-40f7-a100-b4d13ec752d1\n",
      "2025-09-29 17:14:34,499 INFO status has been updated to accepted\n",
      "2025-09-29 17:14:44,046 INFO status has been updated to running\n",
      "2025-09-29 17:14:57,258 INFO status has been updated to successful\n"
     ]
    },
    {
     "data": {
      "application/vnd.jupyter.widget-view+json": {
       "model_id": "e7e9a701bd7d4a0b841ec66d4955617d",
       "version_major": 2,
       "version_minor": 0
      },
      "text/plain": [
       "95efde5772a95aca53d5b9c673817554.nc:   0%|          | 0.00/3.72M [00:00<?, ?B/s]"
      ]
     },
     "metadata": {},
     "output_type": "display_data"
    },
    {
     "name": "stdout",
     "output_type": "stream",
     "text": [
      "en cours 2024 - 08 - 01...\n"
     ]
    },
    {
     "name": "stderr",
     "output_type": "stream",
     "text": [
      "2025-09-29 17:15:03,612 INFO Request ID is 4a082d6e-0975-4064-9669-74371603592a\n",
      "2025-09-29 17:15:03,862 INFO status has been updated to accepted\n",
      "2025-09-29 17:15:13,135 INFO status has been updated to successful\n"
     ]
    },
    {
     "data": {
      "application/vnd.jupyter.widget-view+json": {
       "model_id": "d030c9cbcfbd48a589c356d16ee1f5fb",
       "version_major": 2,
       "version_minor": 0
      },
      "text/plain": [
       "407fa52ef92d49a81bf7dbb62930bc2b.nc:   0%|          | 0.00/3.69M [00:00<?, ?B/s]"
      ]
     },
     "metadata": {},
     "output_type": "display_data"
    },
    {
     "name": "stdout",
     "output_type": "stream",
     "text": [
      "en cours 2024 - 08 - 02...\n"
     ]
    },
    {
     "name": "stderr",
     "output_type": "stream",
     "text": [
      "2025-09-29 17:15:23,455 INFO Request ID is de919a70-18a4-4833-b338-9c1180c6bece\n",
      "2025-09-29 17:15:23,722 INFO status has been updated to accepted\n",
      "2025-09-29 17:15:38,302 INFO status has been updated to running\n",
      "2025-09-29 17:15:46,436 INFO status has been updated to successful\n"
     ]
    },
    {
     "data": {
      "application/vnd.jupyter.widget-view+json": {
       "model_id": "6ea8c7bfef5a4e95ad0cb6a3710049dd",
       "version_major": 2,
       "version_minor": 0
      },
      "text/plain": [
       "8febc2a143e019446504eff3e32b30b5.nc:   0%|          | 0.00/3.71M [00:00<?, ?B/s]"
      ]
     },
     "metadata": {},
     "output_type": "display_data"
    },
    {
     "name": "stdout",
     "output_type": "stream",
     "text": [
      "en cours 2024 - 08 - 03...\n"
     ]
    },
    {
     "name": "stderr",
     "output_type": "stream",
     "text": [
      "2025-09-29 17:17:50,476 INFO Request ID is 9e18bca6-4add-44c3-aa00-5ee506bbf9c4\n",
      "2025-09-29 17:17:50,714 INFO status has been updated to accepted\n",
      "2025-09-29 17:18:05,342 INFO status has been updated to successful\n"
     ]
    },
    {
     "data": {
      "application/vnd.jupyter.widget-view+json": {
       "model_id": "0939ff478e0e4553b4fcd8bdcf78e5c6",
       "version_major": 2,
       "version_minor": 0
      },
      "text/plain": [
       "5d199497912c96a3c1d905f668945d98.nc:   0%|          | 0.00/3.72M [00:00<?, ?B/s]"
      ]
     },
     "metadata": {},
     "output_type": "display_data"
    },
    {
     "name": "stdout",
     "output_type": "stream",
     "text": [
      "en cours 2024 - 08 - 04...\n"
     ]
    },
    {
     "name": "stderr",
     "output_type": "stream",
     "text": [
      "2025-09-29 17:18:12,162 INFO Request ID is 5c30954d-4c6b-45a0-b4fa-891084afb690\n",
      "2025-09-29 17:18:12,406 INFO status has been updated to accepted\n",
      "2025-09-29 17:18:26,823 INFO status has been updated to successful\n"
     ]
    },
    {
     "data": {
      "application/vnd.jupyter.widget-view+json": {
       "model_id": "9a4d73f1efcd419187685e67506f05fc",
       "version_major": 2,
       "version_minor": 0
      },
      "text/plain": [
       "95ebdfbe20e63ca28287f36bf5a89e8.nc:   0%|          | 0.00/3.70M [00:00<?, ?B/s]"
      ]
     },
     "metadata": {},
     "output_type": "display_data"
    },
    {
     "name": "stdout",
     "output_type": "stream",
     "text": [
      "en cours 2024 - 08 - 05...\n"
     ]
    },
    {
     "name": "stderr",
     "output_type": "stream",
     "text": [
      "2025-09-29 17:18:54,655 INFO Request ID is 42944d81-e746-4484-803d-7bf0746b7d40\n",
      "2025-09-29 17:18:54,885 INFO status has been updated to accepted\n",
      "2025-09-29 17:19:04,062 INFO status has been updated to successful\n"
     ]
    },
    {
     "data": {
      "application/vnd.jupyter.widget-view+json": {
       "model_id": "d0807e2ee930494d97ce44e5e77094f6",
       "version_major": 2,
       "version_minor": 0
      },
      "text/plain": [
       "b92989ceec69d7bec4574af38525461f.nc:   0%|          | 0.00/3.68M [00:00<?, ?B/s]"
      ]
     },
     "metadata": {},
     "output_type": "display_data"
    },
    {
     "name": "stderr",
     "output_type": "stream",
     "text": [
      "Recovering from connection error [HTTPSConnectionPool(host='object-store.os-api.cci2.ecmwf.int', port=443): Read timed out.], attempt 1 of 500\n",
      "Retrying in 120 seconds\n"
     ]
    },
    {
     "data": {
      "application/vnd.jupyter.widget-view+json": {
       "model_id": "3526054a7ba841b4b55b14d67f1e694b",
       "version_major": 2,
       "version_minor": 0
      },
      "text/plain": [
       "b92989ceec69d7bec4574af38525461f.nc:  82%|########1 | 3.00M/3.68M [00:00<?, ?B/s]"
      ]
     },
     "metadata": {},
     "output_type": "display_data"
    },
    {
     "name": "stdout",
     "output_type": "stream",
     "text": [
      "en cours 2024 - 08 - 06...\n"
     ]
    },
    {
     "name": "stderr",
     "output_type": "stream",
     "text": [
      "2025-09-29 17:41:25,507 INFO Request ID is d16045f3-4228-48da-8b06-8985221a2e3b\n",
      "2025-09-29 17:41:25,765 INFO status has been updated to accepted\n",
      "2025-09-29 17:41:40,265 INFO status has been updated to successful\n"
     ]
    },
    {
     "data": {
      "application/vnd.jupyter.widget-view+json": {
       "model_id": "1d8313db9156472fbb00f38dd851cf30",
       "version_major": 2,
       "version_minor": 0
      },
      "text/plain": [
       "33fa6f4e39ea501ea37eac15c68d45b1.nc:   0%|          | 0.00/3.66M [00:00<?, ?B/s]"
      ]
     },
     "metadata": {},
     "output_type": "display_data"
    },
    {
     "name": "stdout",
     "output_type": "stream",
     "text": [
      "en cours 2024 - 08 - 07...\n"
     ]
    },
    {
     "name": "stderr",
     "output_type": "stream",
     "text": [
      "2025-09-29 17:42:00,305 INFO Request ID is b671ef59-a9b1-4c67-9b38-4647aa80ebcf\n",
      "2025-09-29 17:42:00,535 INFO status has been updated to accepted\n",
      "2025-09-29 17:42:14,974 INFO status has been updated to successful\n"
     ]
    },
    {
     "data": {
      "application/vnd.jupyter.widget-view+json": {
       "model_id": "2c2a0a20007e4253834551de6ff37c0c",
       "version_major": 2,
       "version_minor": 0
      },
      "text/plain": [
       "cd0d5801aa5c5b372284b4f25986b87d.nc:   0%|          | 0.00/3.70M [00:00<?, ?B/s]"
      ]
     },
     "metadata": {},
     "output_type": "display_data"
    },
    {
     "name": "stdout",
     "output_type": "stream",
     "text": [
      "en cours 2024 - 08 - 08...\n"
     ]
    },
    {
     "name": "stderr",
     "output_type": "stream",
     "text": [
      "2025-09-29 17:42:55,701 INFO Request ID is ba0e6cac-518a-4ccb-8d3a-e2a3cbc29925\n",
      "2025-09-29 17:42:55,925 INFO status has been updated to accepted\n",
      "2025-09-29 17:43:05,007 INFO status has been updated to running\n",
      "2025-09-29 17:43:10,310 INFO status has been updated to successful\n"
     ]
    },
    {
     "data": {
      "application/vnd.jupyter.widget-view+json": {
       "model_id": "8610c5b40a224c30b68a63c885f4f0f6",
       "version_major": 2,
       "version_minor": 0
      },
      "text/plain": [
       "3b220e7825a9afa3915fc7dbb4b4032.nc:   0%|          | 0.00/3.69M [00:00<?, ?B/s]"
      ]
     },
     "metadata": {},
     "output_type": "display_data"
    },
    {
     "name": "stdout",
     "output_type": "stream",
     "text": [
      "en cours 2024 - 08 - 09...\n"
     ]
    },
    {
     "name": "stderr",
     "output_type": "stream",
     "text": [
      "2025-09-29 17:43:37,820 INFO Request ID is 1488919f-1f1e-438a-89c9-92b0aaf89c54\n",
      "2025-09-29 17:43:38,066 INFO status has been updated to accepted\n",
      "2025-09-29 17:43:52,746 INFO status has been updated to successful\n"
     ]
    },
    {
     "data": {
      "application/vnd.jupyter.widget-view+json": {
       "model_id": "0d9c54616b664394a8309490e25cc68e",
       "version_major": 2,
       "version_minor": 0
      },
      "text/plain": [
       "253a8b35016287dd4f39ef0620b096d7.nc:   0%|          | 0.00/3.66M [00:00<?, ?B/s]"
      ]
     },
     "metadata": {},
     "output_type": "display_data"
    },
    {
     "name": "stdout",
     "output_type": "stream",
     "text": [
      "en cours 2024 - 08 - 10...\n"
     ]
    },
    {
     "name": "stderr",
     "output_type": "stream",
     "text": [
      "2025-09-29 17:44:02,954 INFO Request ID is 635a2568-534a-47b0-8dbb-27d10fbaa24c\n",
      "2025-09-29 17:44:03,166 INFO status has been updated to accepted\n",
      "2025-09-29 17:44:37,306 INFO status has been updated to successful\n"
     ]
    },
    {
     "data": {
      "application/vnd.jupyter.widget-view+json": {
       "model_id": "26b059f05c0c47a597bed06ff9f4da61",
       "version_major": 2,
       "version_minor": 0
      },
      "text/plain": [
       "582382364d8f9bbfdd07fafc5ec9b1cc.nc:   0%|          | 0.00/3.63M [00:00<?, ?B/s]"
      ]
     },
     "metadata": {},
     "output_type": "display_data"
    },
    {
     "name": "stderr",
     "output_type": "stream",
     "text": [
      "Recovering from connection error [('Connection broken: IncompleteRead(343040 bytes read, 3468461 more expected)', IncompleteRead(343040 bytes read, 3468461 more expected))], attempt 1 of 500\n",
      "Retrying in 120 seconds\n"
     ]
    },
    {
     "data": {
      "application/vnd.jupyter.widget-view+json": {
       "model_id": "93625b5183fb4d2d976fa417dffc7eb1",
       "version_major": 2,
       "version_minor": 0
      },
      "text/plain": [
       "582382364d8f9bbfdd07fafc5ec9b1cc.nc:   0%|          | 0.00/3.63M [00:00<?, ?B/s]"
      ]
     },
     "metadata": {},
     "output_type": "display_data"
    },
    {
     "name": "stdout",
     "output_type": "stream",
     "text": [
      "en cours 2024 - 08 - 11...\n"
     ]
    },
    {
     "name": "stderr",
     "output_type": "stream",
     "text": [
      "2025-09-29 17:47:45,728 INFO Request ID is 9ac4ab82-1441-434c-ada1-407c556f4c28\n",
      "2025-09-29 17:47:46,004 INFO status has been updated to accepted\n",
      "2025-09-29 17:47:55,406 INFO status has been updated to running\n",
      "2025-09-29 17:48:00,796 INFO status has been updated to successful\n"
     ]
    },
    {
     "data": {
      "application/vnd.jupyter.widget-view+json": {
       "model_id": "3d7cacc7c57d4f2e91736234531e8712",
       "version_major": 2,
       "version_minor": 0
      },
      "text/plain": [
       "b4e0f8b2295c5794dd970004c0db4804.nc:   0%|          | 0.00/3.62M [00:00<?, ?B/s]"
      ]
     },
     "metadata": {},
     "output_type": "display_data"
    },
    {
     "name": "stderr",
     "output_type": "stream",
     "text": [
      "Recovering from connection error [('Connection broken: IncompleteRead(2023872 bytes read, 1771491 more expected)', IncompleteRead(2023872 bytes read, 1771491 more expected))], attempt 1 of 500\n",
      "Retrying in 120 seconds\n"
     ]
    },
    {
     "data": {
      "application/vnd.jupyter.widget-view+json": {
       "model_id": "14c05b4288b24da6a24a316e2bdde0ee",
       "version_major": 2,
       "version_minor": 0
      },
      "text/plain": [
       "b4e0f8b2295c5794dd970004c0db4804.nc:  28%|##7       | 1.00M/3.62M [00:00<?, ?B/s]"
      ]
     },
     "metadata": {},
     "output_type": "display_data"
    },
    {
     "name": "stdout",
     "output_type": "stream",
     "text": [
      "en cours 2024 - 08 - 12...\n"
     ]
    },
    {
     "name": "stderr",
     "output_type": "stream",
     "text": [
      "2025-09-29 17:52:44,642 INFO Request ID is 96247243-95ee-4437-aa20-41f4fbc1d818\n",
      "2025-09-29 17:52:44,933 INFO status has been updated to accepted\n",
      "2025-09-29 17:52:59,577 INFO status has been updated to successful\n"
     ]
    },
    {
     "data": {
      "application/vnd.jupyter.widget-view+json": {
       "model_id": "982e234dbcf14c25903a4478309144b3",
       "version_major": 2,
       "version_minor": 0
      },
      "text/plain": [
       "e0138aad7124bbbc808d47201eb26b8d.nc:   0%|          | 0.00/3.62M [00:00<?, ?B/s]"
      ]
     },
     "metadata": {},
     "output_type": "display_data"
    },
    {
     "name": "stderr",
     "output_type": "stream",
     "text": [
      "Recovering from connection error [('Connection broken: IncompleteRead(2382976 bytes read, 1410864 more expected)', IncompleteRead(2382976 bytes read, 1410864 more expected))], attempt 1 of 500\n",
      "Retrying in 120 seconds\n"
     ]
    },
    {
     "data": {
      "application/vnd.jupyter.widget-view+json": {
       "model_id": "1635a7fa9a1f40c98b375fa938a6bdfd",
       "version_major": 2,
       "version_minor": 0
      },
      "text/plain": [
       "e0138aad7124bbbc808d47201eb26b8d.nc:  55%|#####5    | 2.00M/3.62M [00:00<?, ?B/s]"
      ]
     },
     "metadata": {},
     "output_type": "display_data"
    },
    {
     "name": "stdout",
     "output_type": "stream",
     "text": [
      "en cours 2024 - 08 - 13...\n"
     ]
    },
    {
     "name": "stderr",
     "output_type": "stream",
     "text": [
      "2025-09-29 17:57:30,913 INFO Request ID is de5cf493-58c4-4a81-82be-25a939e9be67\n",
      "2025-09-29 17:57:31,182 INFO status has been updated to accepted\n",
      "2025-09-29 17:57:53,730 INFO status has been updated to successful\n"
     ]
    },
    {
     "data": {
      "application/vnd.jupyter.widget-view+json": {
       "model_id": "604698e0f7ca4a2788d6ab73cc3ffde5",
       "version_major": 2,
       "version_minor": 0
      },
      "text/plain": [
       "58eb57c7045f9f252454cb20a1f3cfa4.nc:   0%|          | 0.00/3.66M [00:00<?, ?B/s]"
      ]
     },
     "metadata": {},
     "output_type": "display_data"
    },
    {
     "name": "stdout",
     "output_type": "stream",
     "text": [
      "en cours 2024 - 08 - 14...\n"
     ]
    },
    {
     "name": "stderr",
     "output_type": "stream",
     "text": [
      "2025-09-29 17:58:14,219 INFO Request ID is 680612e7-87a4-4b89-a37d-2d5ffd2bd345\n",
      "2025-09-29 17:58:14,491 INFO status has been updated to accepted\n",
      "2025-09-29 17:59:05,951 INFO status has been updated to successful\n"
     ]
    },
    {
     "data": {
      "application/vnd.jupyter.widget-view+json": {
       "model_id": "964bd1d9f54a48d8917a874a9382f2c0",
       "version_major": 2,
       "version_minor": 0
      },
      "text/plain": [
       "2172b343a42a96f1a6202b7dc000671b.nc:   0%|          | 0.00/3.68M [00:00<?, ?B/s]"
      ]
     },
     "metadata": {},
     "output_type": "display_data"
    },
    {
     "name": "stdout",
     "output_type": "stream",
     "text": [
      "en cours 2024 - 08 - 15...\n"
     ]
    },
    {
     "name": "stderr",
     "output_type": "stream",
     "text": [
      "2025-09-29 17:59:15,230 INFO Request ID is 5516afec-4248-455a-a3c0-73076fb41b2e\n",
      "2025-09-29 17:59:15,498 INFO status has been updated to accepted\n",
      "2025-09-29 17:59:37,914 INFO status has been updated to successful\n"
     ]
    },
    {
     "data": {
      "application/vnd.jupyter.widget-view+json": {
       "model_id": "7f29a2f429de4833b346c152fba14ed2",
       "version_major": 2,
       "version_minor": 0
      },
      "text/plain": [
       "c7e9fc74f28030b1815cf13e40d54bb5.nc:   0%|          | 0.00/3.64M [00:00<?, ?B/s]"
      ]
     },
     "metadata": {},
     "output_type": "display_data"
    },
    {
     "name": "stdout",
     "output_type": "stream",
     "text": [
      "en cours 2024 - 08 - 16...\n"
     ]
    },
    {
     "name": "stderr",
     "output_type": "stream",
     "text": [
      "2025-09-29 17:59:45,596 INFO Request ID is b0d031f2-fada-4842-8e66-f8b0bfd98be6\n",
      "2025-09-29 17:59:45,869 INFO status has been updated to accepted\n",
      "2025-09-29 18:00:00,405 INFO status has been updated to successful\n"
     ]
    },
    {
     "data": {
      "application/vnd.jupyter.widget-view+json": {
       "model_id": "33a8acccd8ae4780ab239d09176422c7",
       "version_major": 2,
       "version_minor": 0
      },
      "text/plain": [
       "8b57f1c29db16d73e52346fe3fbacf75.nc:   0%|          | 0.00/3.65M [00:00<?, ?B/s]"
      ]
     },
     "metadata": {},
     "output_type": "display_data"
    },
    {
     "name": "stdout",
     "output_type": "stream",
     "text": [
      "en cours 2024 - 08 - 17...\n"
     ]
    },
    {
     "name": "stderr",
     "output_type": "stream",
     "text": [
      "2025-09-29 18:02:24,241 INFO Request ID is 3901f37b-6b49-4f6c-a27e-ee2a54737b5f\n",
      "2025-09-29 18:02:24,564 INFO status has been updated to accepted\n",
      "2025-09-29 18:02:39,116 INFO status has been updated to successful\n"
     ]
    },
    {
     "data": {
      "application/vnd.jupyter.widget-view+json": {
       "model_id": "815b6678332a4a21b879237448981476",
       "version_major": 2,
       "version_minor": 0
      },
      "text/plain": [
       "70830e825eb75b21276b535b8122b2c.nc:   0%|          | 0.00/3.64M [00:00<?, ?B/s]"
      ]
     },
     "metadata": {},
     "output_type": "display_data"
    },
    {
     "name": "stdout",
     "output_type": "stream",
     "text": [
      "en cours 2024 - 08 - 18...\n"
     ]
    },
    {
     "name": "stderr",
     "output_type": "stream",
     "text": [
      "2025-09-29 18:02:49,194 INFO Request ID is 13b9fe5a-6c37-426b-b6cd-e95f6776326a\n",
      "2025-09-29 18:02:49,462 INFO status has been updated to accepted\n",
      "2025-09-29 18:03:23,347 INFO status has been updated to successful\n"
     ]
    },
    {
     "data": {
      "application/vnd.jupyter.widget-view+json": {
       "model_id": "2173bcd9f2004bb288cee422aa0eaa88",
       "version_major": 2,
       "version_minor": 0
      },
      "text/plain": [
       "f2a6685d3a70e3537146c244d1a4432.nc:   0%|          | 0.00/3.63M [00:00<?, ?B/s]"
      ]
     },
     "metadata": {},
     "output_type": "display_data"
    },
    {
     "name": "stdout",
     "output_type": "stream",
     "text": [
      "en cours 2024 - 08 - 19...\n"
     ]
    },
    {
     "name": "stderr",
     "output_type": "stream",
     "text": [
      "2025-09-29 18:05:40,946 INFO Request ID is 8eec9190-35b3-4be2-90c5-fd682c7f77e4\n",
      "2025-09-29 18:05:41,242 INFO status has been updated to accepted\n",
      "2025-09-29 18:05:50,975 INFO status has been updated to running\n",
      "2025-09-29 18:05:56,349 INFO status has been updated to successful\n"
     ]
    },
    {
     "data": {
      "application/vnd.jupyter.widget-view+json": {
       "model_id": "5b5c731d2e074c889df7c560f2371087",
       "version_major": 2,
       "version_minor": 0
      },
      "text/plain": [
       "5b19892bd86092767cb836de9e7178e0.nc:   0%|          | 0.00/3.68M [00:00<?, ?B/s]"
      ]
     },
     "metadata": {},
     "output_type": "display_data"
    },
    {
     "name": "stdout",
     "output_type": "stream",
     "text": [
      "en cours 2024 - 08 - 20...\n"
     ]
    },
    {
     "name": "stderr",
     "output_type": "stream",
     "text": [
      "2025-09-29 18:06:25,831 INFO Request ID is abff88ce-3f65-48ae-b41a-9f0ac41bb6a1\n",
      "2025-09-29 18:06:26,162 INFO status has been updated to accepted\n",
      "2025-09-29 18:06:35,243 INFO status has been updated to running\n",
      "2025-09-29 18:06:40,539 INFO status has been updated to successful\n"
     ]
    },
    {
     "data": {
      "application/vnd.jupyter.widget-view+json": {
       "model_id": "63e38132afc144f2a2012e748457f1e6",
       "version_major": 2,
       "version_minor": 0
      },
      "text/plain": [
       "e8df669225c2b8b8332f74479d7e6edb.nc:   0%|          | 0.00/3.69M [00:00<?, ?B/s]"
      ]
     },
     "metadata": {},
     "output_type": "display_data"
    },
    {
     "name": "stdout",
     "output_type": "stream",
     "text": [
      "en cours 2024 - 08 - 21...\n"
     ]
    },
    {
     "name": "stderr",
     "output_type": "stream",
     "text": [
      "2025-09-29 18:09:07,570 INFO Request ID is 1d57b227-0c9d-4757-b892-a65af3c90903\n",
      "2025-09-29 18:09:07,834 INFO status has been updated to accepted\n",
      "2025-09-29 18:09:17,611 INFO status has been updated to running\n",
      "2025-09-29 18:09:25,349 INFO status has been updated to accepted\n",
      "2025-09-29 18:09:45,473 INFO status has been updated to successful\n"
     ]
    },
    {
     "data": {
      "application/vnd.jupyter.widget-view+json": {
       "model_id": "66c3546629674ac9a13c08a1b45d847e",
       "version_major": 2,
       "version_minor": 0
      },
      "text/plain": [
       "c0924264d6867f492e267a0eda2c1cfd.nc:   0%|          | 0.00/3.65M [00:00<?, ?B/s]"
      ]
     },
     "metadata": {},
     "output_type": "display_data"
    },
    {
     "name": "stdout",
     "output_type": "stream",
     "text": [
      "en cours 2024 - 08 - 22...\n"
     ]
    },
    {
     "name": "stderr",
     "output_type": "stream",
     "text": [
      "2025-09-29 18:09:55,061 INFO Request ID is 046445da-bdc6-4049-9826-c6fb24c27ec6\n",
      "2025-09-29 18:09:55,312 INFO status has been updated to accepted\n",
      "2025-09-29 18:10:29,824 INFO status has been updated to successful\n"
     ]
    },
    {
     "data": {
      "application/vnd.jupyter.widget-view+json": {
       "model_id": "63746997c8c3448187c102c41bd1da72",
       "version_major": 2,
       "version_minor": 0
      },
      "text/plain": [
       "998de0808ff3529df99d57884df4ed32.nc:   0%|          | 0.00/3.59M [00:00<?, ?B/s]"
      ]
     },
     "metadata": {},
     "output_type": "display_data"
    },
    {
     "name": "stdout",
     "output_type": "stream",
     "text": [
      "en cours 2024 - 08 - 23...\n"
     ]
    },
    {
     "name": "stderr",
     "output_type": "stream",
     "text": [
      "2025-09-29 18:10:40,010 INFO Request ID is 7558ca3c-01f3-4fe2-b4fd-d17a57bcf0a4\n",
      "2025-09-29 18:10:40,223 INFO status has been updated to accepted\n",
      "2025-09-29 18:10:54,559 INFO status has been updated to successful\n"
     ]
    },
    {
     "data": {
      "application/vnd.jupyter.widget-view+json": {
       "model_id": "c0e83c7126ef4dfd8f165e42c986b846",
       "version_major": 2,
       "version_minor": 0
      },
      "text/plain": [
       "2ddc7e14f294f05b4de4145f4c2a0300.nc: 0.00B [00:00, ?B/s]"
      ]
     },
     "metadata": {},
     "output_type": "display_data"
    },
    {
     "name": "stdout",
     "output_type": "stream",
     "text": [
      "en cours 2024 - 08 - 24...\n"
     ]
    },
    {
     "name": "stderr",
     "output_type": "stream",
     "text": [
      "2025-09-29 18:11:21,655 INFO Request ID is 09275c11-aefc-4680-867b-f07e015159e2\n",
      "2025-09-29 18:11:21,842 INFO status has been updated to accepted\n",
      "2025-09-29 18:11:36,201 INFO status has been updated to successful\n"
     ]
    },
    {
     "data": {
      "application/vnd.jupyter.widget-view+json": {
       "model_id": "e23dc1a842054a679e79e6ec140d64ad",
       "version_major": 2,
       "version_minor": 0
      },
      "text/plain": [
       "990bd2d0f640d9bbf2e0dcf6a411ab84.nc:   0%|          | 0.00/3.62M [00:00<?, ?B/s]"
      ]
     },
     "metadata": {},
     "output_type": "display_data"
    },
    {
     "name": "stdout",
     "output_type": "stream",
     "text": [
      "en cours 2024 - 08 - 25...\n"
     ]
    },
    {
     "name": "stderr",
     "output_type": "stream",
     "text": [
      "2025-09-29 18:11:52,469 INFO Request ID is b072f792-cfa2-4949-a95f-37c7d5fe0102\n",
      "2025-09-29 18:11:53,014 INFO status has been updated to accepted\n",
      "Recovering from connection error [('Connection aborted.', RemoteDisconnected('Remote end closed connection without response'))], attempt 1 of 500\n",
      "Retrying in 120 seconds\n",
      "2025-09-29 18:15:08,196 INFO status has been updated to successful\n"
     ]
    },
    {
     "data": {
      "application/vnd.jupyter.widget-view+json": {
       "model_id": "4c709f85faf04e44a0b233dc708f24ee",
       "version_major": 2,
       "version_minor": 0
      },
      "text/plain": [
       "dccacd88e1b43f9e97316fd5afbc2ea.nc:   0%|          | 0.00/3.65M [00:00<?, ?B/s]"
      ]
     },
     "metadata": {},
     "output_type": "display_data"
    },
    {
     "name": "stdout",
     "output_type": "stream",
     "text": [
      "en cours 2024 - 08 - 27...\n"
     ]
    },
    {
     "name": "stderr",
     "output_type": "stream",
     "text": [
      "2025-09-29 18:18:24,156 INFO Request ID is d42bc5df-23c1-45f5-873a-a80260476e05\n",
      "2025-09-29 18:18:24,532 INFO status has been updated to accepted\n",
      "2025-09-29 18:18:33,837 INFO status has been updated to running\n",
      "2025-09-29 18:18:39,166 INFO status has been updated to successful\n"
     ]
    },
    {
     "data": {
      "application/vnd.jupyter.widget-view+json": {
       "model_id": "dadab018acf34c0aa17260db0fe14970",
       "version_major": 2,
       "version_minor": 0
      },
      "text/plain": [
       "226fc2f5586b3d197188f72cc1f687ee.nc:   0%|          | 0.00/3.65M [00:00<?, ?B/s]"
      ]
     },
     "metadata": {},
     "output_type": "display_data"
    },
    {
     "name": "stdout",
     "output_type": "stream",
     "text": [
      "en cours 2024 - 08 - 28...\n"
     ]
    },
    {
     "name": "stderr",
     "output_type": "stream",
     "text": [
      "2025-09-29 18:20:04,093 INFO Request ID is 9bdb2d05-a52b-4551-b08a-fa3b646634fb\n",
      "2025-09-29 18:20:04,390 INFO status has been updated to accepted\n",
      "2025-09-29 18:20:13,783 INFO status has been updated to running\n",
      "2025-09-29 18:20:19,129 INFO status has been updated to successful\n"
     ]
    },
    {
     "data": {
      "application/vnd.jupyter.widget-view+json": {
       "model_id": "615bc699df1d4c09aee420fe2d82f957",
       "version_major": 2,
       "version_minor": 0
      },
      "text/plain": [
       "13e331b5f8426bdb4f939da253951f82.nc:   0%|          | 0.00/3.66M [00:00<?, ?B/s]"
      ]
     },
     "metadata": {},
     "output_type": "display_data"
    },
    {
     "name": "stdout",
     "output_type": "stream",
     "text": [
      "en cours 2024 - 08 - 29...\n"
     ]
    },
    {
     "name": "stderr",
     "output_type": "stream",
     "text": [
      "2025-09-29 18:22:00,139 INFO Request ID is e87d344c-9e08-4e78-b4ad-c7ae90fda3da\n",
      "2025-09-29 18:22:00,404 INFO status has been updated to accepted\n",
      "2025-09-29 18:22:15,177 INFO status has been updated to successful\n"
     ]
    },
    {
     "data": {
      "application/vnd.jupyter.widget-view+json": {
       "model_id": "de9ac2daec8349ecbc053a70037e7d7f",
       "version_major": 2,
       "version_minor": 0
      },
      "text/plain": [
       "7b7f0763f6344555f59eed424e1d00d2.nc:   0%|          | 0.00/3.69M [00:00<?, ?B/s]"
      ]
     },
     "metadata": {},
     "output_type": "display_data"
    },
    {
     "name": "stdout",
     "output_type": "stream",
     "text": [
      "en cours 2024 - 08 - 30...\n"
     ]
    },
    {
     "name": "stderr",
     "output_type": "stream",
     "text": [
      "2025-09-29 18:22:59,034 INFO Request ID is d0223445-7645-4953-9c0e-d7ca907f61c4\n",
      "2025-09-29 18:22:59,323 INFO status has been updated to accepted\n",
      "2025-09-29 18:23:14,123 INFO status has been updated to successful\n"
     ]
    },
    {
     "data": {
      "application/vnd.jupyter.widget-view+json": {
       "model_id": "dd433619a7ac4182bec9f7f175c5ed56",
       "version_major": 2,
       "version_minor": 0
      },
      "text/plain": [
       "3654e4ef5675b50a73724e5321856c84.nc:   0%|          | 0.00/3.71M [00:00<?, ?B/s]"
      ]
     },
     "metadata": {},
     "output_type": "display_data"
    },
    {
     "name": "stdout",
     "output_type": "stream",
     "text": [
      "en cours 2024 - 09 - 01...\n"
     ]
    },
    {
     "name": "stderr",
     "output_type": "stream",
     "text": [
      "2025-09-29 18:25:26,352 INFO Request ID is b35e13e0-a8e5-444d-93dd-8baf8d87654e\n",
      "2025-09-29 18:25:26,722 INFO status has been updated to accepted\n",
      "2025-09-29 18:25:35,964 INFO status has been updated to successful\n"
     ]
    },
    {
     "data": {
      "application/vnd.jupyter.widget-view+json": {
       "model_id": "f8df18a4e78549dea54d6540833746e6",
       "version_major": 2,
       "version_minor": 0
      },
      "text/plain": [
       "3368553d3e31cb5739778ccce852be6a.nc:   0%|          | 0.00/3.71M [00:00<?, ?B/s]"
      ]
     },
     "metadata": {},
     "output_type": "display_data"
    },
    {
     "name": "stdout",
     "output_type": "stream",
     "text": [
      "en cours 2024 - 09 - 02...\n"
     ]
    },
    {
     "name": "stderr",
     "output_type": "stream",
     "text": [
      "2025-09-29 18:26:15,423 INFO Request ID is e32033df-cbfa-4b35-9ea6-d079eca7cba2\n",
      "2025-09-29 18:26:15,750 INFO status has been updated to accepted\n",
      "2025-09-29 18:26:24,926 INFO status has been updated to running\n",
      "2025-09-29 18:26:30,298 INFO status has been updated to successful\n"
     ]
    },
    {
     "data": {
      "application/vnd.jupyter.widget-view+json": {
       "model_id": "2a00a4726538445fb4a79a1aa86d9bd2",
       "version_major": 2,
       "version_minor": 0
      },
      "text/plain": [
       "ad68748f06e39fccc762be570d5619.nc:   0%|          | 0.00/3.70M [00:00<?, ?B/s]"
      ]
     },
     "metadata": {},
     "output_type": "display_data"
    },
    {
     "name": "stdout",
     "output_type": "stream",
     "text": [
      "en cours 2024 - 09 - 03...\n"
     ]
    },
    {
     "name": "stderr",
     "output_type": "stream",
     "text": [
      "2025-09-29 18:29:00,546 INFO Request ID is 325fa6ba-cbce-408f-a953-9ba879090e0d\n",
      "2025-09-29 18:29:00,806 INFO status has been updated to accepted\n",
      "2025-09-29 18:29:15,339 INFO status has been updated to running\n",
      "2025-09-29 18:29:23,187 INFO status has been updated to successful\n"
     ]
    },
    {
     "data": {
      "application/vnd.jupyter.widget-view+json": {
       "model_id": "1a19b978cc7144478471ced5a313e426",
       "version_major": 2,
       "version_minor": 0
      },
      "text/plain": [
       "8039f6ebf366b0f0ca616e9d1b81124e.nc:   0%|          | 0.00/3.68M [00:00<?, ?B/s]"
      ]
     },
     "metadata": {},
     "output_type": "display_data"
    },
    {
     "name": "stdout",
     "output_type": "stream",
     "text": [
      "en cours 2024 - 09 - 04...\n"
     ]
    },
    {
     "name": "stderr",
     "output_type": "stream",
     "text": [
      "2025-09-29 18:29:49,275 INFO Request ID is 4b6da88f-beb7-40ba-974f-ea65b7054f66\n",
      "2025-09-29 18:29:49,520 INFO status has been updated to accepted\n",
      "2025-09-29 18:29:58,690 INFO status has been updated to successful\n"
     ]
    },
    {
     "data": {
      "application/vnd.jupyter.widget-view+json": {
       "model_id": "afab95d468eb4b4ba41f9b7a9a21d4c4",
       "version_major": 2,
       "version_minor": 0
      },
      "text/plain": [
       "38e8ac1832fd402bdaee11e82fb85f4e.nc:   0%|          | 0.00/3.61M [00:00<?, ?B/s]"
      ]
     },
     "metadata": {},
     "output_type": "display_data"
    },
    {
     "name": "stdout",
     "output_type": "stream",
     "text": [
      "en cours 2024 - 09 - 05...\n"
     ]
    },
    {
     "name": "stderr",
     "output_type": "stream",
     "text": [
      "2025-09-29 18:30:34,279 INFO Request ID is 76bf5b52-1804-4404-ae3a-06e4ef37c488\n",
      "2025-09-29 18:30:34,595 INFO status has been updated to accepted\n",
      "2025-09-29 18:30:43,789 INFO status has been updated to successful\n"
     ]
    },
    {
     "data": {
      "application/vnd.jupyter.widget-view+json": {
       "model_id": "56b170b322d64126801b7153b129f58c",
       "version_major": 2,
       "version_minor": 0
      },
      "text/plain": [
       "9741e7957f088fd1109bd95a448e52b2.nc:   0%|          | 0.00/3.64M [00:00<?, ?B/s]"
      ]
     },
     "metadata": {},
     "output_type": "display_data"
    },
    {
     "name": "stdout",
     "output_type": "stream",
     "text": [
      "en cours 2024 - 09 - 06...\n"
     ]
    },
    {
     "name": "stderr",
     "output_type": "stream",
     "text": [
      "2025-09-29 18:31:02,216 INFO Request ID is 17f001e9-8970-4138-a12e-e0fe6af254ec\n",
      "2025-09-29 18:31:02,471 INFO status has been updated to accepted\n",
      "2025-09-29 18:31:25,517 INFO status has been updated to successful\n"
     ]
    },
    {
     "data": {
      "application/vnd.jupyter.widget-view+json": {
       "model_id": "121b87582ee9488895a3dbf269d4b9ce",
       "version_major": 2,
       "version_minor": 0
      },
      "text/plain": [
       "e93440f28a6a3f8559ef7cc1888bda4f.nc:   0%|          | 0.00/3.69M [00:00<?, ?B/s]"
      ]
     },
     "metadata": {},
     "output_type": "display_data"
    },
    {
     "name": "stdout",
     "output_type": "stream",
     "text": [
      "en cours 2024 - 09 - 07...\n"
     ]
    },
    {
     "name": "stderr",
     "output_type": "stream",
     "text": [
      "2025-09-29 18:32:00,122 INFO Request ID is 28a5d8ec-6566-4ac5-ba24-2ba8e9e74470\n",
      "2025-09-29 18:32:00,610 INFO status has been updated to accepted\n",
      "2025-09-29 18:32:15,270 INFO status has been updated to successful\n"
     ]
    },
    {
     "data": {
      "application/vnd.jupyter.widget-view+json": {
       "model_id": "4879706eedb9443f878863c649c5eabe",
       "version_major": 2,
       "version_minor": 0
      },
      "text/plain": [
       "9fb64c8029af642a76948986405cda1b.nc:   0%|          | 0.00/3.71M [00:00<?, ?B/s]"
      ]
     },
     "metadata": {},
     "output_type": "display_data"
    },
    {
     "name": "stdout",
     "output_type": "stream",
     "text": [
      "en cours 2024 - 09 - 08...\n"
     ]
    },
    {
     "name": "stderr",
     "output_type": "stream",
     "text": [
      "2025-09-29 18:34:32,128 INFO Request ID is 76e0ac37-4315-4277-b140-5d07a665d141\n",
      "2025-09-29 18:34:32,364 INFO status has been updated to accepted\n",
      "2025-09-29 18:34:46,922 INFO status has been updated to successful\n"
     ]
    },
    {
     "data": {
      "application/vnd.jupyter.widget-view+json": {
       "model_id": "8158173c869240f98fc27ddeff84b899",
       "version_major": 2,
       "version_minor": 0
      },
      "text/plain": [
       "4926f512e323d7f23dbb22ceb216dfa5.nc:   0%|          | 0.00/3.73M [00:00<?, ?B/s]"
      ]
     },
     "metadata": {},
     "output_type": "display_data"
    },
    {
     "name": "stdout",
     "output_type": "stream",
     "text": [
      "en cours 2024 - 09 - 09...\n"
     ]
    },
    {
     "name": "stderr",
     "output_type": "stream",
     "text": [
      "2025-09-29 18:35:16,953 INFO Request ID is c63ed1d0-e685-472a-a6ef-5fa5f1b09702\n",
      "2025-09-29 18:35:17,194 INFO status has been updated to accepted\n",
      "2025-09-29 18:35:31,787 INFO status has been updated to running\n",
      "2025-09-29 18:35:39,660 INFO status has been updated to successful\n"
     ]
    },
    {
     "data": {
      "application/vnd.jupyter.widget-view+json": {
       "model_id": "2e94cc36f7264263b3a9acb1620900e0",
       "version_major": 2,
       "version_minor": 0
      },
      "text/plain": [
       "e25fede15d67677834581ad4ed45c029.nc:   0%|          | 0.00/3.69M [00:00<?, ?B/s]"
      ]
     },
     "metadata": {},
     "output_type": "display_data"
    },
    {
     "name": "stdout",
     "output_type": "stream",
     "text": [
      "en cours 2024 - 09 - 10...\n"
     ]
    },
    {
     "name": "stderr",
     "output_type": "stream",
     "text": [
      "2025-09-29 18:37:52,905 INFO Request ID is d2393151-5944-4dfd-bcc6-93259e258237\n",
      "2025-09-29 18:37:53,208 INFO status has been updated to accepted\n",
      "2025-09-29 18:38:02,589 INFO status has been updated to successful\n"
     ]
    },
    {
     "data": {
      "application/vnd.jupyter.widget-view+json": {
       "model_id": "b09b0685367e4e6ebbade8ad775a0264",
       "version_major": 2,
       "version_minor": 0
      },
      "text/plain": [
       "e3971e7f0edc19020afb7893a5d0cdd8.nc:   0%|          | 0.00/3.70M [00:00<?, ?B/s]"
      ]
     },
     "metadata": {},
     "output_type": "display_data"
    },
    {
     "name": "stdout",
     "output_type": "stream",
     "text": [
      "en cours 2024 - 09 - 11...\n"
     ]
    },
    {
     "name": "stderr",
     "output_type": "stream",
     "text": [
      "2025-09-29 18:38:15,756 INFO Request ID is 8880dcf5-dd23-401c-89ef-8c388b7219c5\n",
      "2025-09-29 18:38:16,032 INFO status has been updated to accepted\n",
      "2025-09-29 18:38:30,699 INFO status has been updated to successful\n"
     ]
    },
    {
     "data": {
      "application/vnd.jupyter.widget-view+json": {
       "model_id": "d1da65f1d6ae4211b9e9f38587d0b20e",
       "version_major": 2,
       "version_minor": 0
      },
      "text/plain": [
       "253bed7481db2da35ff1553e6b3af5f2.nc:   0%|          | 0.00/3.70M [00:00<?, ?B/s]"
      ]
     },
     "metadata": {},
     "output_type": "display_data"
    },
    {
     "name": "stdout",
     "output_type": "stream",
     "text": [
      "en cours 2024 - 09 - 12...\n"
     ]
    },
    {
     "name": "stderr",
     "output_type": "stream",
     "text": [
      "2025-09-29 18:38:36,862 INFO Request ID is de5cb896-571f-4ece-b34e-c61e04ec72ad\n",
      "2025-09-29 18:38:37,148 INFO status has been updated to accepted\n",
      "2025-09-29 18:38:51,908 INFO status has been updated to successful\n"
     ]
    },
    {
     "data": {
      "application/vnd.jupyter.widget-view+json": {
       "model_id": "39ba1659b3734625962300fd426183cd",
       "version_major": 2,
       "version_minor": 0
      },
      "text/plain": [
       "32b985c0a39198bc244cf4e23405571e.nc:   0%|          | 0.00/3.69M [00:00<?, ?B/s]"
      ]
     },
     "metadata": {},
     "output_type": "display_data"
    },
    {
     "name": "stdout",
     "output_type": "stream",
     "text": [
      "en cours 2024 - 09 - 13...\n"
     ]
    },
    {
     "name": "stderr",
     "output_type": "stream",
     "text": [
      "2025-09-29 18:41:11,425 INFO Request ID is 582c07b4-a505-4109-ae7e-54eb71ef38be\n",
      "2025-09-29 18:41:11,782 INFO status has been updated to accepted\n",
      "2025-09-29 18:41:26,266 INFO status has been updated to successful\n"
     ]
    },
    {
     "data": {
      "application/vnd.jupyter.widget-view+json": {
       "model_id": "8be13ece73074a5bb481aab98414ca41",
       "version_major": 2,
       "version_minor": 0
      },
      "text/plain": [
       "6fbf423f9bac5ae50c8f882ec6102145.nc:   0%|          | 0.00/3.72M [00:00<?, ?B/s]"
      ]
     },
     "metadata": {},
     "output_type": "display_data"
    },
    {
     "name": "stdout",
     "output_type": "stream",
     "text": [
      "en cours 2024 - 09 - 14...\n"
     ]
    },
    {
     "name": "stderr",
     "output_type": "stream",
     "text": [
      "2025-09-29 18:43:38,062 INFO Request ID is 0da2cdf1-cf08-4876-8ef5-d1ea65b6a86f\n",
      "2025-09-29 18:43:38,344 INFO status has been updated to accepted\n",
      "2025-09-29 18:44:00,898 INFO status has been updated to successful\n"
     ]
    },
    {
     "data": {
      "application/vnd.jupyter.widget-view+json": {
       "model_id": "1bcb0ae3c25d4672bdf60eee2d4897e1",
       "version_major": 2,
       "version_minor": 0
      },
      "text/plain": [
       "14a2484507f877983784ecba03e0d16a.nc:   0%|          | 0.00/3.71M [00:00<?, ?B/s]"
      ]
     },
     "metadata": {},
     "output_type": "display_data"
    },
    {
     "name": "stdout",
     "output_type": "stream",
     "text": [
      "en cours 2024 - 09 - 15...\n"
     ]
    },
    {
     "name": "stderr",
     "output_type": "stream",
     "text": [
      "2025-09-29 18:44:07,149 INFO Request ID is ecc14656-3bce-459a-8f61-2f1c0bdf10a6\n",
      "2025-09-29 18:44:07,524 INFO status has been updated to accepted\n",
      "2025-09-29 18:44:16,987 INFO status has been updated to running\n",
      "2025-09-29 18:44:22,295 INFO status has been updated to successful\n"
     ]
    },
    {
     "data": {
      "application/vnd.jupyter.widget-view+json": {
       "model_id": "42eb33e8b6114e2bbc70166c7f9c942e",
       "version_major": 2,
       "version_minor": 0
      },
      "text/plain": [
       "72db513f705d6fcc71dfed8730f23512.nc:   0%|          | 0.00/3.70M [00:00<?, ?B/s]"
      ]
     },
     "metadata": {},
     "output_type": "display_data"
    },
    {
     "name": "stdout",
     "output_type": "stream",
     "text": [
      "en cours 2024 - 09 - 16...\n"
     ]
    },
    {
     "name": "stderr",
     "output_type": "stream",
     "text": [
      "2025-09-29 18:44:30,067 INFO Request ID is 2646450d-f3a1-488f-ac76-a8f6a90a156e\n",
      "2025-09-29 18:44:30,318 INFO status has been updated to accepted\n",
      "2025-09-29 18:44:39,534 INFO status has been updated to running\n",
      "2025-09-29 18:44:44,880 INFO status has been updated to successful\n"
     ]
    },
    {
     "data": {
      "application/vnd.jupyter.widget-view+json": {
       "model_id": "9cd2b0586bda4f7bb79f6d4d9167a431",
       "version_major": 2,
       "version_minor": 0
      },
      "text/plain": [
       "78ad0f710229e4a73375b621c486b805.nc:   0%|          | 0.00/3.70M [00:00<?, ?B/s]"
      ]
     },
     "metadata": {},
     "output_type": "display_data"
    },
    {
     "name": "stdout",
     "output_type": "stream",
     "text": [
      "en cours 2024 - 09 - 17...\n"
     ]
    },
    {
     "name": "stderr",
     "output_type": "stream",
     "text": [
      "2025-09-29 18:44:52,093 INFO Request ID is 740d734b-5b8d-471a-b789-264bdd13c138\n",
      "2025-09-29 18:44:52,404 INFO status has been updated to accepted\n",
      "2025-09-29 18:45:01,798 INFO status has been updated to running\n",
      "2025-09-29 18:45:07,108 INFO status has been updated to successful\n"
     ]
    },
    {
     "data": {
      "application/vnd.jupyter.widget-view+json": {
       "model_id": "306805e91e4342099d0bb302f5961d66",
       "version_major": 2,
       "version_minor": 0
      },
      "text/plain": [
       "844f4f8289dc434da0d48b469e81fdb4.nc:   0%|          | 0.00/3.69M [00:00<?, ?B/s]"
      ]
     },
     "metadata": {},
     "output_type": "display_data"
    },
    {
     "name": "stdout",
     "output_type": "stream",
     "text": [
      "en cours 2024 - 09 - 18...\n"
     ]
    },
    {
     "name": "stderr",
     "output_type": "stream",
     "text": [
      "2025-09-29 18:47:23,922 INFO Request ID is 27f44a6d-380c-4181-bcbe-6c5c967bf46e\n",
      "2025-09-29 18:47:24,227 INFO status has been updated to accepted\n",
      "2025-09-29 18:47:38,772 INFO status has been updated to successful\n"
     ]
    },
    {
     "data": {
      "application/vnd.jupyter.widget-view+json": {
       "model_id": "f370cf3b1e8f4ed1a3438f8bceb1743e",
       "version_major": 2,
       "version_minor": 0
      },
      "text/plain": [
       "50d912f151309946ba95cb0636871cc8.nc:   0%|          | 0.00/3.70M [00:00<?, ?B/s]"
      ]
     },
     "metadata": {},
     "output_type": "display_data"
    },
    {
     "name": "stdout",
     "output_type": "stream",
     "text": [
      "en cours 2024 - 09 - 19...\n"
     ]
    },
    {
     "name": "stderr",
     "output_type": "stream",
     "text": [
      "2025-09-29 18:47:49,575 INFO Request ID is 5f6a5775-e57e-4eb0-a5bf-6b9ee61afdce\n",
      "2025-09-29 18:47:49,969 INFO status has been updated to accepted\n",
      "Recovering from connection error [('Connection aborted.', RemoteDisconnected('Remote end closed connection without response'))], attempt 1 of 500\n",
      "Retrying in 120 seconds\n",
      "Recovering from connection error [HTTPSConnectionPool(host='cds.climate.copernicus.eu', port=443): Max retries exceeded with url: /api/retrieve/v1/jobs/5f6a5775-e57e-4eb0-a5bf-6b9ee61afdce?log=True&request=True (Caused by NameResolutionError(\"<urllib3.connection.HTTPSConnection object at 0x000002EA379E71D0>: Failed to resolve 'cds.climate.copernicus.eu' ([Errno 11001] getaddrinfo failed)\"))], attempt 2 of 500\n",
      "Retrying in 120 seconds\n",
      "Recovering from connection error [HTTPSConnectionPool(host='cds.climate.copernicus.eu', port=443): Max retries exceeded with url: /api/retrieve/v1/jobs/5f6a5775-e57e-4eb0-a5bf-6b9ee61afdce?log=True&request=True (Caused by NameResolutionError(\"<urllib3.connection.HTTPSConnection object at 0x000002EA379E7440>: Failed to resolve 'cds.climate.copernicus.eu' ([Errno 11001] getaddrinfo failed)\"))], attempt 3 of 500\n",
      "Retrying in 120 seconds\n",
      "Recovering from connection error [HTTPSConnectionPool(host='cds.climate.copernicus.eu', port=443): Max retries exceeded with url: /api/retrieve/v1/jobs/5f6a5775-e57e-4eb0-a5bf-6b9ee61afdce?log=True&request=True (Caused by NameResolutionError(\"<urllib3.connection.HTTPSConnection object at 0x000002EA379E7A10>: Failed to resolve 'cds.climate.copernicus.eu' ([Errno 11001] getaddrinfo failed)\"))], attempt 4 of 500\n",
      "Retrying in 120 seconds\n",
      "Recovering from connection error [HTTPSConnectionPool(host='cds.climate.copernicus.eu', port=443): Max retries exceeded with url: /api/retrieve/v1/jobs/5f6a5775-e57e-4eb0-a5bf-6b9ee61afdce?log=True&request=True (Caused by NameResolutionError(\"<urllib3.connection.HTTPSConnection object at 0x000002EA378E7F20>: Failed to resolve 'cds.climate.copernicus.eu' ([Errno 11001] getaddrinfo failed)\"))], attempt 5 of 500\n",
      "Retrying in 120 seconds\n",
      "Recovering from connection error [HTTPSConnectionPool(host='cds.climate.copernicus.eu', port=443): Max retries exceeded with url: /api/retrieve/v1/jobs/5f6a5775-e57e-4eb0-a5bf-6b9ee61afdce?log=True&request=True (Caused by NameResolutionError(\"<urllib3.connection.HTTPSConnection object at 0x000002EA3788C410>: Failed to resolve 'cds.climate.copernicus.eu' ([Errno 11001] getaddrinfo failed)\"))], attempt 6 of 500\n",
      "Retrying in 120 seconds\n",
      "Recovering from connection error [HTTPSConnectionPool(host='cds.climate.copernicus.eu', port=443): Max retries exceeded with url: /api/retrieve/v1/jobs/5f6a5775-e57e-4eb0-a5bf-6b9ee61afdce?log=True&request=True (Caused by NameResolutionError(\"<urllib3.connection.HTTPSConnection object at 0x000002EA379E4D70>: Failed to resolve 'cds.climate.copernicus.eu' ([Errno 11001] getaddrinfo failed)\"))], attempt 7 of 500\n",
      "Retrying in 120 seconds\n",
      "Recovering from connection error [HTTPSConnectionPool(host='cds.climate.copernicus.eu', port=443): Max retries exceeded with url: /api/retrieve/v1/jobs/5f6a5775-e57e-4eb0-a5bf-6b9ee61afdce?log=True&request=True (Caused by NameResolutionError(\"<urllib3.connection.HTTPSConnection object at 0x000002EA379E5580>: Failed to resolve 'cds.climate.copernicus.eu' ([Errno 11001] getaddrinfo failed)\"))], attempt 8 of 500\n",
      "Retrying in 120 seconds\n",
      "Recovering from connection error [HTTPSConnectionPool(host='cds.climate.copernicus.eu', port=443): Max retries exceeded with url: /api/retrieve/v1/jobs/5f6a5775-e57e-4eb0-a5bf-6b9ee61afdce?log=True&request=True (Caused by NameResolutionError(\"<urllib3.connection.HTTPSConnection object at 0x000002EA379E7920>: Failed to resolve 'cds.climate.copernicus.eu' ([Errno 11001] getaddrinfo failed)\"))], attempt 9 of 500\n",
      "Retrying in 120 seconds\n",
      "Recovering from connection error [HTTPSConnectionPool(host='cds.climate.copernicus.eu', port=443): Max retries exceeded with url: /api/retrieve/v1/jobs/5f6a5775-e57e-4eb0-a5bf-6b9ee61afdce?log=True&request=True (Caused by NameResolutionError(\"<urllib3.connection.HTTPSConnection object at 0x000002EA379E6180>: Failed to resolve 'cds.climate.copernicus.eu' ([Errno 11001] getaddrinfo failed)\"))], attempt 10 of 500\n",
      "Retrying in 120 seconds\n",
      "Recovering from connection error [HTTPSConnectionPool(host='cds.climate.copernicus.eu', port=443): Max retries exceeded with url: /api/retrieve/v1/jobs/5f6a5775-e57e-4eb0-a5bf-6b9ee61afdce?log=True&request=True (Caused by NameResolutionError(\"<urllib3.connection.HTTPSConnection object at 0x000002EA379E53D0>: Failed to resolve 'cds.climate.copernicus.eu' ([Errno 11001] getaddrinfo failed)\"))], attempt 11 of 500\n",
      "Retrying in 120 seconds\n",
      "Recovering from connection error [HTTPSConnectionPool(host='cds.climate.copernicus.eu', port=443): Max retries exceeded with url: /api/retrieve/v1/jobs/5f6a5775-e57e-4eb0-a5bf-6b9ee61afdce?log=True&request=True (Caused by NameResolutionError(\"<urllib3.connection.HTTPSConnection object at 0x000002EA379E7E90>: Failed to resolve 'cds.climate.copernicus.eu' ([Errno 11001] getaddrinfo failed)\"))], attempt 12 of 500\n",
      "Retrying in 120 seconds\n",
      "Recovering from connection error [HTTPSConnectionPool(host='cds.climate.copernicus.eu', port=443): Max retries exceeded with url: /api/retrieve/v1/jobs/5f6a5775-e57e-4eb0-a5bf-6b9ee61afdce?log=True&request=True (Caused by NameResolutionError(\"<urllib3.connection.HTTPSConnection object at 0x000002EA379E6480>: Failed to resolve 'cds.climate.copernicus.eu' ([Errno 11001] getaddrinfo failed)\"))], attempt 13 of 500\n",
      "Retrying in 120 seconds\n",
      "Recovering from connection error [HTTPSConnectionPool(host='cds.climate.copernicus.eu', port=443): Max retries exceeded with url: /api/retrieve/v1/jobs/5f6a5775-e57e-4eb0-a5bf-6b9ee61afdce?log=True&request=True (Caused by NameResolutionError(\"<urllib3.connection.HTTPSConnection object at 0x000002EA379E69C0>: Failed to resolve 'cds.climate.copernicus.eu' ([Errno 11001] getaddrinfo failed)\"))], attempt 14 of 500\n",
      "Retrying in 120 seconds\n",
      "Recovering from connection error [HTTPSConnectionPool(host='cds.climate.copernicus.eu', port=443): Max retries exceeded with url: /api/retrieve/v1/jobs/5f6a5775-e57e-4eb0-a5bf-6b9ee61afdce?log=True&request=True (Caused by NameResolutionError(\"<urllib3.connection.HTTPSConnection object at 0x000002EA379E6B70>: Failed to resolve 'cds.climate.copernicus.eu' ([Errno 11001] getaddrinfo failed)\"))], attempt 15 of 500\n",
      "Retrying in 120 seconds\n",
      "Recovering from connection error [HTTPSConnectionPool(host='cds.climate.copernicus.eu', port=443): Max retries exceeded with url: /api/retrieve/v1/jobs/5f6a5775-e57e-4eb0-a5bf-6b9ee61afdce?log=True&request=True (Caused by NameResolutionError(\"<urllib3.connection.HTTPSConnection object at 0x000002EA379E6030>: Failed to resolve 'cds.climate.copernicus.eu' ([Errno 11001] getaddrinfo failed)\"))], attempt 16 of 500\n",
      "Retrying in 120 seconds\n",
      "Recovering from connection error [HTTPSConnectionPool(host='cds.climate.copernicus.eu', port=443): Max retries exceeded with url: /api/retrieve/v1/jobs/5f6a5775-e57e-4eb0-a5bf-6b9ee61afdce?log=True&request=True (Caused by NameResolutionError(\"<urllib3.connection.HTTPSConnection object at 0x000002EA379A5100>: Failed to resolve 'cds.climate.copernicus.eu' ([Errno 11001] getaddrinfo failed)\"))], attempt 17 of 500\n",
      "Retrying in 120 seconds\n",
      "Recovering from connection error [HTTPSConnectionPool(host='cds.climate.copernicus.eu', port=443): Max retries exceeded with url: /api/retrieve/v1/jobs/5f6a5775-e57e-4eb0-a5bf-6b9ee61afdce?log=True&request=True (Caused by NameResolutionError(\"<urllib3.connection.HTTPSConnection object at 0x000002EA379E61E0>: Failed to resolve 'cds.climate.copernicus.eu' ([Errno 11001] getaddrinfo failed)\"))], attempt 18 of 500\n",
      "Retrying in 120 seconds\n",
      "Recovering from connection error [HTTPSConnectionPool(host='cds.climate.copernicus.eu', port=443): Max retries exceeded with url: /api/retrieve/v1/jobs/5f6a5775-e57e-4eb0-a5bf-6b9ee61afdce?log=True&request=True (Caused by NameResolutionError(\"<urllib3.connection.HTTPSConnection object at 0x000002EA379E6F60>: Failed to resolve 'cds.climate.copernicus.eu' ([Errno 11001] getaddrinfo failed)\"))], attempt 19 of 500\n",
      "Retrying in 120 seconds\n",
      "Recovering from connection error [HTTPSConnectionPool(host='cds.climate.copernicus.eu', port=443): Max retries exceeded with url: /api/retrieve/v1/jobs/5f6a5775-e57e-4eb0-a5bf-6b9ee61afdce?log=True&request=True (Caused by NameResolutionError(\"<urllib3.connection.HTTPSConnection object at 0x000002EA379E7E90>: Failed to resolve 'cds.climate.copernicus.eu' ([Errno 11001] getaddrinfo failed)\"))], attempt 20 of 500\n",
      "Retrying in 120 seconds\n",
      "Recovering from connection error [HTTPSConnectionPool(host='cds.climate.copernicus.eu', port=443): Max retries exceeded with url: /api/retrieve/v1/jobs/5f6a5775-e57e-4eb0-a5bf-6b9ee61afdce?log=True&request=True (Caused by NameResolutionError(\"<urllib3.connection.HTTPSConnection object at 0x000002EA379E7530>: Failed to resolve 'cds.climate.copernicus.eu' ([Errno 11001] getaddrinfo failed)\"))], attempt 21 of 500\n",
      "Retrying in 120 seconds\n",
      "Recovering from connection error [HTTPSConnectionPool(host='cds.climate.copernicus.eu', port=443): Max retries exceeded with url: /api/retrieve/v1/jobs/5f6a5775-e57e-4eb0-a5bf-6b9ee61afdce?log=True&request=True (Caused by NameResolutionError(\"<urllib3.connection.HTTPSConnection object at 0x000002EA379E5490>: Failed to resolve 'cds.climate.copernicus.eu' ([Errno 11001] getaddrinfo failed)\"))], attempt 22 of 500\n",
      "Retrying in 120 seconds\n",
      "Recovering from connection error [HTTPSConnectionPool(host='cds.climate.copernicus.eu', port=443): Max retries exceeded with url: /api/retrieve/v1/jobs/5f6a5775-e57e-4eb0-a5bf-6b9ee61afdce?log=True&request=True (Caused by NameResolutionError(\"<urllib3.connection.HTTPSConnection object at 0x000002EA379E4050>: Failed to resolve 'cds.climate.copernicus.eu' ([Errno 11001] getaddrinfo failed)\"))], attempt 23 of 500\n",
      "Retrying in 120 seconds\n",
      "Recovering from connection error [HTTPSConnectionPool(host='cds.climate.copernicus.eu', port=443): Max retries exceeded with url: /api/retrieve/v1/jobs/5f6a5775-e57e-4eb0-a5bf-6b9ee61afdce?log=True&request=True (Caused by NameResolutionError(\"<urllib3.connection.HTTPSConnection object at 0x000002EA37864830>: Failed to resolve 'cds.climate.copernicus.eu' ([Errno 11001] getaddrinfo failed)\"))], attempt 24 of 500\n",
      "Retrying in 120 seconds\n",
      "Recovering from connection error [HTTPSConnectionPool(host='cds.climate.copernicus.eu', port=443): Max retries exceeded with url: /api/retrieve/v1/jobs/5f6a5775-e57e-4eb0-a5bf-6b9ee61afdce?log=True&request=True (Caused by NameResolutionError(\"<urllib3.connection.HTTPSConnection object at 0x000002EA3788F5F0>: Failed to resolve 'cds.climate.copernicus.eu' ([Errno 11001] getaddrinfo failed)\"))], attempt 25 of 500\n",
      "Retrying in 120 seconds\n",
      "Recovering from connection error [HTTPSConnectionPool(host='cds.climate.copernicus.eu', port=443): Max retries exceeded with url: /api/retrieve/v1/jobs/5f6a5775-e57e-4eb0-a5bf-6b9ee61afdce?log=True&request=True (Caused by NameResolutionError(\"<urllib3.connection.HTTPSConnection object at 0x000002EA378E7F20>: Failed to resolve 'cds.climate.copernicus.eu' ([Errno 11001] getaddrinfo failed)\"))], attempt 26 of 500\n",
      "Retrying in 120 seconds\n",
      "Recovering from connection error [HTTPSConnectionPool(host='cds.climate.copernicus.eu', port=443): Max retries exceeded with url: /api/retrieve/v1/jobs/5f6a5775-e57e-4eb0-a5bf-6b9ee61afdce?log=True&request=True (Caused by NameResolutionError(\"<urllib3.connection.HTTPSConnection object at 0x000002EA37960680>: Failed to resolve 'cds.climate.copernicus.eu' ([Errno 11001] getaddrinfo failed)\"))], attempt 27 of 500\n",
      "Retrying in 120 seconds\n",
      "Recovering from connection error [HTTPSConnectionPool(host='cds.climate.copernicus.eu', port=443): Max retries exceeded with url: /api/retrieve/v1/jobs/5f6a5775-e57e-4eb0-a5bf-6b9ee61afdce?log=True&request=True (Caused by NameResolutionError(\"<urllib3.connection.HTTPSConnection object at 0x000002EA379A6A80>: Failed to resolve 'cds.climate.copernicus.eu' ([Errno 11001] getaddrinfo failed)\"))], attempt 28 of 500\n",
      "Retrying in 120 seconds\n",
      "Recovering from connection error [HTTPSConnectionPool(host='cds.climate.copernicus.eu', port=443): Max retries exceeded with url: /api/retrieve/v1/jobs/5f6a5775-e57e-4eb0-a5bf-6b9ee61afdce?log=True&request=True (Caused by NameResolutionError(\"<urllib3.connection.HTTPSConnection object at 0x000002EA379A44A0>: Failed to resolve 'cds.climate.copernicus.eu' ([Errno 11001] getaddrinfo failed)\"))], attempt 29 of 500\n",
      "Retrying in 120 seconds\n",
      "Recovering from connection error [HTTPSConnectionPool(host='cds.climate.copernicus.eu', port=443): Max retries exceeded with url: /api/retrieve/v1/jobs/5f6a5775-e57e-4eb0-a5bf-6b9ee61afdce?log=True&request=True (Caused by NameResolutionError(\"<urllib3.connection.HTTPSConnection object at 0x000002EA379A7140>: Failed to resolve 'cds.climate.copernicus.eu' ([Errno 11001] getaddrinfo failed)\"))], attempt 30 of 500\n",
      "Retrying in 120 seconds\n",
      "Recovering from connection error [HTTPSConnectionPool(host='cds.climate.copernicus.eu', port=443): Max retries exceeded with url: /api/retrieve/v1/jobs/5f6a5775-e57e-4eb0-a5bf-6b9ee61afdce?log=True&request=True (Caused by NameResolutionError(\"<urllib3.connection.HTTPSConnection object at 0x000002EA37926690>: Failed to resolve 'cds.climate.copernicus.eu' ([Errno 11001] getaddrinfo failed)\"))], attempt 31 of 500\n",
      "Retrying in 120 seconds\n",
      "Recovering from connection error [HTTPSConnectionPool(host='cds.climate.copernicus.eu', port=443): Max retries exceeded with url: /api/retrieve/v1/jobs/5f6a5775-e57e-4eb0-a5bf-6b9ee61afdce?log=True&request=True (Caused by NameResolutionError(\"<urllib3.connection.HTTPSConnection object at 0x000002EA379A46B0>: Failed to resolve 'cds.climate.copernicus.eu' ([Errno 11001] getaddrinfo failed)\"))], attempt 32 of 500\n",
      "Retrying in 120 seconds\n",
      "Recovering from connection error [HTTPSConnectionPool(host='cds.climate.copernicus.eu', port=443): Max retries exceeded with url: /api/retrieve/v1/jobs/5f6a5775-e57e-4eb0-a5bf-6b9ee61afdce?log=True&request=True (Caused by NameResolutionError(\"<urllib3.connection.HTTPSConnection object at 0x000002EA379A6420>: Failed to resolve 'cds.climate.copernicus.eu' ([Errno 11001] getaddrinfo failed)\"))], attempt 33 of 500\n",
      "Retrying in 120 seconds\n",
      "Recovering from connection error [HTTPSConnectionPool(host='cds.climate.copernicus.eu', port=443): Max retries exceeded with url: /api/retrieve/v1/jobs/5f6a5775-e57e-4eb0-a5bf-6b9ee61afdce?log=True&request=True (Caused by NameResolutionError(\"<urllib3.connection.HTTPSConnection object at 0x000002EA379A4D70>: Failed to resolve 'cds.climate.copernicus.eu' ([Errno 11001] getaddrinfo failed)\"))], attempt 34 of 500\n",
      "Retrying in 120 seconds\n",
      "Recovering from connection error [HTTPSConnectionPool(host='cds.climate.copernicus.eu', port=443): Max retries exceeded with url: /api/retrieve/v1/jobs/5f6a5775-e57e-4eb0-a5bf-6b9ee61afdce?log=True&request=True (Caused by NameResolutionError(\"<urllib3.connection.HTTPSConnection object at 0x000002EA3788DC10>: Failed to resolve 'cds.climate.copernicus.eu' ([Errno 11001] getaddrinfo failed)\"))], attempt 35 of 500\n",
      "Retrying in 120 seconds\n",
      "Recovering from connection error [HTTPSConnectionPool(host='cds.climate.copernicus.eu', port=443): Max retries exceeded with url: /api/retrieve/v1/jobs/5f6a5775-e57e-4eb0-a5bf-6b9ee61afdce?log=True&request=True (Caused by NameResolutionError(\"<urllib3.connection.HTTPSConnection object at 0x000002EA3788EF00>: Failed to resolve 'cds.climate.copernicus.eu' ([Errno 11001] getaddrinfo failed)\"))], attempt 36 of 500\n",
      "Retrying in 120 seconds\n",
      "Recovering from connection error [HTTPSConnectionPool(host='cds.climate.copernicus.eu', port=443): Max retries exceeded with url: /api/retrieve/v1/jobs/5f6a5775-e57e-4eb0-a5bf-6b9ee61afdce?log=True&request=True (Caused by NameResolutionError(\"<urllib3.connection.HTTPSConnection object at 0x000002EA379637A0>: Failed to resolve 'cds.climate.copernicus.eu' ([Errno 11001] getaddrinfo failed)\"))], attempt 37 of 500\n",
      "Retrying in 120 seconds\n",
      "Recovering from connection error [HTTPSConnectionPool(host='cds.climate.copernicus.eu', port=443): Max retries exceeded with url: /api/retrieve/v1/jobs/5f6a5775-e57e-4eb0-a5bf-6b9ee61afdce?log=True&request=True (Caused by NameResolutionError(\"<urllib3.connection.HTTPSConnection object at 0x000002EA379612B0>: Failed to resolve 'cds.climate.copernicus.eu' ([Errno 11001] getaddrinfo failed)\"))], attempt 38 of 500\n",
      "Retrying in 120 seconds\n",
      "Recovering from connection error [HTTPSConnectionPool(host='cds.climate.copernicus.eu', port=443): Max retries exceeded with url: /api/retrieve/v1/jobs/5f6a5775-e57e-4eb0-a5bf-6b9ee61afdce?log=True&request=True (Caused by NameResolutionError(\"<urllib3.connection.HTTPSConnection object at 0x000002EA37810BC0>: Failed to resolve 'cds.climate.copernicus.eu' ([Errno 11001] getaddrinfo failed)\"))], attempt 39 of 500\n",
      "Retrying in 120 seconds\n",
      "Recovering from connection error [HTTPSConnectionPool(host='cds.climate.copernicus.eu', port=443): Max retries exceeded with url: /api/retrieve/v1/jobs/5f6a5775-e57e-4eb0-a5bf-6b9ee61afdce?log=True&request=True (Caused by NameResolutionError(\"<urllib3.connection.HTTPSConnection object at 0x000002EA378E6B40>: Failed to resolve 'cds.climate.copernicus.eu' ([Errno 11001] getaddrinfo failed)\"))], attempt 40 of 500\n",
      "Retrying in 120 seconds\n",
      "Recovering from connection error [HTTPSConnectionPool(host='cds.climate.copernicus.eu', port=443): Max retries exceeded with url: /api/retrieve/v1/jobs/5f6a5775-e57e-4eb0-a5bf-6b9ee61afdce?log=True&request=True (Caused by NameResolutionError(\"<urllib3.connection.HTTPSConnection object at 0x000002EA379E50A0>: Failed to resolve 'cds.climate.copernicus.eu' ([Errno 11001] getaddrinfo failed)\"))], attempt 41 of 500\n",
      "Retrying in 120 seconds\n",
      "Recovering from connection error [HTTPSConnectionPool(host='cds.climate.copernicus.eu', port=443): Max retries exceeded with url: /api/retrieve/v1/jobs/5f6a5775-e57e-4eb0-a5bf-6b9ee61afdce?log=True&request=True (Caused by NameResolutionError(\"<urllib3.connection.HTTPSConnection object at 0x000002EA379E5100>: Failed to resolve 'cds.climate.copernicus.eu' ([Errno 11001] getaddrinfo failed)\"))], attempt 42 of 500\n",
      "Retrying in 120 seconds\n",
      "Recovering from connection error [HTTPSConnectionPool(host='cds.climate.copernicus.eu', port=443): Max retries exceeded with url: /api/retrieve/v1/jobs/5f6a5775-e57e-4eb0-a5bf-6b9ee61afdce?log=True&request=True (Caused by NameResolutionError(\"<urllib3.connection.HTTPSConnection object at 0x000002EA379E69C0>: Failed to resolve 'cds.climate.copernicus.eu' ([Errno 11001] getaddrinfo failed)\"))], attempt 43 of 500\n",
      "Retrying in 120 seconds\n",
      "Recovering from connection error [HTTPSConnectionPool(host='cds.climate.copernicus.eu', port=443): Max retries exceeded with url: /api/retrieve/v1/jobs/5f6a5775-e57e-4eb0-a5bf-6b9ee61afdce?log=True&request=True (Caused by NameResolutionError(\"<urllib3.connection.HTTPSConnection object at 0x000002EA379E4CB0>: Failed to resolve 'cds.climate.copernicus.eu' ([Errno 11001] getaddrinfo failed)\"))], attempt 44 of 500\n",
      "Retrying in 120 seconds\n",
      "Recovering from connection error [HTTPSConnectionPool(host='cds.climate.copernicus.eu', port=443): Max retries exceeded with url: /api/retrieve/v1/jobs/5f6a5775-e57e-4eb0-a5bf-6b9ee61afdce?log=True&request=True (Caused by NameResolutionError(\"<urllib3.connection.HTTPSConnection object at 0x000002EA379E5AC0>: Failed to resolve 'cds.climate.copernicus.eu' ([Errno 11001] getaddrinfo failed)\"))], attempt 45 of 500\n",
      "Retrying in 120 seconds\n",
      "Recovering from connection error [HTTPSConnectionPool(host='cds.climate.copernicus.eu', port=443): Max retries exceeded with url: /api/retrieve/v1/jobs/5f6a5775-e57e-4eb0-a5bf-6b9ee61afdce?log=True&request=True (Caused by NameResolutionError(\"<urllib3.connection.HTTPSConnection object at 0x000002EA37960D10>: Failed to resolve 'cds.climate.copernicus.eu' ([Errno 11001] getaddrinfo failed)\"))], attempt 46 of 500\n",
      "Retrying in 120 seconds\n",
      "Recovering from connection error [HTTPSConnectionPool(host='cds.climate.copernicus.eu', port=443): Max retries exceeded with url: /api/retrieve/v1/jobs/5f6a5775-e57e-4eb0-a5bf-6b9ee61afdce?log=True&request=True (Caused by NameResolutionError(\"<urllib3.connection.HTTPSConnection object at 0x000002EA37963920>: Failed to resolve 'cds.climate.copernicus.eu' ([Errno 11001] getaddrinfo failed)\"))], attempt 47 of 500\n",
      "Retrying in 120 seconds\n",
      "Recovering from connection error [HTTPSConnectionPool(host='cds.climate.copernicus.eu', port=443): Max retries exceeded with url: /api/retrieve/v1/jobs/5f6a5775-e57e-4eb0-a5bf-6b9ee61afdce?log=True&request=True (Caused by NameResolutionError(\"<urllib3.connection.HTTPSConnection object at 0x000002EA3788EC90>: Failed to resolve 'cds.climate.copernicus.eu' ([Errno 11001] getaddrinfo failed)\"))], attempt 48 of 500\n",
      "Retrying in 120 seconds\n",
      "Recovering from connection error [HTTPSConnectionPool(host='cds.climate.copernicus.eu', port=443): Max retries exceeded with url: /api/retrieve/v1/jobs/5f6a5775-e57e-4eb0-a5bf-6b9ee61afdce?log=True&request=True (Caused by NameResolutionError(\"<urllib3.connection.HTTPSConnection object at 0x000002EA3768F920>: Failed to resolve 'cds.climate.copernicus.eu' ([Errno 11001] getaddrinfo failed)\"))], attempt 49 of 500\n",
      "Retrying in 120 seconds\n",
      "Recovering from connection error [HTTPSConnectionPool(host='cds.climate.copernicus.eu', port=443): Max retries exceeded with url: /api/retrieve/v1/jobs/5f6a5775-e57e-4eb0-a5bf-6b9ee61afdce?log=True&request=True (Caused by NameResolutionError(\"<urllib3.connection.HTTPSConnection object at 0x000002EA379A7D40>: Failed to resolve 'cds.climate.copernicus.eu' ([Errno 11001] getaddrinfo failed)\"))], attempt 50 of 500\n",
      "Retrying in 120 seconds\n",
      "Recovering from connection error [HTTPSConnectionPool(host='cds.climate.copernicus.eu', port=443): Max retries exceeded with url: /api/retrieve/v1/jobs/5f6a5775-e57e-4eb0-a5bf-6b9ee61afdce?log=True&request=True (Caused by NameResolutionError(\"<urllib3.connection.HTTPSConnection object at 0x000002EA379A7AA0>: Failed to resolve 'cds.climate.copernicus.eu' ([Errno 11001] getaddrinfo failed)\"))], attempt 51 of 500\n",
      "Retrying in 120 seconds\n",
      "Recovering from connection error [HTTPSConnectionPool(host='cds.climate.copernicus.eu', port=443): Max retries exceeded with url: /api/retrieve/v1/jobs/5f6a5775-e57e-4eb0-a5bf-6b9ee61afdce?log=True&request=True (Caused by NameResolutionError(\"<urllib3.connection.HTTPSConnection object at 0x000002EA379A6C00>: Failed to resolve 'cds.climate.copernicus.eu' ([Errno 11001] getaddrinfo failed)\"))], attempt 52 of 500\n",
      "Retrying in 120 seconds\n",
      "Recovering from connection error [HTTPSConnectionPool(host='cds.climate.copernicus.eu', port=443): Max retries exceeded with url: /api/retrieve/v1/jobs/5f6a5775-e57e-4eb0-a5bf-6b9ee61afdce?log=True&request=True (Caused by NameResolutionError(\"<urllib3.connection.HTTPSConnection object at 0x000002EA379E6030>: Failed to resolve 'cds.climate.copernicus.eu' ([Errno 11001] getaddrinfo failed)\"))], attempt 53 of 500\n",
      "Retrying in 120 seconds\n",
      "Recovering from connection error [HTTPSConnectionPool(host='cds.climate.copernicus.eu', port=443): Max retries exceeded with url: /api/retrieve/v1/jobs/5f6a5775-e57e-4eb0-a5bf-6b9ee61afdce?log=True&request=True (Caused by NameResolutionError(\"<urllib3.connection.HTTPSConnection object at 0x000002EA379E7B30>: Failed to resolve 'cds.climate.copernicus.eu' ([Errno 11001] getaddrinfo failed)\"))], attempt 54 of 500\n",
      "Retrying in 120 seconds\n",
      "Recovering from connection error [HTTPSConnectionPool(host='cds.climate.copernicus.eu', port=443): Max retries exceeded with url: /api/retrieve/v1/jobs/5f6a5775-e57e-4eb0-a5bf-6b9ee61afdce?log=True&request=True (Caused by NameResolutionError(\"<urllib3.connection.HTTPSConnection object at 0x000002EA379E7F20>: Failed to resolve 'cds.climate.copernicus.eu' ([Errno 11001] getaddrinfo failed)\"))], attempt 55 of 500\n",
      "Retrying in 120 seconds\n",
      "Recovering from connection error [HTTPSConnectionPool(host='cds.climate.copernicus.eu', port=443): Max retries exceeded with url: /api/retrieve/v1/jobs/5f6a5775-e57e-4eb0-a5bf-6b9ee61afdce?log=True&request=True (Caused by NameResolutionError(\"<urllib3.connection.HTTPSConnection object at 0x000002EA379E6510>: Failed to resolve 'cds.climate.copernicus.eu' ([Errno 11001] getaddrinfo failed)\"))], attempt 56 of 500\n",
      "Retrying in 120 seconds\n",
      "Recovering from connection error [HTTPSConnectionPool(host='cds.climate.copernicus.eu', port=443): Max retries exceeded with url: /api/retrieve/v1/jobs/5f6a5775-e57e-4eb0-a5bf-6b9ee61afdce?log=True&request=True (Caused by NameResolutionError(\"<urllib3.connection.HTTPSConnection object at 0x000002EA379E6720>: Failed to resolve 'cds.climate.copernicus.eu' ([Errno 11001] getaddrinfo failed)\"))], attempt 57 of 500\n",
      "Retrying in 120 seconds\n",
      "Recovering from connection error [HTTPSConnectionPool(host='cds.climate.copernicus.eu', port=443): Max retries exceeded with url: /api/retrieve/v1/jobs/5f6a5775-e57e-4eb0-a5bf-6b9ee61afdce?log=True&request=True (Caused by NameResolutionError(\"<urllib3.connection.HTTPSConnection object at 0x000002EA379E6A20>: Failed to resolve 'cds.climate.copernicus.eu' ([Errno 11001] getaddrinfo failed)\"))], attempt 58 of 500\n",
      "Retrying in 120 seconds\n",
      "Recovering from connection error [HTTPSConnectionPool(host='cds.climate.copernicus.eu', port=443): Max retries exceeded with url: /api/retrieve/v1/jobs/5f6a5775-e57e-4eb0-a5bf-6b9ee61afdce?log=True&request=True (Caused by NameResolutionError(\"<urllib3.connection.HTTPSConnection object at 0x000002EA379E5190>: Failed to resolve 'cds.climate.copernicus.eu' ([Errno 11001] getaddrinfo failed)\"))], attempt 59 of 500\n",
      "Retrying in 120 seconds\n",
      "Recovering from connection error [HTTPSConnectionPool(host='cds.climate.copernicus.eu', port=443): Max retries exceeded with url: /api/retrieve/v1/jobs/5f6a5775-e57e-4eb0-a5bf-6b9ee61afdce?log=True&request=True (Caused by NameResolutionError(\"<urllib3.connection.HTTPSConnection object at 0x000002EA379A6FF0>: Failed to resolve 'cds.climate.copernicus.eu' ([Errno 11001] getaddrinfo failed)\"))], attempt 60 of 500\n",
      "Retrying in 120 seconds\n",
      "Recovering from connection error [HTTPSConnectionPool(host='cds.climate.copernicus.eu', port=443): Max retries exceeded with url: /api/retrieve/v1/jobs/5f6a5775-e57e-4eb0-a5bf-6b9ee61afdce?log=True&request=True (Caused by NameResolutionError(\"<urllib3.connection.HTTPSConnection object at 0x000002EA379A6000>: Failed to resolve 'cds.climate.copernicus.eu' ([Errno 11001] getaddrinfo failed)\"))], attempt 61 of 500\n",
      "Retrying in 120 seconds\n",
      "Recovering from connection error [HTTPSConnectionPool(host='cds.climate.copernicus.eu', port=443): Max retries exceeded with url: /api/retrieve/v1/jobs/5f6a5775-e57e-4eb0-a5bf-6b9ee61afdce?log=True&request=True (Caused by NameResolutionError(\"<urllib3.connection.HTTPSConnection object at 0x000002EA37867EF0>: Failed to resolve 'cds.climate.copernicus.eu' ([Errno 11001] getaddrinfo failed)\"))], attempt 62 of 500\n",
      "Retrying in 120 seconds\n",
      "Recovering from connection error [HTTPSConnectionPool(host='cds.climate.copernicus.eu', port=443): Max retries exceeded with url: /api/retrieve/v1/jobs/5f6a5775-e57e-4eb0-a5bf-6b9ee61afdce?log=True&request=True (Caused by NameResolutionError(\"<urllib3.connection.HTTPSConnection object at 0x000002EA377E67E0>: Failed to resolve 'cds.climate.copernicus.eu' ([Errno 11001] getaddrinfo failed)\"))], attempt 63 of 500\n",
      "Retrying in 120 seconds\n",
      "Recovering from connection error [HTTPSConnectionPool(host='cds.climate.copernicus.eu', port=443): Max retries exceeded with url: /api/retrieve/v1/jobs/5f6a5775-e57e-4eb0-a5bf-6b9ee61afdce?log=True&request=True (Caused by NameResolutionError(\"<urllib3.connection.HTTPSConnection object at 0x000002EA37961430>: Failed to resolve 'cds.climate.copernicus.eu' ([Errno 11001] getaddrinfo failed)\"))], attempt 64 of 500\n",
      "Retrying in 120 seconds\n",
      "Recovering from connection error [HTTPSConnectionPool(host='cds.climate.copernicus.eu', port=443): Max retries exceeded with url: /api/retrieve/v1/jobs/5f6a5775-e57e-4eb0-a5bf-6b9ee61afdce?log=True&request=True (Caused by NameResolutionError(\"<urllib3.connection.HTTPSConnection object at 0x000002EA37810770>: Failed to resolve 'cds.climate.copernicus.eu' ([Errno 11001] getaddrinfo failed)\"))], attempt 65 of 500\n",
      "Retrying in 120 seconds\n",
      "Recovering from connection error [HTTPSConnectionPool(host='cds.climate.copernicus.eu', port=443): Max retries exceeded with url: /api/retrieve/v1/jobs/5f6a5775-e57e-4eb0-a5bf-6b9ee61afdce?log=True&request=True (Caused by NameResolutionError(\"<urllib3.connection.HTTPSConnection object at 0x000002EA378E6270>: Failed to resolve 'cds.climate.copernicus.eu' ([Errno 11001] getaddrinfo failed)\"))], attempt 66 of 500\n",
      "Retrying in 120 seconds\n",
      "Recovering from connection error [HTTPSConnectionPool(host='cds.climate.copernicus.eu', port=443): Max retries exceeded with url: /api/retrieve/v1/jobs/5f6a5775-e57e-4eb0-a5bf-6b9ee61afdce?log=True&request=True (Caused by NameResolutionError(\"<urllib3.connection.HTTPSConnection object at 0x000002EA379E4620>: Failed to resolve 'cds.climate.copernicus.eu' ([Errno 11001] getaddrinfo failed)\"))], attempt 67 of 500\n",
      "Retrying in 120 seconds\n",
      "Recovering from connection error [HTTPSConnectionPool(host='cds.climate.copernicus.eu', port=443): Max retries exceeded with url: /api/retrieve/v1/jobs/5f6a5775-e57e-4eb0-a5bf-6b9ee61afdce?log=True&request=True (Caused by NameResolutionError(\"<urllib3.connection.HTTPSConnection object at 0x000002EA379E5BB0>: Failed to resolve 'cds.climate.copernicus.eu' ([Errno 11001] getaddrinfo failed)\"))], attempt 68 of 500\n",
      "Retrying in 120 seconds\n",
      "Recovering from connection error [HTTPSConnectionPool(host='cds.climate.copernicus.eu', port=443): Max retries exceeded with url: /api/retrieve/v1/jobs/5f6a5775-e57e-4eb0-a5bf-6b9ee61afdce?log=True&request=True (Caused by NameResolutionError(\"<urllib3.connection.HTTPSConnection object at 0x000002EA379E7290>: Failed to resolve 'cds.climate.copernicus.eu' ([Errno 11001] getaddrinfo failed)\"))], attempt 69 of 500\n",
      "Retrying in 120 seconds\n",
      "Recovering from connection error [HTTPSConnectionPool(host='cds.climate.copernicus.eu', port=443): Max retries exceeded with url: /api/retrieve/v1/jobs/5f6a5775-e57e-4eb0-a5bf-6b9ee61afdce?log=True&request=True (Caused by NameResolutionError(\"<urllib3.connection.HTTPSConnection object at 0x000002EA379E5730>: Failed to resolve 'cds.climate.copernicus.eu' ([Errno 11001] getaddrinfo failed)\"))], attempt 70 of 500\n",
      "Retrying in 120 seconds\n",
      "Recovering from connection error [HTTPSConnectionPool(host='cds.climate.copernicus.eu', port=443): Max retries exceeded with url: /api/retrieve/v1/jobs/5f6a5775-e57e-4eb0-a5bf-6b9ee61afdce?log=True&request=True (Caused by NameResolutionError(\"<urllib3.connection.HTTPSConnection object at 0x000002EA379E6240>: Failed to resolve 'cds.climate.copernicus.eu' ([Errno 11001] getaddrinfo failed)\"))], attempt 71 of 500\n",
      "Retrying in 120 seconds\n",
      "Recovering from connection error [HTTPSConnectionPool(host='cds.climate.copernicus.eu', port=443): Max retries exceeded with url: /api/retrieve/v1/jobs/5f6a5775-e57e-4eb0-a5bf-6b9ee61afdce?log=True&request=True (Caused by NameResolutionError(\"<urllib3.connection.HTTPSConnection object at 0x000002EA379E40E0>: Failed to resolve 'cds.climate.copernicus.eu' ([Errno 11001] getaddrinfo failed)\"))], attempt 72 of 500\n",
      "Retrying in 120 seconds\n",
      "Recovering from connection error [HTTPSConnectionPool(host='cds.climate.copernicus.eu', port=443): Max retries exceeded with url: /api/retrieve/v1/jobs/5f6a5775-e57e-4eb0-a5bf-6b9ee61afdce?log=True&request=True (Caused by NameResolutionError(\"<urllib3.connection.HTTPSConnection object at 0x000002EA379E6780>: Failed to resolve 'cds.climate.copernicus.eu' ([Errno 11001] getaddrinfo failed)\"))], attempt 73 of 500\n",
      "Retrying in 120 seconds\n",
      "Recovering from connection error [HTTPSConnectionPool(host='cds.climate.copernicus.eu', port=443): Max retries exceeded with url: /api/retrieve/v1/jobs/5f6a5775-e57e-4eb0-a5bf-6b9ee61afdce?log=True&request=True (Caused by NameResolutionError(\"<urllib3.connection.HTTPSConnection object at 0x000002EA37961DC0>: Failed to resolve 'cds.climate.copernicus.eu' ([Errno 11001] getaddrinfo failed)\"))], attempt 74 of 500\n",
      "Retrying in 120 seconds\n",
      "Recovering from connection error [HTTPSConnectionPool(host='cds.climate.copernicus.eu', port=443): Max retries exceeded with url: /api/retrieve/v1/jobs/5f6a5775-e57e-4eb0-a5bf-6b9ee61afdce?log=True&request=True (Caused by NameResolutionError(\"<urllib3.connection.HTTPSConnection object at 0x000002EA37963C20>: Failed to resolve 'cds.climate.copernicus.eu' ([Errno 11001] getaddrinfo failed)\"))], attempt 75 of 500\n",
      "Retrying in 120 seconds\n",
      "Recovering from connection error [HTTPSConnectionPool(host='cds.climate.copernicus.eu', port=443): Max retries exceeded with url: /api/retrieve/v1/jobs/5f6a5775-e57e-4eb0-a5bf-6b9ee61afdce?log=True&request=True (Caused by NameResolutionError(\"<urllib3.connection.HTTPSConnection object at 0x000002EA3788E810>: Failed to resolve 'cds.climate.copernicus.eu' ([Errno 11001] getaddrinfo failed)\"))], attempt 76 of 500\n",
      "Retrying in 120 seconds\n",
      "Recovering from connection error [HTTPSConnectionPool(host='cds.climate.copernicus.eu', port=443): Max retries exceeded with url: /api/retrieve/v1/jobs/5f6a5775-e57e-4eb0-a5bf-6b9ee61afdce?log=True&request=True (Caused by NameResolutionError(\"<urllib3.connection.HTTPSConnection object at 0x000002EA3768E300>: Failed to resolve 'cds.climate.copernicus.eu' ([Errno 11001] getaddrinfo failed)\"))], attempt 77 of 500\n",
      "Retrying in 120 seconds\n",
      "Recovering from connection error [HTTPSConnectionPool(host='cds.climate.copernicus.eu', port=443): Max retries exceeded with url: /api/retrieve/v1/jobs/5f6a5775-e57e-4eb0-a5bf-6b9ee61afdce?log=True&request=True (Caused by NameResolutionError(\"<urllib3.connection.HTTPSConnection object at 0x000002EA379A6240>: Failed to resolve 'cds.climate.copernicus.eu' ([Errno 11001] getaddrinfo failed)\"))], attempt 78 of 500\n",
      "Retrying in 120 seconds\n",
      "Recovering from connection error [HTTPSConnectionPool(host='cds.climate.copernicus.eu', port=443): Max retries exceeded with url: /api/retrieve/v1/jobs/5f6a5775-e57e-4eb0-a5bf-6b9ee61afdce?log=True&request=True (Caused by NameResolutionError(\"<urllib3.connection.HTTPSConnection object at 0x000002EA379A73B0>: Failed to resolve 'cds.climate.copernicus.eu' ([Errno 11001] getaddrinfo failed)\"))], attempt 79 of 500\n",
      "Retrying in 120 seconds\n",
      "Recovering from connection error [HTTPSConnectionPool(host='cds.climate.copernicus.eu', port=443): Max retries exceeded with url: /api/retrieve/v1/jobs/5f6a5775-e57e-4eb0-a5bf-6b9ee61afdce?log=True&request=True (Caused by NameResolutionError(\"<urllib3.connection.HTTPSConnection object at 0x000002EA379A5880>: Failed to resolve 'cds.climate.copernicus.eu' ([Errno 11001] getaddrinfo failed)\"))], attempt 80 of 500\n",
      "Retrying in 120 seconds\n",
      "Recovering from connection error [HTTPSConnectionPool(host='cds.climate.copernicus.eu', port=443): Max retries exceeded with url: /api/retrieve/v1/jobs/5f6a5775-e57e-4eb0-a5bf-6b9ee61afdce?log=True&request=True (Caused by NameResolutionError(\"<urllib3.connection.HTTPSConnection object at 0x000002EA379E6CF0>: Failed to resolve 'cds.climate.copernicus.eu' ([Errno 11001] getaddrinfo failed)\"))], attempt 81 of 500\n",
      "Retrying in 120 seconds\n",
      "Recovering from connection error [HTTPSConnectionPool(host='cds.climate.copernicus.eu', port=443): Max retries exceeded with url: /api/retrieve/v1/jobs/5f6a5775-e57e-4eb0-a5bf-6b9ee61afdce?log=True&request=True (Caused by NameResolutionError(\"<urllib3.connection.HTTPSConnection object at 0x000002EA379E7350>: Failed to resolve 'cds.climate.copernicus.eu' ([Errno 11001] getaddrinfo failed)\"))], attempt 82 of 500\n",
      "Retrying in 120 seconds\n",
      "Recovering from connection error [HTTPSConnectionPool(host='cds.climate.copernicus.eu', port=443): Max retries exceeded with url: /api/retrieve/v1/jobs/5f6a5775-e57e-4eb0-a5bf-6b9ee61afdce?log=True&request=True (Caused by NameResolutionError(\"<urllib3.connection.HTTPSConnection object at 0x000002EA379E5730>: Failed to resolve 'cds.climate.copernicus.eu' ([Errno 11001] getaddrinfo failed)\"))], attempt 83 of 500\n",
      "Retrying in 120 seconds\n",
      "Recovering from connection error [HTTPSConnectionPool(host='cds.climate.copernicus.eu', port=443): Max retries exceeded with url: /api/retrieve/v1/jobs/5f6a5775-e57e-4eb0-a5bf-6b9ee61afdce?log=True&request=True (Caused by NameResolutionError(\"<urllib3.connection.HTTPSConnection object at 0x000002EA379E4AD0>: Failed to resolve 'cds.climate.copernicus.eu' ([Errno 11001] getaddrinfo failed)\"))], attempt 84 of 500\n",
      "Retrying in 120 seconds\n",
      "Recovering from connection error [HTTPSConnectionPool(host='cds.climate.copernicus.eu', port=443): Max retries exceeded with url: /api/retrieve/v1/jobs/5f6a5775-e57e-4eb0-a5bf-6b9ee61afdce?log=True&request=True (Caused by NameResolutionError(\"<urllib3.connection.HTTPSConnection object at 0x000002EA379E5FA0>: Failed to resolve 'cds.climate.copernicus.eu' ([Errno 11001] getaddrinfo failed)\"))], attempt 85 of 500\n",
      "Retrying in 120 seconds\n",
      "Recovering from connection error [HTTPSConnectionPool(host='cds.climate.copernicus.eu', port=443): Max retries exceeded with url: /api/retrieve/v1/jobs/5f6a5775-e57e-4eb0-a5bf-6b9ee61afdce?log=True&request=True (Caused by NameResolutionError(\"<urllib3.connection.HTTPSConnection object at 0x000002EA379E6DB0>: Failed to resolve 'cds.climate.copernicus.eu' ([Errno 11001] getaddrinfo failed)\"))], attempt 86 of 500\n",
      "Retrying in 120 seconds\n",
      "Recovering from connection error [HTTPSConnectionPool(host='cds.climate.copernicus.eu', port=443): Max retries exceeded with url: /api/retrieve/v1/jobs/5f6a5775-e57e-4eb0-a5bf-6b9ee61afdce?log=True&request=True (Caused by NameResolutionError(\"<urllib3.connection.HTTPSConnection object at 0x000002EA379E5340>: Failed to resolve 'cds.climate.copernicus.eu' ([Errno 11001] getaddrinfo failed)\"))], attempt 87 of 500\n",
      "Retrying in 120 seconds\n",
      "Recovering from connection error [HTTPSConnectionPool(host='cds.climate.copernicus.eu', port=443): Max retries exceeded with url: /api/retrieve/v1/jobs/5f6a5775-e57e-4eb0-a5bf-6b9ee61afdce?log=True&request=True (Caused by NameResolutionError(\"<urllib3.connection.HTTPSConnection object at 0x000002EA379A7A70>: Failed to resolve 'cds.climate.copernicus.eu' ([Errno 11001] getaddrinfo failed)\"))], attempt 88 of 500\n",
      "Retrying in 120 seconds\n",
      "Recovering from connection error [HTTPSConnectionPool(host='cds.climate.copernicus.eu', port=443): Max retries exceeded with url: /api/retrieve/v1/jobs/5f6a5775-e57e-4eb0-a5bf-6b9ee61afdce?log=True&request=True (Caused by NameResolutionError(\"<urllib3.connection.HTTPSConnection object at 0x000002EA37867020>: Failed to resolve 'cds.climate.copernicus.eu' ([Errno 11001] getaddrinfo failed)\"))], attempt 89 of 500\n",
      "Retrying in 120 seconds\n",
      "Recovering from connection error [HTTPSConnectionPool(host='cds.climate.copernicus.eu', port=443): Max retries exceeded with url: /api/retrieve/v1/jobs/5f6a5775-e57e-4eb0-a5bf-6b9ee61afdce?log=True&request=True (Caused by NameResolutionError(\"<urllib3.connection.HTTPSConnection object at 0x000002EA3788CD40>: Failed to resolve 'cds.climate.copernicus.eu' ([Errno 11001] getaddrinfo failed)\"))], attempt 90 of 500\n",
      "Retrying in 120 seconds\n",
      "Recovering from connection error [HTTPSConnectionPool(host='cds.climate.copernicus.eu', port=443): Max retries exceeded with url: /api/retrieve/v1/jobs/5f6a5775-e57e-4eb0-a5bf-6b9ee61afdce?log=True&request=True (Caused by NameResolutionError(\"<urllib3.connection.HTTPSConnection object at 0x000002EA37960D10>: Failed to resolve 'cds.climate.copernicus.eu' ([Errno 11001] getaddrinfo failed)\"))], attempt 91 of 500\n",
      "Retrying in 120 seconds\n",
      "Recovering from connection error [HTTPSConnectionPool(host='cds.climate.copernicus.eu', port=443): Max retries exceeded with url: /api/retrieve/v1/jobs/5f6a5775-e57e-4eb0-a5bf-6b9ee61afdce?log=True&request=True (Caused by NameResolutionError(\"<urllib3.connection.HTTPSConnection object at 0x000002EA37810080>: Failed to resolve 'cds.climate.copernicus.eu' ([Errno 11001] getaddrinfo failed)\"))], attempt 92 of 500\n",
      "Retrying in 120 seconds\n",
      "Recovering from connection error [HTTPSConnectionPool(host='cds.climate.copernicus.eu', port=443): Max retries exceeded with url: /api/retrieve/v1/jobs/5f6a5775-e57e-4eb0-a5bf-6b9ee61afdce?log=True&request=True (Caused by NameResolutionError(\"<urllib3.connection.HTTPSConnection object at 0x000002EA378E4890>: Failed to resolve 'cds.climate.copernicus.eu' ([Errno 11001] getaddrinfo failed)\"))], attempt 93 of 500\n",
      "Retrying in 120 seconds\n",
      "Recovering from connection error [HTTPSConnectionPool(host='cds.climate.copernicus.eu', port=443): Max retries exceeded with url: /api/retrieve/v1/jobs/5f6a5775-e57e-4eb0-a5bf-6b9ee61afdce?log=True&request=True (Caused by NameResolutionError(\"<urllib3.connection.HTTPSConnection object at 0x000002EA379E5610>: Failed to resolve 'cds.climate.copernicus.eu' ([Errno 11001] getaddrinfo failed)\"))], attempt 94 of 500\n",
      "Retrying in 120 seconds\n",
      "Recovering from connection error [HTTPSConnectionPool(host='cds.climate.copernicus.eu', port=443): Max retries exceeded with url: /api/retrieve/v1/jobs/5f6a5775-e57e-4eb0-a5bf-6b9ee61afdce?log=True&request=True (Caused by NameResolutionError(\"<urllib3.connection.HTTPSConnection object at 0x000002EA379E6A20>: Failed to resolve 'cds.climate.copernicus.eu' ([Errno 11001] getaddrinfo failed)\"))], attempt 95 of 500\n",
      "Retrying in 120 seconds\n",
      "Recovering from connection error [HTTPSConnectionPool(host='cds.climate.copernicus.eu', port=443): Max retries exceeded with url: /api/retrieve/v1/jobs/5f6a5775-e57e-4eb0-a5bf-6b9ee61afdce?log=True&request=True (Caused by NameResolutionError(\"<urllib3.connection.HTTPSConnection object at 0x000002EA379E5FA0>: Failed to resolve 'cds.climate.copernicus.eu' ([Errno 11001] getaddrinfo failed)\"))], attempt 96 of 500\n",
      "Retrying in 120 seconds\n",
      "Recovering from connection error [HTTPSConnectionPool(host='cds.climate.copernicus.eu', port=443): Max retries exceeded with url: /api/retrieve/v1/jobs/5f6a5775-e57e-4eb0-a5bf-6b9ee61afdce?log=True&request=True (Caused by NameResolutionError(\"<urllib3.connection.HTTPSConnection object at 0x000002EA379E6840>: Failed to resolve 'cds.climate.copernicus.eu' ([Errno 11001] getaddrinfo failed)\"))], attempt 97 of 500\n",
      "Retrying in 120 seconds\n",
      "Recovering from connection error [HTTPSConnectionPool(host='cds.climate.copernicus.eu', port=443): Max retries exceeded with url: /api/retrieve/v1/jobs/5f6a5775-e57e-4eb0-a5bf-6b9ee61afdce?log=True&request=True (Caused by NameResolutionError(\"<urllib3.connection.HTTPSConnection object at 0x000002EA379E75C0>: Failed to resolve 'cds.climate.copernicus.eu' ([Errno 11001] getaddrinfo failed)\"))], attempt 98 of 500\n",
      "Retrying in 120 seconds\n",
      "Recovering from connection error [HTTPSConnectionPool(host='cds.climate.copernicus.eu', port=443): Max retries exceeded with url: /api/retrieve/v1/jobs/5f6a5775-e57e-4eb0-a5bf-6b9ee61afdce?log=True&request=True (Caused by NameResolutionError(\"<urllib3.connection.HTTPSConnection object at 0x000002EA379E40E0>: Failed to resolve 'cds.climate.copernicus.eu' ([Errno 11001] getaddrinfo failed)\"))], attempt 99 of 500\n",
      "Retrying in 120 seconds\n",
      "Recovering from connection error [HTTPSConnectionPool(host='cds.climate.copernicus.eu', port=443): Max retries exceeded with url: /api/retrieve/v1/jobs/5f6a5775-e57e-4eb0-a5bf-6b9ee61afdce?log=True&request=True (Caused by NameResolutionError(\"<urllib3.connection.HTTPSConnection object at 0x000002EA379E7C20>: Failed to resolve 'cds.climate.copernicus.eu' ([Errno 11001] getaddrinfo failed)\"))], attempt 100 of 500\n",
      "Retrying in 120 seconds\n",
      "Recovering from connection error [HTTPSConnectionPool(host='cds.climate.copernicus.eu', port=443): Max retries exceeded with url: /api/retrieve/v1/jobs/5f6a5775-e57e-4eb0-a5bf-6b9ee61afdce?log=True&request=True (Caused by NameResolutionError(\"<urllib3.connection.HTTPSConnection object at 0x000002EA37924140>: Failed to resolve 'cds.climate.copernicus.eu' ([Errno 11001] getaddrinfo failed)\"))], attempt 101 of 500\n",
      "Retrying in 120 seconds\n",
      "Recovering from connection error [HTTPSConnectionPool(host='cds.climate.copernicus.eu', port=443): Max retries exceeded with url: /api/retrieve/v1/jobs/5f6a5775-e57e-4eb0-a5bf-6b9ee61afdce?log=True&request=True (Caused by NameResolutionError(\"<urllib3.connection.HTTPSConnection object at 0x000002EA379E51F0>: Failed to resolve 'cds.climate.copernicus.eu' ([Errno 11001] getaddrinfo failed)\"))], attempt 102 of 500\n",
      "Retrying in 120 seconds\n",
      "Recovering from connection error [HTTPSConnectionPool(host='cds.climate.copernicus.eu', port=443): Max retries exceeded with url: /api/retrieve/v1/jobs/5f6a5775-e57e-4eb0-a5bf-6b9ee61afdce?log=True&request=True (Caused by NameResolutionError(\"<urllib3.connection.HTTPSConnection object at 0x000002EA379E75F0>: Failed to resolve 'cds.climate.copernicus.eu' ([Errno 11001] getaddrinfo failed)\"))], attempt 103 of 500\n",
      "Retrying in 120 seconds\n",
      "Recovering from connection error [HTTPSConnectionPool(host='cds.climate.copernicus.eu', port=443): Max retries exceeded with url: /api/retrieve/v1/jobs/5f6a5775-e57e-4eb0-a5bf-6b9ee61afdce?log=True&request=True (Caused by NameResolutionError(\"<urllib3.connection.HTTPSConnection object at 0x000002EA379E49E0>: Failed to resolve 'cds.climate.copernicus.eu' ([Errno 11001] getaddrinfo failed)\"))], attempt 104 of 500\n",
      "Retrying in 120 seconds\n",
      "Recovering from connection error [HTTPSConnectionPool(host='cds.climate.copernicus.eu', port=443): Max retries exceeded with url: /api/retrieve/v1/jobs/5f6a5775-e57e-4eb0-a5bf-6b9ee61afdce?log=True&request=True (Caused by NameResolutionError(\"<urllib3.connection.HTTPSConnection object at 0x000002EA37811970>: Failed to resolve 'cds.climate.copernicus.eu' ([Errno 11001] getaddrinfo failed)\"))], attempt 105 of 500\n",
      "Retrying in 120 seconds\n",
      "Recovering from connection error [HTTPSConnectionPool(host='cds.climate.copernicus.eu', port=443): Max retries exceeded with url: /api/retrieve/v1/jobs/5f6a5775-e57e-4eb0-a5bf-6b9ee61afdce?log=True&request=True (Caused by NameResolutionError(\"<urllib3.connection.HTTPSConnection object at 0x000002EA37961DC0>: Failed to resolve 'cds.climate.copernicus.eu' ([Errno 11001] getaddrinfo failed)\"))], attempt 106 of 500\n",
      "Retrying in 120 seconds\n",
      "Recovering from connection error [HTTPSConnectionPool(host='cds.climate.copernicus.eu', port=443): Max retries exceeded with url: /api/retrieve/v1/jobs/5f6a5775-e57e-4eb0-a5bf-6b9ee61afdce?log=True&request=True (Caused by NameResolutionError(\"<urllib3.connection.HTTPSConnection object at 0x000002EA37963C20>: Failed to resolve 'cds.climate.copernicus.eu' ([Errno 11001] getaddrinfo failed)\"))], attempt 107 of 500\n",
      "Retrying in 120 seconds\n",
      "Recovering from connection error [HTTPSConnectionPool(host='cds.climate.copernicus.eu', port=443): Max retries exceeded with url: /api/retrieve/v1/jobs/5f6a5775-e57e-4eb0-a5bf-6b9ee61afdce?log=True&request=True (Caused by NameResolutionError(\"<urllib3.connection.HTTPSConnection object at 0x000002EA3788CD40>: Failed to resolve 'cds.climate.copernicus.eu' ([Errno 11001] getaddrinfo failed)\"))], attempt 108 of 500\n",
      "Retrying in 120 seconds\n",
      "Recovering from connection error [HTTPSConnectionPool(host='cds.climate.copernicus.eu', port=443): Max retries exceeded with url: /api/retrieve/v1/jobs/5f6a5775-e57e-4eb0-a5bf-6b9ee61afdce?log=True&request=True (Caused by NameResolutionError(\"<urllib3.connection.HTTPSConnection object at 0x000002EA378674A0>: Failed to resolve 'cds.climate.copernicus.eu' ([Errno 11001] getaddrinfo failed)\"))], attempt 109 of 500\n",
      "Retrying in 120 seconds\n",
      "Recovering from connection error [HTTPSConnectionPool(host='cds.climate.copernicus.eu', port=443): Max retries exceeded with url: /api/retrieve/v1/jobs/5f6a5775-e57e-4eb0-a5bf-6b9ee61afdce?log=True&request=True (Caused by NameResolutionError(\"<urllib3.connection.HTTPSConnection object at 0x000002EA3768EE10>: Failed to resolve 'cds.climate.copernicus.eu' ([Errno 11001] getaddrinfo failed)\"))], attempt 110 of 500\n",
      "Retrying in 120 seconds\n",
      "Recovering from connection error [HTTPSConnectionPool(host='cds.climate.copernicus.eu', port=443): Max retries exceeded with url: /api/retrieve/v1/jobs/5f6a5775-e57e-4eb0-a5bf-6b9ee61afdce?log=True&request=True (Caused by NameResolutionError(\"<urllib3.connection.HTTPSConnection object at 0x000002EA379A40E0>: Failed to resolve 'cds.climate.copernicus.eu' ([Errno 11001] getaddrinfo failed)\"))], attempt 111 of 500\n",
      "Retrying in 120 seconds\n",
      "Recovering from connection error [HTTPSConnectionPool(host='cds.climate.copernicus.eu', port=443): Max retries exceeded with url: /api/retrieve/v1/jobs/5f6a5775-e57e-4eb0-a5bf-6b9ee61afdce?log=True&request=True (Caused by NameResolutionError(\"<urllib3.connection.HTTPSConnection object at 0x000002EA379A4800>: Failed to resolve 'cds.climate.copernicus.eu' ([Errno 11001] getaddrinfo failed)\"))], attempt 112 of 500\n",
      "Retrying in 120 seconds\n",
      "Recovering from connection error [HTTPSConnectionPool(host='cds.climate.copernicus.eu', port=443): Max retries exceeded with url: /api/retrieve/v1/jobs/5f6a5775-e57e-4eb0-a5bf-6b9ee61afdce?log=True&request=True (Caused by NameResolutionError(\"<urllib3.connection.HTTPSConnection object at 0x000002EA379A73B0>: Failed to resolve 'cds.climate.copernicus.eu' ([Errno 11001] getaddrinfo failed)\"))], attempt 113 of 500\n",
      "Retrying in 120 seconds\n",
      "Recovering from connection error [HTTPSConnectionPool(host='cds.climate.copernicus.eu', port=443): Max retries exceeded with url: /api/retrieve/v1/jobs/5f6a5775-e57e-4eb0-a5bf-6b9ee61afdce?log=True&request=True (Caused by NameResolutionError(\"<urllib3.connection.HTTPSConnection object at 0x000002EA37927DD0>: Failed to resolve 'cds.climate.copernicus.eu' ([Errno 11001] getaddrinfo failed)\"))], attempt 114 of 500\n",
      "Retrying in 120 seconds\n",
      "Recovering from connection error [HTTPSConnectionPool(host='cds.climate.copernicus.eu', port=443): Max retries exceeded with url: /api/retrieve/v1/jobs/5f6a5775-e57e-4eb0-a5bf-6b9ee61afdce?log=True&request=True (Caused by NameResolutionError(\"<urllib3.connection.HTTPSConnection object at 0x000002EA379242F0>: Failed to resolve 'cds.climate.copernicus.eu' ([Errno 11001] getaddrinfo failed)\"))], attempt 115 of 500\n",
      "Retrying in 120 seconds\n",
      "Recovering from connection error [HTTPSConnectionPool(host='cds.climate.copernicus.eu', port=443): Max retries exceeded with url: /api/retrieve/v1/jobs/5f6a5775-e57e-4eb0-a5bf-6b9ee61afdce?log=True&request=True (Caused by NameResolutionError(\"<urllib3.connection.HTTPSConnection object at 0x000002EA379A43E0>: Failed to resolve 'cds.climate.copernicus.eu' ([Errno 11001] getaddrinfo failed)\"))], attempt 116 of 500\n",
      "Retrying in 120 seconds\n",
      "Recovering from connection error [HTTPSConnectionPool(host='cds.climate.copernicus.eu', port=443): Max retries exceeded with url: /api/retrieve/v1/jobs/5f6a5775-e57e-4eb0-a5bf-6b9ee61afdce?log=True&request=True (Caused by NameResolutionError(\"<urllib3.connection.HTTPSConnection object at 0x000002EA3768F680>: Failed to resolve 'cds.climate.copernicus.eu' ([Errno 11001] getaddrinfo failed)\"))], attempt 117 of 500\n",
      "Retrying in 120 seconds\n",
      "Recovering from connection error [HTTPSConnectionPool(host='cds.climate.copernicus.eu', port=443): Max retries exceeded with url: /api/retrieve/v1/jobs/5f6a5775-e57e-4eb0-a5bf-6b9ee61afdce?log=True&request=True (Caused by NameResolutionError(\"<urllib3.connection.HTTPSConnection object at 0x000002EA3788EC90>: Failed to resolve 'cds.climate.copernicus.eu' ([Errno 11001] getaddrinfo failed)\"))], attempt 118 of 500\n",
      "Retrying in 120 seconds\n",
      "Recovering from connection error [HTTPSConnectionPool(host='cds.climate.copernicus.eu', port=443): Max retries exceeded with url: /api/retrieve/v1/jobs/5f6a5775-e57e-4eb0-a5bf-6b9ee61afdce?log=True&request=True (Caused by NameResolutionError(\"<urllib3.connection.HTTPSConnection object at 0x000002EA377E7680>: Failed to resolve 'cds.climate.copernicus.eu' ([Errno 11001] getaddrinfo failed)\"))], attempt 119 of 500\n",
      "Retrying in 120 seconds\n",
      "Recovering from connection error [HTTPSConnectionPool(host='cds.climate.copernicus.eu', port=443): Max retries exceeded with url: /api/retrieve/v1/jobs/5f6a5775-e57e-4eb0-a5bf-6b9ee61afdce?log=True&request=True (Caused by NameResolutionError(\"<urllib3.connection.HTTPSConnection object at 0x000002EA37963530>: Failed to resolve 'cds.climate.copernicus.eu' ([Errno 11001] getaddrinfo failed)\"))], attempt 120 of 500\n",
      "Retrying in 120 seconds\n",
      "Recovering from connection error [HTTPSConnectionPool(host='cds.climate.copernicus.eu', port=443): Max retries exceeded with url: /api/retrieve/v1/jobs/5f6a5775-e57e-4eb0-a5bf-6b9ee61afdce?log=True&request=True (Caused by NameResolutionError(\"<urllib3.connection.HTTPSConnection object at 0x000002EA37810FE0>: Failed to resolve 'cds.climate.copernicus.eu' ([Errno 11001] getaddrinfo failed)\"))], attempt 121 of 500\n",
      "Retrying in 120 seconds\n",
      "Recovering from connection error [HTTPSConnectionPool(host='cds.climate.copernicus.eu', port=443): Max retries exceeded with url: /api/retrieve/v1/jobs/5f6a5775-e57e-4eb0-a5bf-6b9ee61afdce?log=True&request=True (Caused by NameResolutionError(\"<urllib3.connection.HTTPSConnection object at 0x000002EA379E69C0>: Failed to resolve 'cds.climate.copernicus.eu' ([Errno 11001] getaddrinfo failed)\"))], attempt 122 of 500\n",
      "Retrying in 120 seconds\n",
      "Recovering from connection error [HTTPSConnectionPool(host='cds.climate.copernicus.eu', port=443): Max retries exceeded with url: /api/retrieve/v1/jobs/5f6a5775-e57e-4eb0-a5bf-6b9ee61afdce?log=True&request=True (Caused by NameResolutionError(\"<urllib3.connection.HTTPSConnection object at 0x000002EA379E6A50>: Failed to resolve 'cds.climate.copernicus.eu' ([Errno 11001] getaddrinfo failed)\"))], attempt 123 of 500\n",
      "Retrying in 120 seconds\n",
      "Recovering from connection error [HTTPSConnectionPool(host='cds.climate.copernicus.eu', port=443): Max retries exceeded with url: /api/retrieve/v1/jobs/5f6a5775-e57e-4eb0-a5bf-6b9ee61afdce?log=True&request=True (Caused by NameResolutionError(\"<urllib3.connection.HTTPSConnection object at 0x000002EA379E6180>: Failed to resolve 'cds.climate.copernicus.eu' ([Errno 11001] getaddrinfo failed)\"))], attempt 124 of 500\n",
      "Retrying in 120 seconds\n",
      "Recovering from connection error [HTTPSConnectionPool(host='cds.climate.copernicus.eu', port=443): Max retries exceeded with url: /api/retrieve/v1/jobs/5f6a5775-e57e-4eb0-a5bf-6b9ee61afdce?log=True&request=True (Caused by NameResolutionError(\"<urllib3.connection.HTTPSConnection object at 0x000002EA379E6A20>: Failed to resolve 'cds.climate.copernicus.eu' ([Errno 11001] getaddrinfo failed)\"))], attempt 125 of 500\n",
      "Retrying in 120 seconds\n",
      "Recovering from connection error [HTTPSConnectionPool(host='cds.climate.copernicus.eu', port=443): Max retries exceeded with url: /api/retrieve/v1/jobs/5f6a5775-e57e-4eb0-a5bf-6b9ee61afdce?log=True&request=True (Caused by NameResolutionError(\"<urllib3.connection.HTTPSConnection object at 0x000002EA379E75F0>: Failed to resolve 'cds.climate.copernicus.eu' ([Errno 11001] getaddrinfo failed)\"))], attempt 126 of 500\n",
      "Retrying in 120 seconds\n",
      "Recovering from connection error [HTTPSConnectionPool(host='cds.climate.copernicus.eu', port=443): Max retries exceeded with url: /api/retrieve/v1/jobs/5f6a5775-e57e-4eb0-a5bf-6b9ee61afdce?log=True&request=True (Caused by NameResolutionError(\"<urllib3.connection.HTTPSConnection object at 0x000002EA379E4830>: Failed to resolve 'cds.climate.copernicus.eu' ([Errno 11001] getaddrinfo failed)\"))], attempt 127 of 500\n",
      "Retrying in 120 seconds\n",
      "Recovering from connection error [HTTPSConnectionPool(host='cds.climate.copernicus.eu', port=443): Max retries exceeded with url: /api/retrieve/v1/jobs/5f6a5775-e57e-4eb0-a5bf-6b9ee61afdce?log=True&request=True (Caused by NameResolutionError(\"<urllib3.connection.HTTPSConnection object at 0x000002EA37924EC0>: Failed to resolve 'cds.climate.copernicus.eu' ([Errno 11001] getaddrinfo failed)\"))], attempt 128 of 500\n",
      "Retrying in 120 seconds\n",
      "Recovering from connection error [HTTPSConnectionPool(host='cds.climate.copernicus.eu', port=443): Max retries exceeded with url: /api/retrieve/v1/jobs/5f6a5775-e57e-4eb0-a5bf-6b9ee61afdce?log=True&request=True (Caused by NameResolutionError(\"<urllib3.connection.HTTPSConnection object at 0x000002EA37925610>: Failed to resolve 'cds.climate.copernicus.eu' ([Errno 11001] getaddrinfo failed)\"))], attempt 129 of 500\n",
      "Retrying in 120 seconds\n",
      "Recovering from connection error [HTTPSConnectionPool(host='cds.climate.copernicus.eu', port=443): Max retries exceeded with url: /api/retrieve/v1/jobs/5f6a5775-e57e-4eb0-a5bf-6b9ee61afdce?log=True&request=True (Caused by NameResolutionError(\"<urllib3.connection.HTTPSConnection object at 0x000002EA379E4EC0>: Failed to resolve 'cds.climate.copernicus.eu' ([Errno 11001] getaddrinfo failed)\"))], attempt 130 of 500\n",
      "Retrying in 120 seconds\n",
      "Recovering from connection error [HTTPSConnectionPool(host='cds.climate.copernicus.eu', port=443): Max retries exceeded with url: /api/retrieve/v1/jobs/5f6a5775-e57e-4eb0-a5bf-6b9ee61afdce?log=True&request=True (Caused by NameResolutionError(\"<urllib3.connection.HTTPSConnection object at 0x000002EA379E4CB0>: Failed to resolve 'cds.climate.copernicus.eu' ([Errno 11001] getaddrinfo failed)\"))], attempt 131 of 500\n",
      "Retrying in 120 seconds\n",
      "Recovering from connection error [HTTPSConnectionPool(host='cds.climate.copernicus.eu', port=443): Max retries exceeded with url: /api/retrieve/v1/jobs/5f6a5775-e57e-4eb0-a5bf-6b9ee61afdce?log=True&request=True (Caused by NameResolutionError(\"<urllib3.connection.HTTPSConnection object at 0x000002EA379E68D0>: Failed to resolve 'cds.climate.copernicus.eu' ([Errno 11001] getaddrinfo failed)\"))], attempt 132 of 500\n",
      "Retrying in 120 seconds\n",
      "Recovering from connection error [HTTPSConnectionPool(host='cds.climate.copernicus.eu', port=443): Max retries exceeded with url: /api/retrieve/v1/jobs/5f6a5775-e57e-4eb0-a5bf-6b9ee61afdce?log=True&request=True (Caused by NameResolutionError(\"<urllib3.connection.HTTPSConnection object at 0x000002EA379E7A40>: Failed to resolve 'cds.climate.copernicus.eu' ([Errno 11001] getaddrinfo failed)\"))], attempt 133 of 500\n",
      "Retrying in 120 seconds\n",
      "Recovering from connection error [HTTPSConnectionPool(host='cds.climate.copernicus.eu', port=443): Max retries exceeded with url: /api/retrieve/v1/jobs/5f6a5775-e57e-4eb0-a5bf-6b9ee61afdce?log=True&request=True (Caused by NameResolutionError(\"<urllib3.connection.HTTPSConnection object at 0x000002EA378E4890>: Failed to resolve 'cds.climate.copernicus.eu' ([Errno 11001] getaddrinfo failed)\"))], attempt 134 of 500\n",
      "Retrying in 120 seconds\n",
      "Recovering from connection error [HTTPSConnectionPool(host='cds.climate.copernicus.eu', port=443): Max retries exceeded with url: /api/retrieve/v1/jobs/5f6a5775-e57e-4eb0-a5bf-6b9ee61afdce?log=True&request=True (Caused by NameResolutionError(\"<urllib3.connection.HTTPSConnection object at 0x000002EA37963740>: Failed to resolve 'cds.climate.copernicus.eu' ([Errno 11001] getaddrinfo failed)\"))], attempt 135 of 500\n",
      "Retrying in 120 seconds\n",
      "Recovering from connection error [HTTPSConnectionPool(host='cds.climate.copernicus.eu', port=443): Max retries exceeded with url: /api/retrieve/v1/jobs/5f6a5775-e57e-4eb0-a5bf-6b9ee61afdce?log=True&request=True (Caused by NameResolutionError(\"<urllib3.connection.HTTPSConnection object at 0x000002EA37960680>: Failed to resolve 'cds.climate.copernicus.eu' ([Errno 11001] getaddrinfo failed)\"))], attempt 136 of 500\n",
      "Retrying in 120 seconds\n",
      "Recovering from connection error [HTTPSConnectionPool(host='cds.climate.copernicus.eu', port=443): Max retries exceeded with url: /api/retrieve/v1/jobs/5f6a5775-e57e-4eb0-a5bf-6b9ee61afdce?log=True&request=True (Caused by NameResolutionError(\"<urllib3.connection.HTTPSConnection object at 0x000002EA37866780>: Failed to resolve 'cds.climate.copernicus.eu' ([Errno 11001] getaddrinfo failed)\"))], attempt 137 of 500\n",
      "Retrying in 120 seconds\n",
      "Recovering from connection error [HTTPSConnectionPool(host='cds.climate.copernicus.eu', port=443): Max retries exceeded with url: /api/retrieve/v1/jobs/5f6a5775-e57e-4eb0-a5bf-6b9ee61afdce?log=True&request=True (Caused by NameResolutionError(\"<urllib3.connection.HTTPSConnection object at 0x000002EA3788F5F0>: Failed to resolve 'cds.climate.copernicus.eu' ([Errno 11001] getaddrinfo failed)\"))], attempt 138 of 500\n",
      "Retrying in 120 seconds\n",
      "Recovering from connection error [HTTPSConnectionPool(host='cds.climate.copernicus.eu', port=443): Max retries exceeded with url: /api/retrieve/v1/jobs/5f6a5775-e57e-4eb0-a5bf-6b9ee61afdce?log=True&request=True (Caused by NameResolutionError(\"<urllib3.connection.HTTPSConnection object at 0x000002EA379A6A50>: Failed to resolve 'cds.climate.copernicus.eu' ([Errno 11001] getaddrinfo failed)\"))], attempt 139 of 500\n",
      "Retrying in 120 seconds\n",
      "Recovering from connection error [HTTPSConnectionPool(host='cds.climate.copernicus.eu', port=443): Max retries exceeded with url: /api/retrieve/v1/jobs/5f6a5775-e57e-4eb0-a5bf-6b9ee61afdce?log=True&request=True (Caused by NameResolutionError(\"<urllib3.connection.HTTPSConnection object at 0x000002EA379A7C20>: Failed to resolve 'cds.climate.copernicus.eu' ([Errno 11001] getaddrinfo failed)\"))], attempt 140 of 500\n",
      "Retrying in 120 seconds\n",
      "Recovering from connection error [HTTPSConnectionPool(host='cds.climate.copernicus.eu', port=443): Max retries exceeded with url: /api/retrieve/v1/jobs/5f6a5775-e57e-4eb0-a5bf-6b9ee61afdce?log=True&request=True (Caused by NameResolutionError(\"<urllib3.connection.HTTPSConnection object at 0x000002EA379A41D0>: Failed to resolve 'cds.climate.copernicus.eu' ([Errno 11001] getaddrinfo failed)\"))], attempt 141 of 500\n",
      "Retrying in 120 seconds\n",
      "Recovering from connection error [HTTPSConnectionPool(host='cds.climate.copernicus.eu', port=443): Max retries exceeded with url: /api/retrieve/v1/jobs/5f6a5775-e57e-4eb0-a5bf-6b9ee61afdce?log=True&request=True (Caused by NameResolutionError(\"<urllib3.connection.HTTPSConnection object at 0x000002EA379A7FE0>: Failed to resolve 'cds.climate.copernicus.eu' ([Errno 11001] getaddrinfo failed)\"))], attempt 142 of 500\n",
      "Retrying in 120 seconds\n",
      "Recovering from connection error [HTTPSConnectionPool(host='cds.climate.copernicus.eu', port=443): Max retries exceeded with url: /api/retrieve/v1/jobs/5f6a5775-e57e-4eb0-a5bf-6b9ee61afdce?log=True&request=True (Caused by NameResolutionError(\"<urllib3.connection.HTTPSConnection object at 0x000002EA37A30380>: Failed to resolve 'cds.climate.copernicus.eu' ([Errno 11001] getaddrinfo failed)\"))], attempt 143 of 500\n",
      "Retrying in 120 seconds\n",
      "Recovering from connection error [HTTPSConnectionPool(host='cds.climate.copernicus.eu', port=443): Max retries exceeded with url: /api/retrieve/v1/jobs/5f6a5775-e57e-4eb0-a5bf-6b9ee61afdce?log=True&request=True (Caused by NameResolutionError(\"<urllib3.connection.HTTPSConnection object at 0x000002EA379A7C20>: Failed to resolve 'cds.climate.copernicus.eu' ([Errno 11001] getaddrinfo failed)\"))], attempt 144 of 500\n",
      "Retrying in 120 seconds\n",
      "Recovering from connection error [HTTPSConnectionPool(host='cds.climate.copernicus.eu', port=443): Max retries exceeded with url: /api/retrieve/v1/jobs/5f6a5775-e57e-4eb0-a5bf-6b9ee61afdce?log=True&request=True (Caused by NameResolutionError(\"<urllib3.connection.HTTPSConnection object at 0x000002EA3768F9B0>: Failed to resolve 'cds.climate.copernicus.eu' ([Errno 11001] getaddrinfo failed)\"))], attempt 145 of 500\n",
      "Retrying in 120 seconds\n",
      "Recovering from connection error [HTTPSConnectionPool(host='cds.climate.copernicus.eu', port=443): Max retries exceeded with url: /api/retrieve/v1/jobs/5f6a5775-e57e-4eb0-a5bf-6b9ee61afdce?log=True&request=True (Caused by NameResolutionError(\"<urllib3.connection.HTTPSConnection object at 0x000002EA3788CD40>: Failed to resolve 'cds.climate.copernicus.eu' ([Errno 11001] getaddrinfo failed)\"))], attempt 146 of 500\n",
      "Retrying in 120 seconds\n",
      "Recovering from connection error [HTTPSConnectionPool(host='cds.climate.copernicus.eu', port=443): Max retries exceeded with url: /api/retrieve/v1/jobs/5f6a5775-e57e-4eb0-a5bf-6b9ee61afdce?log=True&request=True (Caused by NameResolutionError(\"<urllib3.connection.HTTPSConnection object at 0x000002EA377E5AF0>: Failed to resolve 'cds.climate.copernicus.eu' ([Errno 11001] getaddrinfo failed)\"))], attempt 147 of 500\n",
      "Retrying in 120 seconds\n",
      "Recovering from connection error [HTTPSConnectionPool(host='cds.climate.copernicus.eu', port=443): Max retries exceeded with url: /api/retrieve/v1/jobs/5f6a5775-e57e-4eb0-a5bf-6b9ee61afdce?log=True&request=True (Caused by NameResolutionError(\"<urllib3.connection.HTTPSConnection object at 0x000002EA37960800>: Failed to resolve 'cds.climate.copernicus.eu' ([Errno 11001] getaddrinfo failed)\"))], attempt 148 of 500\n",
      "Retrying in 120 seconds\n",
      "Recovering from connection error [HTTPSConnectionPool(host='cds.climate.copernicus.eu', port=443): Max retries exceeded with url: /api/retrieve/v1/jobs/5f6a5775-e57e-4eb0-a5bf-6b9ee61afdce?log=True&request=True (Caused by NameResolutionError(\"<urllib3.connection.HTTPSConnection object at 0x000002EA37810080>: Failed to resolve 'cds.climate.copernicus.eu' ([Errno 11001] getaddrinfo failed)\"))], attempt 149 of 500\n",
      "Retrying in 120 seconds\n",
      "Recovering from connection error [HTTPSConnectionPool(host='cds.climate.copernicus.eu', port=443): Max retries exceeded with url: /api/retrieve/v1/jobs/5f6a5775-e57e-4eb0-a5bf-6b9ee61afdce?log=True&request=True (Caused by NameResolutionError(\"<urllib3.connection.HTTPSConnection object at 0x000002EA378E6570>: Failed to resolve 'cds.climate.copernicus.eu' ([Errno 11001] getaddrinfo failed)\"))], attempt 150 of 500\n",
      "Retrying in 120 seconds\n",
      "Recovering from connection error [HTTPSConnectionPool(host='cds.climate.copernicus.eu', port=443): Max retries exceeded with url: /api/retrieve/v1/jobs/5f6a5775-e57e-4eb0-a5bf-6b9ee61afdce?log=True&request=True (Caused by NameResolutionError(\"<urllib3.connection.HTTPSConnection object at 0x000002EA379E51F0>: Failed to resolve 'cds.climate.copernicus.eu' ([Errno 11001] getaddrinfo failed)\"))], attempt 151 of 500\n",
      "Retrying in 120 seconds\n",
      "Recovering from connection error [HTTPSConnectionPool(host='cds.climate.copernicus.eu', port=443): Max retries exceeded with url: /api/retrieve/v1/jobs/5f6a5775-e57e-4eb0-a5bf-6b9ee61afdce?log=True&request=True (Caused by NameResolutionError(\"<urllib3.connection.HTTPSConnection object at 0x000002EA379E7A40>: Failed to resolve 'cds.climate.copernicus.eu' ([Errno 11001] getaddrinfo failed)\"))], attempt 152 of 500\n",
      "Retrying in 120 seconds\n",
      "Recovering from connection error [HTTPSConnectionPool(host='cds.climate.copernicus.eu', port=443): Max retries exceeded with url: /api/retrieve/v1/jobs/5f6a5775-e57e-4eb0-a5bf-6b9ee61afdce?log=True&request=True (Caused by NameResolutionError(\"<urllib3.connection.HTTPSConnection object at 0x000002EA379E5B20>: Failed to resolve 'cds.climate.copernicus.eu' ([Errno 11001] getaddrinfo failed)\"))], attempt 153 of 500\n",
      "Retrying in 120 seconds\n",
      "Recovering from connection error [HTTPSConnectionPool(host='cds.climate.copernicus.eu', port=443): Max retries exceeded with url: /api/retrieve/v1/jobs/5f6a5775-e57e-4eb0-a5bf-6b9ee61afdce?log=True&request=True (Caused by NameResolutionError(\"<urllib3.connection.HTTPSConnection object at 0x000002EA379E4A70>: Failed to resolve 'cds.climate.copernicus.eu' ([Errno 11001] getaddrinfo failed)\"))], attempt 154 of 500\n",
      "Retrying in 120 seconds\n",
      "Recovering from connection error [HTTPSConnectionPool(host='cds.climate.copernicus.eu', port=443): Max retries exceeded with url: /api/retrieve/v1/jobs/5f6a5775-e57e-4eb0-a5bf-6b9ee61afdce?log=True&request=True (Caused by NameResolutionError(\"<urllib3.connection.HTTPSConnection object at 0x000002EA379E49B0>: Failed to resolve 'cds.climate.copernicus.eu' ([Errno 11001] getaddrinfo failed)\"))], attempt 155 of 500\n",
      "Retrying in 120 seconds\n",
      "Recovering from connection error [HTTPSConnectionPool(host='cds.climate.copernicus.eu', port=443): Max retries exceeded with url: /api/retrieve/v1/jobs/5f6a5775-e57e-4eb0-a5bf-6b9ee61afdce?log=True&request=True (Caused by NameResolutionError(\"<urllib3.connection.HTTPSConnection object at 0x000002EA379251F0>: Failed to resolve 'cds.climate.copernicus.eu' ([Errno 11001] getaddrinfo failed)\"))], attempt 156 of 500\n",
      "Retrying in 120 seconds\n",
      "Recovering from connection error [HTTPSConnectionPool(host='cds.climate.copernicus.eu', port=443): Max retries exceeded with url: /api/retrieve/v1/jobs/5f6a5775-e57e-4eb0-a5bf-6b9ee61afdce?log=True&request=True (Caused by NameResolutionError(\"<urllib3.connection.HTTPSConnection object at 0x000002EA37A30890>: Failed to resolve 'cds.climate.copernicus.eu' ([Errno 11001] getaddrinfo failed)\"))], attempt 157 of 500\n",
      "Retrying in 120 seconds\n",
      "Recovering from connection error [HTTPSConnectionPool(host='cds.climate.copernicus.eu', port=443): Max retries exceeded with url: /api/retrieve/v1/jobs/5f6a5775-e57e-4eb0-a5bf-6b9ee61afdce?log=True&request=True (Caused by NameResolutionError(\"<urllib3.connection.HTTPSConnection object at 0x000002EA379E6B40>: Failed to resolve 'cds.climate.copernicus.eu' ([Errno 11001] getaddrinfo failed)\"))], attempt 158 of 500\n",
      "Retrying in 120 seconds\n",
      "Recovering from connection error [HTTPSConnectionPool(host='cds.climate.copernicus.eu', port=443): Max retries exceeded with url: /api/retrieve/v1/jobs/5f6a5775-e57e-4eb0-a5bf-6b9ee61afdce?log=True&request=True (Caused by NameResolutionError(\"<urllib3.connection.HTTPSConnection object at 0x000002EA379E7950>: Failed to resolve 'cds.climate.copernicus.eu' ([Errno 11001] getaddrinfo failed)\"))], attempt 159 of 500\n",
      "Retrying in 120 seconds\n",
      "Recovering from connection error [HTTPSConnectionPool(host='cds.climate.copernicus.eu', port=443): Max retries exceeded with url: /api/retrieve/v1/jobs/5f6a5775-e57e-4eb0-a5bf-6b9ee61afdce?log=True&request=True (Caused by NameResolutionError(\"<urllib3.connection.HTTPSConnection object at 0x000002EA379E6D20>: Failed to resolve 'cds.climate.copernicus.eu' ([Errno 11001] getaddrinfo failed)\"))], attempt 160 of 500\n",
      "Retrying in 120 seconds\n",
      "Recovering from connection error [HTTPSConnectionPool(host='cds.climate.copernicus.eu', port=443): Max retries exceeded with url: /api/retrieve/v1/jobs/5f6a5775-e57e-4eb0-a5bf-6b9ee61afdce?log=True&request=True (Caused by NameResolutionError(\"<urllib3.connection.HTTPSConnection object at 0x000002EA378E5100>: Failed to resolve 'cds.climate.copernicus.eu' ([Errno 11001] getaddrinfo failed)\"))], attempt 161 of 500\n",
      "Retrying in 120 seconds\n",
      "Recovering from connection error [HTTPSConnectionPool(host='cds.climate.copernicus.eu', port=443): Max retries exceeded with url: /api/retrieve/v1/jobs/5f6a5775-e57e-4eb0-a5bf-6b9ee61afdce?log=True&request=True (Caused by NameResolutionError(\"<urllib3.connection.HTTPSConnection object at 0x000002EA37810D40>: Failed to resolve 'cds.climate.copernicus.eu' ([Errno 11001] getaddrinfo failed)\"))], attempt 162 of 500\n",
      "Retrying in 120 seconds\n",
      "Recovering from connection error [HTTPSConnectionPool(host='cds.climate.copernicus.eu', port=443): Max retries exceeded with url: /api/retrieve/v1/jobs/5f6a5775-e57e-4eb0-a5bf-6b9ee61afdce?log=True&request=True (Caused by NameResolutionError(\"<urllib3.connection.HTTPSConnection object at 0x000002EA37963C50>: Failed to resolve 'cds.climate.copernicus.eu' ([Errno 11001] getaddrinfo failed)\"))], attempt 163 of 500\n",
      "Retrying in 120 seconds\n",
      "Recovering from connection error [HTTPSConnectionPool(host='cds.climate.copernicus.eu', port=443): Max retries exceeded with url: /api/retrieve/v1/jobs/5f6a5775-e57e-4eb0-a5bf-6b9ee61afdce?log=True&request=True (Caused by NameResolutionError(\"<urllib3.connection.HTTPSConnection object at 0x000002EA37865AC0>: Failed to resolve 'cds.climate.copernicus.eu' ([Errno 11001] getaddrinfo failed)\"))], attempt 164 of 500\n",
      "Retrying in 120 seconds\n",
      "Recovering from connection error [HTTPSConnectionPool(host='cds.climate.copernicus.eu', port=443): Max retries exceeded with url: /api/retrieve/v1/jobs/5f6a5775-e57e-4eb0-a5bf-6b9ee61afdce?log=True&request=True (Caused by NameResolutionError(\"<urllib3.connection.HTTPSConnection object at 0x000002EA3788F920>: Failed to resolve 'cds.climate.copernicus.eu' ([Errno 11001] getaddrinfo failed)\"))], attempt 165 of 500\n",
      "Retrying in 120 seconds\n",
      "Recovering from connection error [HTTPSConnectionPool(host='cds.climate.copernicus.eu', port=443): Max retries exceeded with url: /api/retrieve/v1/jobs/5f6a5775-e57e-4eb0-a5bf-6b9ee61afdce?log=True&request=True (Caused by NameResolutionError(\"<urllib3.connection.HTTPSConnection object at 0x000002EA3788DA60>: Failed to resolve 'cds.climate.copernicus.eu' ([Errno 11001] getaddrinfo failed)\"))], attempt 166 of 500\n",
      "Retrying in 120 seconds\n",
      "Recovering from connection error [HTTPSConnectionPool(host='cds.climate.copernicus.eu', port=443): Max retries exceeded with url: /api/retrieve/v1/jobs/5f6a5775-e57e-4eb0-a5bf-6b9ee61afdce?log=True&request=True (Caused by NameResolutionError(\"<urllib3.connection.HTTPSConnection object at 0x000002EA379A6C00>: Failed to resolve 'cds.climate.copernicus.eu' ([Errno 11001] getaddrinfo failed)\"))], attempt 167 of 500\n",
      "Retrying in 120 seconds\n",
      "Recovering from connection error [HTTPSConnectionPool(host='cds.climate.copernicus.eu', port=443): Max retries exceeded with url: /api/retrieve/v1/jobs/5f6a5775-e57e-4eb0-a5bf-6b9ee61afdce?log=True&request=True (Caused by NameResolutionError(\"<urllib3.connection.HTTPSConnection object at 0x000002EA379A4800>: Failed to resolve 'cds.climate.copernicus.eu' ([Errno 11001] getaddrinfo failed)\"))], attempt 168 of 500\n",
      "Retrying in 120 seconds\n",
      "Recovering from connection error [HTTPSConnectionPool(host='cds.climate.copernicus.eu', port=443): Max retries exceeded with url: /api/retrieve/v1/jobs/5f6a5775-e57e-4eb0-a5bf-6b9ee61afdce?log=True&request=True (Caused by NameResolutionError(\"<urllib3.connection.HTTPSConnection object at 0x000002EA379A43B0>: Failed to resolve 'cds.climate.copernicus.eu' ([Errno 11001] getaddrinfo failed)\"))], attempt 169 of 500\n",
      "Retrying in 120 seconds\n",
      "Recovering from connection error [HTTPSConnectionPool(host='cds.climate.copernicus.eu', port=443): Max retries exceeded with url: /api/retrieve/v1/jobs/5f6a5775-e57e-4eb0-a5bf-6b9ee61afdce?log=True&request=True (Caused by NameResolutionError(\"<urllib3.connection.HTTPSConnection object at 0x000002EA37A307D0>: Failed to resolve 'cds.climate.copernicus.eu' ([Errno 11001] getaddrinfo failed)\"))], attempt 170 of 500\n",
      "Retrying in 120 seconds\n",
      "Recovering from connection error [HTTPSConnectionPool(host='cds.climate.copernicus.eu', port=443): Max retries exceeded with url: /api/retrieve/v1/jobs/5f6a5775-e57e-4eb0-a5bf-6b9ee61afdce?log=True&request=True (Caused by NameResolutionError(\"<urllib3.connection.HTTPSConnection object at 0x000002EA37A30C80>: Failed to resolve 'cds.climate.copernicus.eu' ([Errno 11001] getaddrinfo failed)\"))], attempt 171 of 500\n",
      "Retrying in 120 seconds\n",
      "Recovering from connection error [HTTPSConnectionPool(host='cds.climate.copernicus.eu', port=443): Max retries exceeded with url: /api/retrieve/v1/jobs/5f6a5775-e57e-4eb0-a5bf-6b9ee61afdce?log=True&request=True (Caused by NameResolutionError(\"<urllib3.connection.HTTPSConnection object at 0x000002EA379A7410>: Failed to resolve 'cds.climate.copernicus.eu' ([Errno 11001] getaddrinfo failed)\"))], attempt 172 of 500\n",
      "Retrying in 120 seconds\n",
      "Recovering from connection error [HTTPSConnectionPool(host='cds.climate.copernicus.eu', port=443): Max retries exceeded with url: /api/retrieve/v1/jobs/5f6a5775-e57e-4eb0-a5bf-6b9ee61afdce?log=True&request=True (Caused by NameResolutionError(\"<urllib3.connection.HTTPSConnection object at 0x000002EA3768F920>: Failed to resolve 'cds.climate.copernicus.eu' ([Errno 11001] getaddrinfo failed)\"))], attempt 173 of 500\n",
      "Retrying in 120 seconds\n",
      "Recovering from connection error [HTTPSConnectionPool(host='cds.climate.copernicus.eu', port=443): Max retries exceeded with url: /api/retrieve/v1/jobs/5f6a5775-e57e-4eb0-a5bf-6b9ee61afdce?log=True&request=True (Caused by NameResolutionError(\"<urllib3.connection.HTTPSConnection object at 0x000002EA3788F5F0>: Failed to resolve 'cds.climate.copernicus.eu' ([Errno 11001] getaddrinfo failed)\"))], attempt 174 of 500\n",
      "Retrying in 120 seconds\n",
      "Recovering from connection error [HTTPSConnectionPool(host='cds.climate.copernicus.eu', port=443): Max retries exceeded with url: /api/retrieve/v1/jobs/5f6a5775-e57e-4eb0-a5bf-6b9ee61afdce?log=True&request=True (Caused by NameResolutionError(\"<urllib3.connection.HTTPSConnection object at 0x000002EA377E64B0>: Failed to resolve 'cds.climate.copernicus.eu' ([Errno 11001] getaddrinfo failed)\"))], attempt 175 of 500\n",
      "Retrying in 120 seconds\n",
      "Recovering from connection error [HTTPSConnectionPool(host='cds.climate.copernicus.eu', port=443): Max retries exceeded with url: /api/retrieve/v1/jobs/5f6a5775-e57e-4eb0-a5bf-6b9ee61afdce?log=True&request=True (Caused by NameResolutionError(\"<urllib3.connection.HTTPSConnection object at 0x000002EA37961040>: Failed to resolve 'cds.climate.copernicus.eu' ([Errno 11001] getaddrinfo failed)\"))], attempt 176 of 500\n",
      "Retrying in 120 seconds\n",
      "Recovering from connection error [HTTPSConnectionPool(host='cds.climate.copernicus.eu', port=443): Max retries exceeded with url: /api/retrieve/v1/jobs/5f6a5775-e57e-4eb0-a5bf-6b9ee61afdce?log=True&request=True (Caused by NameResolutionError(\"<urllib3.connection.HTTPSConnection object at 0x000002EA37963440>: Failed to resolve 'cds.climate.copernicus.eu' ([Errno 11001] getaddrinfo failed)\"))], attempt 177 of 500\n",
      "Retrying in 120 seconds\n",
      "Recovering from connection error [HTTPSConnectionPool(host='cds.climate.copernicus.eu', port=443): Max retries exceeded with url: /api/retrieve/v1/jobs/5f6a5775-e57e-4eb0-a5bf-6b9ee61afdce?log=True&request=True (Caused by NameResolutionError(\"<urllib3.connection.HTTPSConnection object at 0x000002EA379E7EF0>: Failed to resolve 'cds.climate.copernicus.eu' ([Errno 11001] getaddrinfo failed)\"))], attempt 178 of 500\n",
      "Retrying in 120 seconds\n",
      "Recovering from connection error [HTTPSConnectionPool(host='cds.climate.copernicus.eu', port=443): Max retries exceeded with url: /api/retrieve/v1/jobs/5f6a5775-e57e-4eb0-a5bf-6b9ee61afdce?log=True&request=True (Caused by NameResolutionError(\"<urllib3.connection.HTTPSConnection object at 0x000002EA379E55B0>: Failed to resolve 'cds.climate.copernicus.eu' ([Errno 11001] getaddrinfo failed)\"))], attempt 179 of 500\n",
      "Retrying in 120 seconds\n",
      "Recovering from connection error [HTTPSConnectionPool(host='cds.climate.copernicus.eu', port=443): Max retries exceeded with url: /api/retrieve/v1/jobs/5f6a5775-e57e-4eb0-a5bf-6b9ee61afdce?log=True&request=True (Caused by NameResolutionError(\"<urllib3.connection.HTTPSConnection object at 0x000002EA379E53A0>: Failed to resolve 'cds.climate.copernicus.eu' ([Errno 11001] getaddrinfo failed)\"))], attempt 180 of 500\n",
      "Retrying in 120 seconds\n",
      "Recovering from connection error [HTTPSConnectionPool(host='cds.climate.copernicus.eu', port=443): Max retries exceeded with url: /api/retrieve/v1/jobs/5f6a5775-e57e-4eb0-a5bf-6b9ee61afdce?log=True&request=True (Caused by NameResolutionError(\"<urllib3.connection.HTTPSConnection object at 0x000002EA379E6240>: Failed to resolve 'cds.climate.copernicus.eu' ([Errno 11001] getaddrinfo failed)\"))], attempt 181 of 500\n",
      "Retrying in 120 seconds\n",
      "Recovering from connection error [HTTPSConnectionPool(host='cds.climate.copernicus.eu', port=443): Max retries exceeded with url: /api/retrieve/v1/jobs/5f6a5775-e57e-4eb0-a5bf-6b9ee61afdce?log=True&request=True (Caused by NameResolutionError(\"<urllib3.connection.HTTPSConnection object at 0x000002EA379E4A70>: Failed to resolve 'cds.climate.copernicus.eu' ([Errno 11001] getaddrinfo failed)\"))], attempt 182 of 500\n",
      "Retrying in 120 seconds\n",
      "Recovering from connection error [HTTPSConnectionPool(host='cds.climate.copernicus.eu', port=443): Max retries exceeded with url: /api/retrieve/v1/jobs/5f6a5775-e57e-4eb0-a5bf-6b9ee61afdce?log=True&request=True (Caused by NameResolutionError(\"<urllib3.connection.HTTPSConnection object at 0x000002EA379E6B40>: Failed to resolve 'cds.climate.copernicus.eu' ([Errno 11001] getaddrinfo failed)\"))], attempt 183 of 500\n",
      "Retrying in 120 seconds\n",
      "Recovering from connection error [HTTPSConnectionPool(host='cds.climate.copernicus.eu', port=443): Max retries exceeded with url: /api/retrieve/v1/jobs/5f6a5775-e57e-4eb0-a5bf-6b9ee61afdce?log=True&request=True (Caused by NameResolutionError(\"<urllib3.connection.HTTPSConnection object at 0x000002EA37A30920>: Failed to resolve 'cds.climate.copernicus.eu' ([Errno 11001] getaddrinfo failed)\"))], attempt 184 of 500\n",
      "Retrying in 120 seconds\n",
      "Recovering from connection error [HTTPSConnectionPool(host='cds.climate.copernicus.eu', port=443): Max retries exceeded with url: /api/retrieve/v1/jobs/5f6a5775-e57e-4eb0-a5bf-6b9ee61afdce?log=True&request=True (Caused by NameResolutionError(\"<urllib3.connection.HTTPSConnection object at 0x000002EA37A30FE0>: Failed to resolve 'cds.climate.copernicus.eu' ([Errno 11001] getaddrinfo failed)\"))], attempt 185 of 500\n",
      "Retrying in 120 seconds\n",
      "Recovering from connection error [HTTPSConnectionPool(host='cds.climate.copernicus.eu', port=443): Max retries exceeded with url: /api/retrieve/v1/jobs/5f6a5775-e57e-4eb0-a5bf-6b9ee61afdce?log=True&request=True (Caused by NameResolutionError(\"<urllib3.connection.HTTPSConnection object at 0x000002EA379E7DD0>: Failed to resolve 'cds.climate.copernicus.eu' ([Errno 11001] getaddrinfo failed)\"))], attempt 186 of 500\n",
      "Retrying in 120 seconds\n",
      "Recovering from connection error [HTTPSConnectionPool(host='cds.climate.copernicus.eu', port=443): Max retries exceeded with url: /api/retrieve/v1/jobs/5f6a5775-e57e-4eb0-a5bf-6b9ee61afdce?log=True&request=True (Caused by NameResolutionError(\"<urllib3.connection.HTTPSConnection object at 0x000002EA379E6240>: Failed to resolve 'cds.climate.copernicus.eu' ([Errno 11001] getaddrinfo failed)\"))], attempt 187 of 500\n",
      "Retrying in 120 seconds\n",
      "Recovering from connection error [HTTPSConnectionPool(host='cds.climate.copernicus.eu', port=443): Max retries exceeded with url: /api/retrieve/v1/jobs/5f6a5775-e57e-4eb0-a5bf-6b9ee61afdce?log=True&request=True (Caused by NameResolutionError(\"<urllib3.connection.HTTPSConnection object at 0x000002EA379E7B30>: Failed to resolve 'cds.climate.copernicus.eu' ([Errno 11001] getaddrinfo failed)\"))], attempt 188 of 500\n",
      "Retrying in 120 seconds\n",
      "Recovering from connection error [HTTPSConnectionPool(host='cds.climate.copernicus.eu', port=443): Max retries exceeded with url: /api/retrieve/v1/jobs/5f6a5775-e57e-4eb0-a5bf-6b9ee61afdce?log=True&request=True (Caused by NameResolutionError(\"<urllib3.connection.HTTPSConnection object at 0x000002EA378E4D70>: Failed to resolve 'cds.climate.copernicus.eu' ([Errno 11001] getaddrinfo failed)\"))], attempt 189 of 500\n",
      "Retrying in 120 seconds\n",
      "Recovering from connection error [HTTPSConnectionPool(host='cds.climate.copernicus.eu', port=443): Max retries exceeded with url: /api/retrieve/v1/jobs/5f6a5775-e57e-4eb0-a5bf-6b9ee61afdce?log=True&request=True (Caused by NameResolutionError(\"<urllib3.connection.HTTPSConnection object at 0x000002EA37810BC0>: Failed to resolve 'cds.climate.copernicus.eu' ([Errno 11001] getaddrinfo failed)\"))], attempt 190 of 500\n",
      "Retrying in 120 seconds\n",
      "Recovering from connection error [HTTPSConnectionPool(host='cds.climate.copernicus.eu', port=443): Max retries exceeded with url: /api/retrieve/v1/jobs/5f6a5775-e57e-4eb0-a5bf-6b9ee61afdce?log=True&request=True (Caused by NameResolutionError(\"<urllib3.connection.HTTPSConnection object at 0x000002EA379629C0>: Failed to resolve 'cds.climate.copernicus.eu' ([Errno 11001] getaddrinfo failed)\"))], attempt 191 of 500\n",
      "Retrying in 120 seconds\n",
      "Recovering from connection error [HTTPSConnectionPool(host='cds.climate.copernicus.eu', port=443): Max retries exceeded with url: /api/retrieve/v1/jobs/5f6a5775-e57e-4eb0-a5bf-6b9ee61afdce?log=True&request=True (Caused by NameResolutionError(\"<urllib3.connection.HTTPSConnection object at 0x000002EA378669C0>: Failed to resolve 'cds.climate.copernicus.eu' ([Errno 11001] getaddrinfo failed)\"))], attempt 192 of 500\n",
      "Retrying in 120 seconds\n",
      "Recovering from connection error [HTTPSConnectionPool(host='cds.climate.copernicus.eu', port=443): Max retries exceeded with url: /api/retrieve/v1/jobs/5f6a5775-e57e-4eb0-a5bf-6b9ee61afdce?log=True&request=True (Caused by NameResolutionError(\"<urllib3.connection.HTTPSConnection object at 0x000002EA3788C860>: Failed to resolve 'cds.climate.copernicus.eu' ([Errno 11001] getaddrinfo failed)\"))], attempt 193 of 500\n",
      "Retrying in 120 seconds\n",
      "Recovering from connection error [HTTPSConnectionPool(host='cds.climate.copernicus.eu', port=443): Max retries exceeded with url: /api/retrieve/v1/jobs/5f6a5775-e57e-4eb0-a5bf-6b9ee61afdce?log=True&request=True (Caused by NameResolutionError(\"<urllib3.connection.HTTPSConnection object at 0x000002EA3768F680>: Failed to resolve 'cds.climate.copernicus.eu' ([Errno 11001] getaddrinfo failed)\"))], attempt 194 of 500\n",
      "Retrying in 120 seconds\n",
      "Recovering from connection error [HTTPSConnectionPool(host='cds.climate.copernicus.eu', port=443): Max retries exceeded with url: /api/retrieve/v1/jobs/5f6a5775-e57e-4eb0-a5bf-6b9ee61afdce?log=True&request=True (Caused by NameResolutionError(\"<urllib3.connection.HTTPSConnection object at 0x000002EA379A6BD0>: Failed to resolve 'cds.climate.copernicus.eu' ([Errno 11001] getaddrinfo failed)\"))], attempt 195 of 500\n",
      "Retrying in 120 seconds\n",
      "Recovering from connection error [HTTPSConnectionPool(host='cds.climate.copernicus.eu', port=443): Max retries exceeded with url: /api/retrieve/v1/jobs/5f6a5775-e57e-4eb0-a5bf-6b9ee61afdce?log=True&request=True (Caused by NameResolutionError(\"<urllib3.connection.HTTPSConnection object at 0x000002EA379A4800>: Failed to resolve 'cds.climate.copernicus.eu' ([Errno 11001] getaddrinfo failed)\"))], attempt 196 of 500\n",
      "Retrying in 120 seconds\n",
      "Recovering from connection error [HTTPSConnectionPool(host='cds.climate.copernicus.eu', port=443): Max retries exceeded with url: /api/retrieve/v1/jobs/5f6a5775-e57e-4eb0-a5bf-6b9ee61afdce?log=True&request=True (Caused by NameResolutionError(\"<urllib3.connection.HTTPSConnection object at 0x000002EA379A67E0>: Failed to resolve 'cds.climate.copernicus.eu' ([Errno 11001] getaddrinfo failed)\"))], attempt 197 of 500\n",
      "Retrying in 120 seconds\n",
      "Recovering from connection error [HTTPSConnectionPool(host='cds.climate.copernicus.eu', port=443): Max retries exceeded with url: /api/retrieve/v1/jobs/5f6a5775-e57e-4eb0-a5bf-6b9ee61afdce?log=True&request=True (Caused by NameResolutionError(\"<urllib3.connection.HTTPSConnection object at 0x000002EA37A302C0>: Failed to resolve 'cds.climate.copernicus.eu' ([Errno 11001] getaddrinfo failed)\"))], attempt 198 of 500\n",
      "Retrying in 120 seconds\n",
      "Recovering from connection error [HTTPSConnectionPool(host='cds.climate.copernicus.eu', port=443): Max retries exceeded with url: /api/retrieve/v1/jobs/5f6a5775-e57e-4eb0-a5bf-6b9ee61afdce?log=True&request=True (Caused by NameResolutionError(\"<urllib3.connection.HTTPSConnection object at 0x000002EA37A31400>: Failed to resolve 'cds.climate.copernicus.eu' ([Errno 11001] getaddrinfo failed)\"))], attempt 199 of 500\n",
      "Retrying in 120 seconds\n",
      "Recovering from connection error [HTTPSConnectionPool(host='cds.climate.copernicus.eu', port=443): Max retries exceeded with url: /api/retrieve/v1/jobs/5f6a5775-e57e-4eb0-a5bf-6b9ee61afdce?log=True&request=True (Caused by NameResolutionError(\"<urllib3.connection.HTTPSConnection object at 0x000002EA379629C0>: Failed to resolve 'cds.climate.copernicus.eu' ([Errno 11001] getaddrinfo failed)\"))], attempt 200 of 500\n",
      "Retrying in 120 seconds\n",
      "Recovering from connection error [HTTPSConnectionPool(host='cds.climate.copernicus.eu', port=443): Max retries exceeded with url: /api/retrieve/v1/jobs/5f6a5775-e57e-4eb0-a5bf-6b9ee61afdce?log=True&request=True (Caused by NameResolutionError(\"<urllib3.connection.HTTPSConnection object at 0x000002EA379605C0>: Failed to resolve 'cds.climate.copernicus.eu' ([Errno 11001] getaddrinfo failed)\"))], attempt 201 of 500\n",
      "Retrying in 120 seconds\n",
      "Recovering from connection error [HTTPSConnectionPool(host='cds.climate.copernicus.eu', port=443): Max retries exceeded with url: /api/retrieve/v1/jobs/5f6a5775-e57e-4eb0-a5bf-6b9ee61afdce?log=True&request=True (Caused by NameResolutionError(\"<urllib3.connection.HTTPSConnection object at 0x000002EA37927BF0>: Failed to resolve 'cds.climate.copernicus.eu' ([Errno 11001] getaddrinfo failed)\"))], attempt 202 of 500\n",
      "Retrying in 120 seconds\n",
      "Recovering from connection error [HTTPSConnectionPool(host='cds.climate.copernicus.eu', port=443): Max retries exceeded with url: /api/retrieve/v1/jobs/5f6a5775-e57e-4eb0-a5bf-6b9ee61afdce?log=True&request=True (Caused by NameResolutionError(\"<urllib3.connection.HTTPSConnection object at 0x000002EA37867260>: Failed to resolve 'cds.climate.copernicus.eu' ([Errno 11001] getaddrinfo failed)\"))], attempt 203 of 500\n",
      "Retrying in 120 seconds\n",
      "Recovering from connection error [HTTPSConnectionPool(host='cds.climate.copernicus.eu', port=443): Max retries exceeded with url: /api/retrieve/v1/jobs/5f6a5775-e57e-4eb0-a5bf-6b9ee61afdce?log=True&request=True (Caused by NameResolutionError(\"<urllib3.connection.HTTPSConnection object at 0x000002EA3788F5F0>: Failed to resolve 'cds.climate.copernicus.eu' ([Errno 11001] getaddrinfo failed)\"))], attempt 204 of 500\n",
      "Retrying in 120 seconds\n",
      "Recovering from connection error [HTTPSConnectionPool(host='cds.climate.copernicus.eu', port=443): Max retries exceeded with url: /api/retrieve/v1/jobs/5f6a5775-e57e-4eb0-a5bf-6b9ee61afdce?log=True&request=True (Caused by NameResolutionError(\"<urllib3.connection.HTTPSConnection object at 0x000002EA377E7AA0>: Failed to resolve 'cds.climate.copernicus.eu' ([Errno 11001] getaddrinfo failed)\"))], attempt 205 of 500\n",
      "Retrying in 120 seconds\n",
      "Recovering from connection error [HTTPSConnectionPool(host='cds.climate.copernicus.eu', port=443): Max retries exceeded with url: /api/retrieve/v1/jobs/5f6a5775-e57e-4eb0-a5bf-6b9ee61afdce?log=True&request=True (Caused by NameResolutionError(\"<urllib3.connection.HTTPSConnection object at 0x000002EA379A5BB0>: Failed to resolve 'cds.climate.copernicus.eu' ([Errno 11001] getaddrinfo failed)\"))], attempt 206 of 500\n",
      "Retrying in 120 seconds\n",
      "Recovering from connection error [HTTPSConnectionPool(host='cds.climate.copernicus.eu', port=443): Max retries exceeded with url: /api/retrieve/v1/jobs/5f6a5775-e57e-4eb0-a5bf-6b9ee61afdce?log=True&request=True (Caused by NameResolutionError(\"<urllib3.connection.HTTPSConnection object at 0x000002EA379A6D80>: Failed to resolve 'cds.climate.copernicus.eu' ([Errno 11001] getaddrinfo failed)\"))], attempt 207 of 500\n",
      "Retrying in 120 seconds\n",
      "Recovering from connection error [HTTPSConnectionPool(host='cds.climate.copernicus.eu', port=443): Max retries exceeded with url: /api/retrieve/v1/jobs/5f6a5775-e57e-4eb0-a5bf-6b9ee61afdce?log=True&request=True (Caused by NameResolutionError(\"<urllib3.connection.HTTPSConnection object at 0x000002EA379A6BD0>: Failed to resolve 'cds.climate.copernicus.eu' ([Errno 11001] getaddrinfo failed)\"))], attempt 208 of 500\n",
      "Retrying in 120 seconds\n",
      "Recovering from connection error [HTTPSConnectionPool(host='cds.climate.copernicus.eu', port=443): Max retries exceeded with url: /api/retrieve/v1/jobs/5f6a5775-e57e-4eb0-a5bf-6b9ee61afdce?log=True&request=True (Caused by NameResolutionError(\"<urllib3.connection.HTTPSConnection object at 0x000002EA379A6F90>: Failed to resolve 'cds.climate.copernicus.eu' ([Errno 11001] getaddrinfo failed)\"))], attempt 209 of 500\n",
      "Retrying in 120 seconds\n",
      "Recovering from connection error [HTTPSConnectionPool(host='cds.climate.copernicus.eu', port=443): Max retries exceeded with url: /api/retrieve/v1/jobs/5f6a5775-e57e-4eb0-a5bf-6b9ee61afdce?log=True&request=True (Caused by NameResolutionError(\"<urllib3.connection.HTTPSConnection object at 0x000002EA379E6330>: Failed to resolve 'cds.climate.copernicus.eu' ([Errno 11001] getaddrinfo failed)\"))], attempt 210 of 500\n",
      "Retrying in 120 seconds\n",
      "Recovering from connection error [HTTPSConnectionPool(host='cds.climate.copernicus.eu', port=443): Max retries exceeded with url: /api/retrieve/v1/jobs/5f6a5775-e57e-4eb0-a5bf-6b9ee61afdce?log=True&request=True (Caused by NameResolutionError(\"<urllib3.connection.HTTPSConnection object at 0x000002EA379E4A70>: Failed to resolve 'cds.climate.copernicus.eu' ([Errno 11001] getaddrinfo failed)\"))], attempt 211 of 500\n",
      "Retrying in 120 seconds\n",
      "Recovering from connection error [HTTPSConnectionPool(host='cds.climate.copernicus.eu', port=443): Max retries exceeded with url: /api/retrieve/v1/jobs/5f6a5775-e57e-4eb0-a5bf-6b9ee61afdce?log=True&request=True (Caused by NameResolutionError(\"<urllib3.connection.HTTPSConnection object at 0x000002EA379E46B0>: Failed to resolve 'cds.climate.copernicus.eu' ([Errno 11001] getaddrinfo failed)\"))], attempt 212 of 500\n",
      "Retrying in 120 seconds\n",
      "Recovering from connection error [HTTPSConnectionPool(host='cds.climate.copernicus.eu', port=443): Max retries exceeded with url: /api/retrieve/v1/jobs/5f6a5775-e57e-4eb0-a5bf-6b9ee61afdce?log=True&request=True (Caused by NameResolutionError(\"<urllib3.connection.HTTPSConnection object at 0x000002EA379E6A50>: Failed to resolve 'cds.climate.copernicus.eu' ([Errno 11001] getaddrinfo failed)\"))], attempt 213 of 500\n",
      "Retrying in 120 seconds\n",
      "Recovering from connection error [HTTPSConnectionPool(host='cds.climate.copernicus.eu', port=443): Max retries exceeded with url: /api/retrieve/v1/jobs/5f6a5775-e57e-4eb0-a5bf-6b9ee61afdce?log=True&request=True (Caused by NameResolutionError(\"<urllib3.connection.HTTPSConnection object at 0x000002EA37867680>: Failed to resolve 'cds.climate.copernicus.eu' ([Errno 11001] getaddrinfo failed)\"))], attempt 214 of 500\n",
      "Retrying in 120 seconds\n",
      "Recovering from connection error [HTTPSConnectionPool(host='cds.climate.copernicus.eu', port=443): Max retries exceeded with url: /api/retrieve/v1/jobs/5f6a5775-e57e-4eb0-a5bf-6b9ee61afdce?log=True&request=True (Caused by NameResolutionError(\"<urllib3.connection.HTTPSConnection object at 0x000002EA379A6F90>: Failed to resolve 'cds.climate.copernicus.eu' ([Errno 11001] getaddrinfo failed)\"))], attempt 215 of 500\n",
      "Retrying in 120 seconds\n",
      "Recovering from connection error [HTTPSConnectionPool(host='cds.climate.copernicus.eu', port=443): Max retries exceeded with url: /api/retrieve/v1/jobs/5f6a5775-e57e-4eb0-a5bf-6b9ee61afdce?log=True&request=True (Caused by NameResolutionError(\"<urllib3.connection.HTTPSConnection object at 0x000002EA379A4350>: Failed to resolve 'cds.climate.copernicus.eu' ([Errno 11001] getaddrinfo failed)\"))], attempt 216 of 500\n",
      "Retrying in 120 seconds\n",
      "Recovering from connection error [HTTPSConnectionPool(host='cds.climate.copernicus.eu', port=443): Max retries exceeded with url: /api/retrieve/v1/jobs/5f6a5775-e57e-4eb0-a5bf-6b9ee61afdce?log=True&request=True (Caused by NameResolutionError(\"<urllib3.connection.HTTPSConnection object at 0x000002EA379A4050>: Failed to resolve 'cds.climate.copernicus.eu' ([Errno 11001] getaddrinfo failed)\"))], attempt 217 of 500\n",
      "Retrying in 120 seconds\n",
      "Recovering from connection error [HTTPSConnectionPool(host='cds.climate.copernicus.eu', port=443): Max retries exceeded with url: /api/retrieve/v1/jobs/5f6a5775-e57e-4eb0-a5bf-6b9ee61afdce?log=True&request=True (Caused by NameResolutionError(\"<urllib3.connection.HTTPSConnection object at 0x000002EA37963530>: Failed to resolve 'cds.climate.copernicus.eu' ([Errno 11001] getaddrinfo failed)\"))], attempt 218 of 500\n",
      "Retrying in 120 seconds\n",
      "Recovering from connection error [HTTPSConnectionPool(host='cds.climate.copernicus.eu', port=443): Max retries exceeded with url: /api/retrieve/v1/jobs/5f6a5775-e57e-4eb0-a5bf-6b9ee61afdce?log=True&request=True (Caused by NameResolutionError(\"<urllib3.connection.HTTPSConnection object at 0x000002EA37960FE0>: Failed to resolve 'cds.climate.copernicus.eu' ([Errno 11001] getaddrinfo failed)\"))], attempt 219 of 500\n",
      "Retrying in 120 seconds\n",
      "Recovering from connection error [HTTPSConnectionPool(host='cds.climate.copernicus.eu', port=443): Max retries exceeded with url: /api/retrieve/v1/jobs/5f6a5775-e57e-4eb0-a5bf-6b9ee61afdce?log=True&request=True (Caused by NameResolutionError(\"<urllib3.connection.HTTPSConnection object at 0x000002EA37927AA0>: Failed to resolve 'cds.climate.copernicus.eu' ([Errno 11001] getaddrinfo failed)\"))], attempt 220 of 500\n",
      "Retrying in 120 seconds\n",
      "Recovering from connection error [HTTPSConnectionPool(host='cds.climate.copernicus.eu', port=443): Max retries exceeded with url: /api/retrieve/v1/jobs/5f6a5775-e57e-4eb0-a5bf-6b9ee61afdce?log=True&request=True (Caused by NameResolutionError(\"<urllib3.connection.HTTPSConnection object at 0x000002EA37927BF0>: Failed to resolve 'cds.climate.copernicus.eu' ([Errno 11001] getaddrinfo failed)\"))], attempt 221 of 500\n",
      "Retrying in 120 seconds\n",
      "Recovering from connection error [HTTPSConnectionPool(host='cds.climate.copernicus.eu', port=443): Max retries exceeded with url: /api/retrieve/v1/jobs/5f6a5775-e57e-4eb0-a5bf-6b9ee61afdce?log=True&request=True (Caused by NameResolutionError(\"<urllib3.connection.HTTPSConnection object at 0x000002EA378E6E70>: Failed to resolve 'cds.climate.copernicus.eu' ([Errno 11001] getaddrinfo failed)\"))], attempt 222 of 500\n",
      "Retrying in 120 seconds\n",
      "Recovering from connection error [HTTPSConnectionPool(host='cds.climate.copernicus.eu', port=443): Max retries exceeded with url: /api/retrieve/v1/jobs/5f6a5775-e57e-4eb0-a5bf-6b9ee61afdce?log=True&request=True (Caused by NameResolutionError(\"<urllib3.connection.HTTPSConnection object at 0x000002EA37962540>: Failed to resolve 'cds.climate.copernicus.eu' ([Errno 11001] getaddrinfo failed)\"))], attempt 223 of 500\n",
      "Retrying in 120 seconds\n",
      "Recovering from connection error [HTTPSConnectionPool(host='cds.climate.copernicus.eu', port=443): Max retries exceeded with url: /api/retrieve/v1/jobs/5f6a5775-e57e-4eb0-a5bf-6b9ee61afdce?log=True&request=True (Caused by NameResolutionError(\"<urllib3.connection.HTTPSConnection object at 0x000002EA37961DC0>: Failed to resolve 'cds.climate.copernicus.eu' ([Errno 11001] getaddrinfo failed)\"))], attempt 224 of 500\n",
      "Retrying in 120 seconds\n",
      "Recovering from connection error [HTTPSConnectionPool(host='cds.climate.copernicus.eu', port=443): Max retries exceeded with url: /api/retrieve/v1/jobs/5f6a5775-e57e-4eb0-a5bf-6b9ee61afdce?log=True&request=True (Caused by NameResolutionError(\"<urllib3.connection.HTTPSConnection object at 0x000002EA379A7500>: Failed to resolve 'cds.climate.copernicus.eu' ([Errno 11001] getaddrinfo failed)\"))], attempt 225 of 500\n",
      "Retrying in 120 seconds\n",
      "Recovering from connection error [HTTPSConnectionPool(host='cds.climate.copernicus.eu', port=443): Max retries exceeded with url: /api/retrieve/v1/jobs/5f6a5775-e57e-4eb0-a5bf-6b9ee61afdce?log=True&request=True (Caused by NameResolutionError(\"<urllib3.connection.HTTPSConnection object at 0x000002EA379A7020>: Failed to resolve 'cds.climate.copernicus.eu' ([Errno 11001] getaddrinfo failed)\"))], attempt 226 of 500\n",
      "Retrying in 120 seconds\n",
      "Recovering from connection error [HTTPSConnectionPool(host='cds.climate.copernicus.eu', port=443): Max retries exceeded with url: /api/retrieve/v1/jobs/5f6a5775-e57e-4eb0-a5bf-6b9ee61afdce?log=True&request=True (Caused by NameResolutionError(\"<urllib3.connection.HTTPSConnection object at 0x000002EA37810080>: Failed to resolve 'cds.climate.copernicus.eu' ([Errno 11001] getaddrinfo failed)\"))], attempt 227 of 500\n",
      "Retrying in 120 seconds\n",
      "Recovering from connection error [HTTPSConnectionPool(host='cds.climate.copernicus.eu', port=443): Max retries exceeded with url: /api/retrieve/v1/jobs/5f6a5775-e57e-4eb0-a5bf-6b9ee61afdce?log=True&request=True (Caused by NameResolutionError(\"<urllib3.connection.HTTPSConnection object at 0x000002EA37866FC0>: Failed to resolve 'cds.climate.copernicus.eu' ([Errno 11001] getaddrinfo failed)\"))], attempt 228 of 500\n",
      "Retrying in 120 seconds\n",
      "Recovering from connection error [HTTPSConnectionPool(host='cds.climate.copernicus.eu', port=443): Max retries exceeded with url: /api/retrieve/v1/jobs/5f6a5775-e57e-4eb0-a5bf-6b9ee61afdce?log=True&request=True (Caused by NameResolutionError(\"<urllib3.connection.HTTPSConnection object at 0x000002EA378E5AC0>: Failed to resolve 'cds.climate.copernicus.eu' ([Errno 11001] getaddrinfo failed)\"))], attempt 229 of 500\n",
      "Retrying in 120 seconds\n",
      "Recovering from connection error [HTTPSConnectionPool(host='cds.climate.copernicus.eu', port=443): Max retries exceeded with url: /api/retrieve/v1/jobs/5f6a5775-e57e-4eb0-a5bf-6b9ee61afdce?log=True&request=True (Caused by NameResolutionError(\"<urllib3.connection.HTTPSConnection object at 0x000002EA3788C350>: Failed to resolve 'cds.climate.copernicus.eu' ([Errno 11001] getaddrinfo failed)\"))], attempt 230 of 500\n",
      "Retrying in 120 seconds\n",
      "Recovering from connection error [HTTPSConnectionPool(host='cds.climate.copernicus.eu', port=443): Max retries exceeded with url: /api/retrieve/v1/jobs/5f6a5775-e57e-4eb0-a5bf-6b9ee61afdce?log=True&request=True (Caused by NameResolutionError(\"<urllib3.connection.HTTPSConnection object at 0x000002EA3788CB00>: Failed to resolve 'cds.climate.copernicus.eu' ([Errno 11001] getaddrinfo failed)\"))], attempt 231 of 500\n",
      "Retrying in 120 seconds\n",
      "Recovering from connection error [HTTPSConnectionPool(host='cds.climate.copernicus.eu', port=443): Max retries exceeded with url: /api/retrieve/v1/jobs/5f6a5775-e57e-4eb0-a5bf-6b9ee61afdce?log=True&request=True (Caused by NameResolutionError(\"<urllib3.connection.HTTPSConnection object at 0x000002EA379E7EF0>: Failed to resolve 'cds.climate.copernicus.eu' ([Errno 11001] getaddrinfo failed)\"))], attempt 232 of 500\n",
      "Retrying in 120 seconds\n",
      "Recovering from connection error [HTTPSConnectionPool(host='cds.climate.copernicus.eu', port=443): Max retries exceeded with url: /api/retrieve/v1/jobs/5f6a5775-e57e-4eb0-a5bf-6b9ee61afdce?log=True&request=True (Caused by NameResolutionError(\"<urllib3.connection.HTTPSConnection object at 0x000002EA379E5610>: Failed to resolve 'cds.climate.copernicus.eu' ([Errno 11001] getaddrinfo failed)\"))], attempt 233 of 500\n",
      "Retrying in 120 seconds\n",
      "Recovering from connection error [HTTPSConnectionPool(host='cds.climate.copernicus.eu', port=443): Max retries exceeded with url: /api/retrieve/v1/jobs/5f6a5775-e57e-4eb0-a5bf-6b9ee61afdce?log=True&request=True (Caused by NameResolutionError(\"<urllib3.connection.HTTPSConnection object at 0x000002EA379E51F0>: Failed to resolve 'cds.climate.copernicus.eu' ([Errno 11001] getaddrinfo failed)\"))], attempt 234 of 500\n",
      "Retrying in 120 seconds\n",
      "Recovering from connection error [HTTPSConnectionPool(host='cds.climate.copernicus.eu', port=443): Max retries exceeded with url: /api/retrieve/v1/jobs/5f6a5775-e57e-4eb0-a5bf-6b9ee61afdce?log=True&request=True (Caused by NameResolutionError(\"<urllib3.connection.HTTPSConnection object at 0x000002EA379E4080>: Failed to resolve 'cds.climate.copernicus.eu' ([Errno 11001] getaddrinfo failed)\"))], attempt 235 of 500\n",
      "Retrying in 120 seconds\n",
      "Recovering from connection error [HTTPSConnectionPool(host='cds.climate.copernicus.eu', port=443): Max retries exceeded with url: /api/retrieve/v1/jobs/5f6a5775-e57e-4eb0-a5bf-6b9ee61afdce?log=True&request=True (Caused by NameResolutionError(\"<urllib3.connection.HTTPSConnection object at 0x000002EA3788F830>: Failed to resolve 'cds.climate.copernicus.eu' ([Errno 11001] getaddrinfo failed)\"))], attempt 236 of 500\n",
      "Retrying in 120 seconds\n",
      "Recovering from connection error [HTTPSConnectionPool(host='cds.climate.copernicus.eu', port=443): Max retries exceeded with url: /api/retrieve/v1/jobs/5f6a5775-e57e-4eb0-a5bf-6b9ee61afdce?log=True&request=True (Caused by NameResolutionError(\"<urllib3.connection.HTTPSConnection object at 0x000002EA377E46E0>: Failed to resolve 'cds.climate.copernicus.eu' ([Errno 11001] getaddrinfo failed)\"))], attempt 237 of 500\n",
      "Retrying in 120 seconds\n",
      "Recovering from connection error [HTTPSConnectionPool(host='cds.climate.copernicus.eu', port=443): Max retries exceeded with url: /api/retrieve/v1/jobs/5f6a5775-e57e-4eb0-a5bf-6b9ee61afdce?log=True&request=True (Caused by NameResolutionError(\"<urllib3.connection.HTTPSConnection object at 0x000002EA37811430>: Failed to resolve 'cds.climate.copernicus.eu' ([Errno 11001] getaddrinfo failed)\"))], attempt 238 of 500\n",
      "Retrying in 120 seconds\n",
      "Recovering from connection error [HTTPSConnectionPool(host='cds.climate.copernicus.eu', port=443): Max retries exceeded with url: /api/retrieve/v1/jobs/5f6a5775-e57e-4eb0-a5bf-6b9ee61afdce?log=True&request=True (Caused by NameResolutionError(\"<urllib3.connection.HTTPSConnection object at 0x000002EA379A7B60>: Failed to resolve 'cds.climate.copernicus.eu' ([Errno 11001] getaddrinfo failed)\"))], attempt 239 of 500\n",
      "Retrying in 120 seconds\n",
      "Recovering from connection error [HTTPSConnectionPool(host='cds.climate.copernicus.eu', port=443): Max retries exceeded with url: /api/retrieve/v1/jobs/5f6a5775-e57e-4eb0-a5bf-6b9ee61afdce?log=True&request=True (Caused by NameResolutionError(\"<urllib3.connection.HTTPSConnection object at 0x000002EA379A6720>: Failed to resolve 'cds.climate.copernicus.eu' ([Errno 11001] getaddrinfo failed)\"))], attempt 240 of 500\n",
      "Retrying in 120 seconds\n",
      "Recovering from connection error [HTTPSConnectionPool(host='cds.climate.copernicus.eu', port=443): Max retries exceeded with url: /api/retrieve/v1/jobs/5f6a5775-e57e-4eb0-a5bf-6b9ee61afdce?log=True&request=True (Caused by NameResolutionError(\"<urllib3.connection.HTTPSConnection object at 0x000002EA379A6960>: Failed to resolve 'cds.climate.copernicus.eu' ([Errno 11001] getaddrinfo failed)\"))], attempt 241 of 500\n",
      "Retrying in 120 seconds\n",
      "Recovering from connection error [HTTPSConnectionPool(host='cds.climate.copernicus.eu', port=443): Max retries exceeded with url: /api/retrieve/v1/jobs/5f6a5775-e57e-4eb0-a5bf-6b9ee61afdce?log=True&request=True (Caused by NameResolutionError(\"<urllib3.connection.HTTPSConnection object at 0x000002EA37960770>: Failed to resolve 'cds.climate.copernicus.eu' ([Errno 11001] getaddrinfo failed)\"))], attempt 242 of 500\n",
      "Retrying in 120 seconds\n",
      "Recovering from connection error [HTTPSConnectionPool(host='cds.climate.copernicus.eu', port=443): Max retries exceeded with url: /api/retrieve/v1/jobs/5f6a5775-e57e-4eb0-a5bf-6b9ee61afdce?log=True&request=True (Caused by NameResolutionError(\"<urllib3.connection.HTTPSConnection object at 0x000002EA37960200>: Failed to resolve 'cds.climate.copernicus.eu' ([Errno 11001] getaddrinfo failed)\"))], attempt 243 of 500\n",
      "Retrying in 120 seconds\n",
      "Recovering from connection error [HTTPSConnectionPool(host='cds.climate.copernicus.eu', port=443): Max retries exceeded with url: /api/retrieve/v1/jobs/5f6a5775-e57e-4eb0-a5bf-6b9ee61afdce?log=True&request=True (Caused by NameResolutionError(\"<urllib3.connection.HTTPSConnection object at 0x000002EA379276B0>: Failed to resolve 'cds.climate.copernicus.eu' ([Errno 11001] getaddrinfo failed)\"))], attempt 244 of 500\n",
      "Retrying in 120 seconds\n",
      "Recovering from connection error [HTTPSConnectionPool(host='cds.climate.copernicus.eu', port=443): Max retries exceeded with url: /api/retrieve/v1/jobs/5f6a5775-e57e-4eb0-a5bf-6b9ee61afdce?log=True&request=True (Caused by NameResolutionError(\"<urllib3.connection.HTTPSConnection object at 0x000002EA379E5F10>: Failed to resolve 'cds.climate.copernicus.eu' ([Errno 11001] getaddrinfo failed)\"))], attempt 245 of 500\n",
      "Retrying in 120 seconds\n",
      "Recovering from connection error [HTTPSConnectionPool(host='cds.climate.copernicus.eu', port=443): Max retries exceeded with url: /api/retrieve/v1/jobs/5f6a5775-e57e-4eb0-a5bf-6b9ee61afdce?log=True&request=True (Caused by NameResolutionError(\"<urllib3.connection.HTTPSConnection object at 0x000002EA379E53A0>: Failed to resolve 'cds.climate.copernicus.eu' ([Errno 11001] getaddrinfo failed)\"))], attempt 246 of 500\n",
      "Retrying in 120 seconds\n",
      "Recovering from connection error [HTTPSConnectionPool(host='cds.climate.copernicus.eu', port=443): Max retries exceeded with url: /api/retrieve/v1/jobs/5f6a5775-e57e-4eb0-a5bf-6b9ee61afdce?log=True&request=True (Caused by NameResolutionError(\"<urllib3.connection.HTTPSConnection object at 0x000002EA379E7950>: Failed to resolve 'cds.climate.copernicus.eu' ([Errno 11001] getaddrinfo failed)\"))], attempt 247 of 500\n",
      "Retrying in 120 seconds\n",
      "Recovering from connection error [HTTPSConnectionPool(host='cds.climate.copernicus.eu', port=443): Max retries exceeded with url: /api/retrieve/v1/jobs/5f6a5775-e57e-4eb0-a5bf-6b9ee61afdce?log=True&request=True (Caused by NameResolutionError(\"<urllib3.connection.HTTPSConnection object at 0x000002EA379E7440>: Failed to resolve 'cds.climate.copernicus.eu' ([Errno 11001] getaddrinfo failed)\"))], attempt 248 of 500\n",
      "Retrying in 120 seconds\n",
      "Recovering from connection error [HTTPSConnectionPool(host='cds.climate.copernicus.eu', port=443): Max retries exceeded with url: /api/retrieve/v1/jobs/5f6a5775-e57e-4eb0-a5bf-6b9ee61afdce?log=True&request=True (Caused by NameResolutionError(\"<urllib3.connection.HTTPSConnection object at 0x000002EA379E4050>: Failed to resolve 'cds.climate.copernicus.eu' ([Errno 11001] getaddrinfo failed)\"))], attempt 249 of 500\n",
      "Retrying in 120 seconds\n",
      "Recovering from connection error [HTTPSConnectionPool(host='cds.climate.copernicus.eu', port=443): Max retries exceeded with url: /api/retrieve/v1/jobs/5f6a5775-e57e-4eb0-a5bf-6b9ee61afdce?log=True&request=True (Caused by NameResolutionError(\"<urllib3.connection.HTTPSConnection object at 0x000002EA379605C0>: Failed to resolve 'cds.climate.copernicus.eu' ([Errno 11001] getaddrinfo failed)\"))], attempt 250 of 500\n",
      "Retrying in 120 seconds\n",
      "Recovering from connection error [HTTPSConnectionPool(host='cds.climate.copernicus.eu', port=443): Max retries exceeded with url: /api/retrieve/v1/jobs/5f6a5775-e57e-4eb0-a5bf-6b9ee61afdce?log=True&request=True (Caused by NameResolutionError(\"<urllib3.connection.HTTPSConnection object at 0x000002EA379A74D0>: Failed to resolve 'cds.climate.copernicus.eu' ([Errno 11001] getaddrinfo failed)\"))], attempt 251 of 500\n",
      "Retrying in 120 seconds\n",
      "Recovering from connection error [HTTPSConnectionPool(host='cds.climate.copernicus.eu', port=443): Max retries exceeded with url: /api/retrieve/v1/jobs/5f6a5775-e57e-4eb0-a5bf-6b9ee61afdce?log=True&request=True (Caused by NameResolutionError(\"<urllib3.connection.HTTPSConnection object at 0x000002EA379A7E30>: Failed to resolve 'cds.climate.copernicus.eu' ([Errno 11001] getaddrinfo failed)\"))], attempt 252 of 500\n",
      "Retrying in 120 seconds\n",
      "Recovering from connection error [HTTPSConnectionPool(host='cds.climate.copernicus.eu', port=443): Max retries exceeded with url: /api/retrieve/v1/jobs/5f6a5775-e57e-4eb0-a5bf-6b9ee61afdce?log=True&request=True (Caused by NameResolutionError(\"<urllib3.connection.HTTPSConnection object at 0x000002EA379A4800>: Failed to resolve 'cds.climate.copernicus.eu' ([Errno 11001] getaddrinfo failed)\"))], attempt 253 of 500\n",
      "Retrying in 120 seconds\n",
      "Recovering from connection error [HTTPSConnectionPool(host='cds.climate.copernicus.eu', port=443): Max retries exceeded with url: /api/retrieve/v1/jobs/5f6a5775-e57e-4eb0-a5bf-6b9ee61afdce?log=True&request=True (Caused by NameResolutionError(\"<urllib3.connection.HTTPSConnection object at 0x000002EA37810080>: Failed to resolve 'cds.climate.copernicus.eu' ([Errno 11001] getaddrinfo failed)\"))], attempt 254 of 500\n",
      "Retrying in 120 seconds\n",
      "Recovering from connection error [HTTPSConnectionPool(host='cds.climate.copernicus.eu', port=443): Max retries exceeded with url: /api/retrieve/v1/jobs/5f6a5775-e57e-4eb0-a5bf-6b9ee61afdce?log=True&request=True (Caused by NameResolutionError(\"<urllib3.connection.HTTPSConnection object at 0x000002EA377E46E0>: Failed to resolve 'cds.climate.copernicus.eu' ([Errno 11001] getaddrinfo failed)\"))], attempt 255 of 500\n",
      "Retrying in 120 seconds\n",
      "Recovering from connection error [HTTPSConnectionPool(host='cds.climate.copernicus.eu', port=443): Max retries exceeded with url: /api/retrieve/v1/jobs/5f6a5775-e57e-4eb0-a5bf-6b9ee61afdce?log=True&request=True (Caused by NameResolutionError(\"<urllib3.connection.HTTPSConnection object at 0x000002EA378E4D70>: Failed to resolve 'cds.climate.copernicus.eu' ([Errno 11001] getaddrinfo failed)\"))], attempt 256 of 500\n",
      "Retrying in 120 seconds\n",
      "Recovering from connection error [HTTPSConnectionPool(host='cds.climate.copernicus.eu', port=443): Max retries exceeded with url: /api/retrieve/v1/jobs/5f6a5775-e57e-4eb0-a5bf-6b9ee61afdce?log=True&request=True (Caused by NameResolutionError(\"<urllib3.connection.HTTPSConnection object at 0x000002EA3788EF00>: Failed to resolve 'cds.climate.copernicus.eu' ([Errno 11001] getaddrinfo failed)\"))], attempt 257 of 500\n",
      "Retrying in 120 seconds\n",
      "Recovering from connection error [HTTPSConnectionPool(host='cds.climate.copernicus.eu', port=443): Max retries exceeded with url: /api/retrieve/v1/jobs/5f6a5775-e57e-4eb0-a5bf-6b9ee61afdce?log=True&request=True (Caused by NameResolutionError(\"<urllib3.connection.HTTPSConnection object at 0x000002EA3788FBF0>: Failed to resolve 'cds.climate.copernicus.eu' ([Errno 11001] getaddrinfo failed)\"))], attempt 258 of 500\n",
      "Retrying in 120 seconds\n",
      "Recovering from connection error [HTTPSConnectionPool(host='cds.climate.copernicus.eu', port=443): Max retries exceeded with url: /api/retrieve/v1/jobs/5f6a5775-e57e-4eb0-a5bf-6b9ee61afdce?log=True&request=True (Caused by NameResolutionError(\"<urllib3.connection.HTTPSConnection object at 0x000002EA379E76B0>: Failed to resolve 'cds.climate.copernicus.eu' ([Errno 11001] getaddrinfo failed)\"))], attempt 259 of 500\n",
      "Retrying in 120 seconds\n",
      "Recovering from connection error [HTTPSConnectionPool(host='cds.climate.copernicus.eu', port=443): Max retries exceeded with url: /api/retrieve/v1/jobs/5f6a5775-e57e-4eb0-a5bf-6b9ee61afdce?log=True&request=True (Caused by NameResolutionError(\"<urllib3.connection.HTTPSConnection object at 0x000002EA379E6B10>: Failed to resolve 'cds.climate.copernicus.eu' ([Errno 11001] getaddrinfo failed)\"))], attempt 260 of 500\n",
      "Retrying in 120 seconds\n",
      "Recovering from connection error [HTTPSConnectionPool(host='cds.climate.copernicus.eu', port=443): Max retries exceeded with url: /api/retrieve/v1/jobs/5f6a5775-e57e-4eb0-a5bf-6b9ee61afdce?log=True&request=True (Caused by NameResolutionError(\"<urllib3.connection.HTTPSConnection object at 0x000002EA379E7A40>: Failed to resolve 'cds.climate.copernicus.eu' ([Errno 11001] getaddrinfo failed)\"))], attempt 261 of 500\n",
      "Retrying in 120 seconds\n",
      "Recovering from connection error [HTTPSConnectionPool(host='cds.climate.copernicus.eu', port=443): Max retries exceeded with url: /api/retrieve/v1/jobs/5f6a5775-e57e-4eb0-a5bf-6b9ee61afdce?log=True&request=True (Caused by NameResolutionError(\"<urllib3.connection.HTTPSConnection object at 0x000002EA379E5730>: Failed to resolve 'cds.climate.copernicus.eu' ([Errno 11001] getaddrinfo failed)\"))], attempt 262 of 500\n",
      "Retrying in 120 seconds\n",
      "Recovering from connection error [HTTPSConnectionPool(host='cds.climate.copernicus.eu', port=443): Max retries exceeded with url: /api/retrieve/v1/jobs/5f6a5775-e57e-4eb0-a5bf-6b9ee61afdce?log=True&request=True (Caused by NameResolutionError(\"<urllib3.connection.HTTPSConnection object at 0x000002EA379E7DD0>: Failed to resolve 'cds.climate.copernicus.eu' ([Errno 11001] getaddrinfo failed)\"))], attempt 263 of 500\n",
      "Retrying in 120 seconds\n",
      "Recovering from connection error [HTTPSConnectionPool(host='cds.climate.copernicus.eu', port=443): Max retries exceeded with url: /api/retrieve/v1/jobs/5f6a5775-e57e-4eb0-a5bf-6b9ee61afdce?log=True&request=True (Caused by NameResolutionError(\"<urllib3.connection.HTTPSConnection object at 0x000002EA3788EF00>: Failed to resolve 'cds.climate.copernicus.eu' ([Errno 11001] getaddrinfo failed)\"))], attempt 264 of 500\n",
      "Retrying in 120 seconds\n",
      "Recovering from connection error [HTTPSConnectionPool(host='cds.climate.copernicus.eu', port=443): Max retries exceeded with url: /api/retrieve/v1/jobs/5f6a5775-e57e-4eb0-a5bf-6b9ee61afdce?log=True&request=True (Caused by NameResolutionError(\"<urllib3.connection.HTTPSConnection object at 0x000002EA37867260>: Failed to resolve 'cds.climate.copernicus.eu' ([Errno 11001] getaddrinfo failed)\"))], attempt 265 of 500\n",
      "Retrying in 120 seconds\n",
      "Recovering from connection error [HTTPSConnectionPool(host='cds.climate.copernicus.eu', port=443): Max retries exceeded with url: /api/retrieve/v1/jobs/5f6a5775-e57e-4eb0-a5bf-6b9ee61afdce?log=True&request=True (Caused by NameResolutionError(\"<urllib3.connection.HTTPSConnection object at 0x000002EA37813C50>: Failed to resolve 'cds.climate.copernicus.eu' ([Errno 11001] getaddrinfo failed)\"))], attempt 266 of 500\n",
      "Retrying in 120 seconds\n",
      "Recovering from connection error [HTTPSConnectionPool(host='cds.climate.copernicus.eu', port=443): Max retries exceeded with url: /api/retrieve/v1/jobs/5f6a5775-e57e-4eb0-a5bf-6b9ee61afdce?log=True&request=True (Caused by NameResolutionError(\"<urllib3.connection.HTTPSConnection object at 0x000002EA379A6420>: Failed to resolve 'cds.climate.copernicus.eu' ([Errno 11001] getaddrinfo failed)\"))], attempt 267 of 500\n",
      "Retrying in 120 seconds\n",
      "Recovering from connection error [HTTPSConnectionPool(host='cds.climate.copernicus.eu', port=443): Max retries exceeded with url: /api/retrieve/v1/jobs/5f6a5775-e57e-4eb0-a5bf-6b9ee61afdce?log=True&request=True (Caused by NameResolutionError(\"<urllib3.connection.HTTPSConnection object at 0x000002EA379A7320>: Failed to resolve 'cds.climate.copernicus.eu' ([Errno 11001] getaddrinfo failed)\"))], attempt 268 of 500\n",
      "Retrying in 120 seconds\n",
      "Recovering from connection error [HTTPSConnectionPool(host='cds.climate.copernicus.eu', port=443): Max retries exceeded with url: /api/retrieve/v1/jobs/5f6a5775-e57e-4eb0-a5bf-6b9ee61afdce?log=True&request=True (Caused by NameResolutionError(\"<urllib3.connection.HTTPSConnection object at 0x000002EA379A4680>: Failed to resolve 'cds.climate.copernicus.eu' ([Errno 11001] getaddrinfo failed)\"))], attempt 269 of 500\n",
      "Retrying in 120 seconds\n",
      "Recovering from connection error [HTTPSConnectionPool(host='cds.climate.copernicus.eu', port=443): Max retries exceeded with url: /api/retrieve/v1/jobs/5f6a5775-e57e-4eb0-a5bf-6b9ee61afdce?log=True&request=True (Caused by NameResolutionError(\"<urllib3.connection.HTTPSConnection object at 0x000002EA37960920>: Failed to resolve 'cds.climate.copernicus.eu' ([Errno 11001] getaddrinfo failed)\"))], attempt 270 of 500\n",
      "Retrying in 120 seconds\n",
      "Recovering from connection error [HTTPSConnectionPool(host='cds.climate.copernicus.eu', port=443): Max retries exceeded with url: /api/retrieve/v1/jobs/5f6a5775-e57e-4eb0-a5bf-6b9ee61afdce?log=True&request=True (Caused by NameResolutionError(\"<urllib3.connection.HTTPSConnection object at 0x000002EA379250D0>: Failed to resolve 'cds.climate.copernicus.eu' ([Errno 11001] getaddrinfo failed)\"))], attempt 271 of 500\n",
      "Retrying in 120 seconds\n",
      "Recovering from connection error [HTTPSConnectionPool(host='cds.climate.copernicus.eu', port=443): Max retries exceeded with url: /api/retrieve/v1/jobs/5f6a5775-e57e-4eb0-a5bf-6b9ee61afdce?log=True&request=True (Caused by NameResolutionError(\"<urllib3.connection.HTTPSConnection object at 0x000002EA37926390>: Failed to resolve 'cds.climate.copernicus.eu' ([Errno 11001] getaddrinfo failed)\"))], attempt 272 of 500\n",
      "Retrying in 120 seconds\n",
      "Recovering from connection error [HTTPSConnectionPool(host='cds.climate.copernicus.eu', port=443): Max retries exceeded with url: /api/retrieve/v1/jobs/5f6a5775-e57e-4eb0-a5bf-6b9ee61afdce?log=True&request=True (Caused by NameResolutionError(\"<urllib3.connection.HTTPSConnection object at 0x000002EA379E4530>: Failed to resolve 'cds.climate.copernicus.eu' ([Errno 11001] getaddrinfo failed)\"))], attempt 273 of 500\n",
      "Retrying in 120 seconds\n",
      "Recovering from connection error [HTTPSConnectionPool(host='cds.climate.copernicus.eu', port=443): Max retries exceeded with url: /api/retrieve/v1/jobs/5f6a5775-e57e-4eb0-a5bf-6b9ee61afdce?log=True&request=True (Caused by NameResolutionError(\"<urllib3.connection.HTTPSConnection object at 0x000002EA379E4A70>: Failed to resolve 'cds.climate.copernicus.eu' ([Errno 11001] getaddrinfo failed)\"))], attempt 274 of 500\n",
      "Retrying in 120 seconds\n",
      "2025-09-30 06:14:17,124 INFO status has been updated to successful\n"
     ]
    },
    {
     "data": {
      "application/vnd.jupyter.widget-view+json": {
       "model_id": "2cb2caa272a544a59f5662d25eb402b5",
       "version_major": 2,
       "version_minor": 0
      },
      "text/plain": [
       "793b6e56e3f50bc2ef22fa3efb8a2cc1.nc:   0%|          | 0.00/3.67M [00:00<?, ?B/s]"
      ]
     },
     "metadata": {},
     "output_type": "display_data"
    },
    {
     "name": "stdout",
     "output_type": "stream",
     "text": [
      "en cours 2024 - 09 - 20...\n"
     ]
    },
    {
     "name": "stderr",
     "output_type": "stream",
     "text": [
      "2025-09-30 06:14:30,868 INFO Request ID is 3de4b234-3aee-41e9-946d-eaf89c50d628\n",
      "2025-09-30 06:14:31,138 INFO status has been updated to accepted\n",
      "2025-09-30 06:14:40,511 INFO status has been updated to running\n",
      "2025-09-30 06:14:45,929 INFO status has been updated to successful\n"
     ]
    },
    {
     "data": {
      "application/vnd.jupyter.widget-view+json": {
       "model_id": "1b6efaebd9d5436c91f4fe31e8a6c05d",
       "version_major": 2,
       "version_minor": 0
      },
      "text/plain": [
       "e87f9b5f8de35300c3898018053bcd75.nc:   0%|          | 0.00/3.66M [00:00<?, ?B/s]"
      ]
     },
     "metadata": {},
     "output_type": "display_data"
    },
    {
     "name": "stdout",
     "output_type": "stream",
     "text": [
      "en cours 2024 - 09 - 21...\n"
     ]
    },
    {
     "name": "stderr",
     "output_type": "stream",
     "text": [
      "2025-09-30 06:14:55,591 INFO Request ID is 9fabccad-277c-4f22-86aa-dd2bdc3de198\n",
      "2025-09-30 06:14:56,012 INFO status has been updated to accepted\n",
      "2025-09-30 06:15:16,439 INFO status has been updated to running\n",
      "2025-09-30 06:15:24,590 INFO status has been updated to successful\n"
     ]
    },
    {
     "data": {
      "application/vnd.jupyter.widget-view+json": {
       "model_id": "eb26861dc87c4e9d90cd1abe8bce12be",
       "version_major": 2,
       "version_minor": 0
      },
      "text/plain": [
       "7f73c83318a51c58a45e4b8a4e00145.nc:   0%|          | 0.00/3.67M [00:00<?, ?B/s]"
      ]
     },
     "metadata": {},
     "output_type": "display_data"
    },
    {
     "name": "stdout",
     "output_type": "stream",
     "text": [
      "en cours 2024 - 09 - 22...\n"
     ]
    },
    {
     "name": "stderr",
     "output_type": "stream",
     "text": [
      "2025-09-30 06:15:33,462 INFO Request ID is dd6e3c60-0a4b-4954-8201-e9b82b4b1d31\n",
      "2025-09-30 06:15:33,738 INFO status has been updated to accepted\n",
      "2025-09-30 06:15:49,525 INFO status has been updated to successful\n"
     ]
    },
    {
     "data": {
      "application/vnd.jupyter.widget-view+json": {
       "model_id": "f7958ec56f374025ab207523cea3e590",
       "version_major": 2,
       "version_minor": 0
      },
      "text/plain": [
       "ab3ce02bec348a38e74499fc949cdc5b.nc:   0%|          | 0.00/3.67M [00:00<?, ?B/s]"
      ]
     },
     "metadata": {},
     "output_type": "display_data"
    },
    {
     "name": "stdout",
     "output_type": "stream",
     "text": [
      "en cours 2024 - 09 - 23...\n"
     ]
    },
    {
     "name": "stderr",
     "output_type": "stream",
     "text": [
      "2025-09-30 06:15:58,479 INFO Request ID is 8d469dca-2093-402d-8d21-0dcde4cf1a20\n",
      "2025-09-30 06:15:58,839 INFO status has been updated to accepted\n",
      "2025-09-30 06:16:06,356 INFO status has been updated to running\n",
      "2025-09-30 06:16:10,195 INFO status has been updated to successful\n"
     ]
    },
    {
     "data": {
      "application/vnd.jupyter.widget-view+json": {
       "model_id": "f2983c754a704c6ba4b492d22e009aa5",
       "version_major": 2,
       "version_minor": 0
      },
      "text/plain": [
       "95e791cb48b8de3018c1304a4d223d79.nc:   0%|          | 0.00/3.72M [00:00<?, ?B/s]"
      ]
     },
     "metadata": {},
     "output_type": "display_data"
    },
    {
     "name": "stdout",
     "output_type": "stream",
     "text": [
      "en cours 2024 - 10 - 21...\n"
     ]
    },
    {
     "name": "stderr",
     "output_type": "stream",
     "text": [
      "2025-09-30 09:11:17,310 INFO Request ID is 0ffd09dd-846c-45aa-950b-0f8cffbd6870\n",
      "2025-09-30 09:11:17,605 INFO status has been updated to accepted\n",
      "2025-09-30 09:11:34,340 INFO status has been updated to running\n",
      "2025-09-30 09:11:43,031 INFO status has been updated to successful\n"
     ]
    },
    {
     "data": {
      "application/vnd.jupyter.widget-view+json": {
       "model_id": "d588dde929b0497d8ff7098993cd230e",
       "version_major": 2,
       "version_minor": 0
      },
      "text/plain": [
       "ecc6b4cee6f79f43796a95764209e3b6.nc:   0%|          | 0.00/3.68M [00:00<?, ?B/s]"
      ]
     },
     "metadata": {},
     "output_type": "display_data"
    },
    {
     "name": "stdout",
     "output_type": "stream",
     "text": [
      "en cours 2024 - 10 - 22...\n"
     ]
    },
    {
     "name": "stderr",
     "output_type": "stream",
     "text": [
      "2025-09-30 09:15:52,111 INFO Request ID is cb0b31e6-8375-4504-ab90-66287fe691a8\n",
      "2025-09-30 09:15:52,357 INFO status has been updated to accepted\n",
      "2025-09-30 09:16:08,304 INFO status has been updated to successful\n"
     ]
    },
    {
     "data": {
      "application/vnd.jupyter.widget-view+json": {
       "model_id": "b83b1a2bbee14dd7b7907e436c309262",
       "version_major": 2,
       "version_minor": 0
      },
      "text/plain": [
       "63b2ff424a14a43bce4e67cf808ae2f6.nc:   0%|          | 0.00/3.67M [00:00<?, ?B/s]"
      ]
     },
     "metadata": {},
     "output_type": "display_data"
    },
    {
     "name": "stderr",
     "output_type": "stream",
     "text": [
      "Recovering from connection error [('Connection broken: IncompleteRead(3411264 bytes read, 435550 more expected)', IncompleteRead(3411264 bytes read, 435550 more expected))], attempt 1 of 500\n",
      "Retrying in 120 seconds\n",
      "D:/DATACLIMATE all/hum/relative_humidity 2024-10-22.nc: 3145728 bytes already download, but server does not support restarts\n"
     ]
    },
    {
     "data": {
      "application/vnd.jupyter.widget-view+json": {
       "model_id": "c6887a2c0fc7489a96a0d6aa0dd6e26f",
       "version_major": 2,
       "version_minor": 0
      },
      "text/plain": [
       "63b2ff424a14a43bce4e67cf808ae2f6.nc: 0.00B [00:00, ?B/s]"
      ]
     },
     "metadata": {},
     "output_type": "display_data"
    },
    {
     "name": "stderr",
     "output_type": "stream",
     "text": [
      "Recovering from connection error [HTTPSConnectionPool(host='object-store.os-api.cci2.ecmwf.int', port=443): Max retries exceeded with url: /cci2-prod-cache-2/2025-09-26/63b2ff424a14a43bce4e67cf808ae2f6.nc (Caused by NameResolutionError(\"<urllib3.connection.HTTPSConnection object at 0x000002EA37ADDBE0>: Failed to resolve 'object-store.os-api.cci2.ecmwf.int' ([Errno 11001] getaddrinfo failed)\"))], attempt 2 of 500\n",
      "Retrying in 120 seconds\n"
     ]
    },
    {
     "data": {
      "application/vnd.jupyter.widget-view+json": {
       "model_id": "397b5f01750744e99c4acc3a6252b03d",
       "version_major": 2,
       "version_minor": 0
      },
      "text/plain": [
       "63b2ff424a14a43bce4e67cf808ae2f6.nc:   0%|          | 0.00/3.67M [00:00<?, ?B/s]"
      ]
     },
     "metadata": {},
     "output_type": "display_data"
    },
    {
     "name": "stderr",
     "output_type": "stream",
     "text": [
      "Recovering from connection error [HTTPSConnectionPool(host='object-store.os-api.cci2.ecmwf.int', port=443): Max retries exceeded with url: /cci2-prod-cache-2/2025-09-26/63b2ff424a14a43bce4e67cf808ae2f6.nc (Caused by ConnectTimeoutError(<urllib3.connection.HTTPSConnection object at 0x000002EA37ABB470>, 'Connection to object-store.os-api.cci2.ecmwf.int timed out. (connect timeout=1200)'))], attempt 3 of 500\n",
      "Retrying in 120 seconds\n"
     ]
    },
    {
     "data": {
      "application/vnd.jupyter.widget-view+json": {
       "model_id": "d023f9d5ad354443b82ec15e59654193",
       "version_major": 2,
       "version_minor": 0
      },
      "text/plain": [
       "63b2ff424a14a43bce4e67cf808ae2f6.nc: 0.00B [00:00, ?B/s]"
      ]
     },
     "metadata": {},
     "output_type": "display_data"
    },
    {
     "name": "stderr",
     "output_type": "stream",
     "text": [
      "Recovering from connection error [HTTPSConnectionPool(host='object-store.os-api.cci2.ecmwf.int', port=443): Max retries exceeded with url: /cci2-prod-cache-2/2025-09-26/63b2ff424a14a43bce4e67cf808ae2f6.nc (Caused by NameResolutionError(\"<urllib3.connection.HTTPSConnection object at 0x000002EA37ABB560>: Failed to resolve 'object-store.os-api.cci2.ecmwf.int' ([Errno 11001] getaddrinfo failed)\"))], attempt 4 of 500\n",
      "Retrying in 120 seconds\n"
     ]
    },
    {
     "data": {
      "application/vnd.jupyter.widget-view+json": {
       "model_id": "566148599c334c65894ad1e514232728",
       "version_major": 2,
       "version_minor": 0
      },
      "text/plain": [
       "63b2ff424a14a43bce4e67cf808ae2f6.nc:   0%|          | 0.00/3.67M [00:00<?, ?B/s]"
      ]
     },
     "metadata": {},
     "output_type": "display_data"
    },
    {
     "name": "stdout",
     "output_type": "stream",
     "text": [
      "en cours 2024 - 10 - 23...\n"
     ]
    },
    {
     "name": "stderr",
     "output_type": "stream",
     "text": [
      "2025-09-30 09:28:59,189 INFO Request ID is 0879cd23-15d0-468f-88d6-cf98695f6eb7\n",
      "2025-09-30 09:29:00,093 INFO status has been updated to accepted\n",
      "2025-09-30 09:29:22,472 INFO status has been updated to running\n",
      "2025-09-30 09:29:34,084 INFO status has been updated to successful\n"
     ]
    },
    {
     "data": {
      "application/vnd.jupyter.widget-view+json": {
       "model_id": "62bfb5cd64474e9e8bf0ddc504dcd658",
       "version_major": 2,
       "version_minor": 0
      },
      "text/plain": [
       "5531c63873c2692518d73c8cdbc26a6e.nc:   0%|          | 0.00/3.71M [00:00<?, ?B/s]"
      ]
     },
     "metadata": {},
     "output_type": "display_data"
    },
    {
     "name": "stdout",
     "output_type": "stream",
     "text": [
      "en cours 2024 - 10 - 24...\n"
     ]
    },
    {
     "name": "stderr",
     "output_type": "stream",
     "text": [
      "2025-09-30 09:29:41,571 INFO Request ID is da2ce3aa-a27e-4bd0-a15f-bf65e93bf661\n",
      "2025-09-30 09:29:41,844 INFO status has been updated to accepted\n",
      "2025-09-30 09:29:51,067 INFO status has been updated to running\n",
      "2025-09-30 09:29:56,482 INFO status has been updated to successful\n"
     ]
    },
    {
     "data": {
      "application/vnd.jupyter.widget-view+json": {
       "model_id": "aa675f4a2e0047fe9f0ee147b456323c",
       "version_major": 2,
       "version_minor": 0
      },
      "text/plain": [
       "967954939a758884f2cdd3da51ab1fb.nc:   0%|          | 0.00/3.71M [00:00<?, ?B/s]"
      ]
     },
     "metadata": {},
     "output_type": "display_data"
    },
    {
     "name": "stdout",
     "output_type": "stream",
     "text": [
      "en cours 2024 - 10 - 25...\n"
     ]
    },
    {
     "name": "stderr",
     "output_type": "stream",
     "text": [
      "2025-09-30 09:30:10,909 INFO Request ID is 9723b9a1-34b2-46a2-bfce-3d8a5a32728f\n",
      "2025-09-30 09:30:11,517 INFO status has been updated to accepted\n",
      "2025-09-30 09:30:21,383 INFO status has been updated to running\n",
      "2025-09-30 09:30:26,684 INFO status has been updated to successful\n"
     ]
    },
    {
     "data": {
      "application/vnd.jupyter.widget-view+json": {
       "model_id": "12cc5638f68449a28ca6a8982b1ef561",
       "version_major": 2,
       "version_minor": 0
      },
      "text/plain": [
       "b2461ceaf8ec7e5b7c10a13568ca81bd.nc:   0%|          | 0.00/3.72M [00:00<?, ?B/s]"
      ]
     },
     "metadata": {},
     "output_type": "display_data"
    },
    {
     "name": "stdout",
     "output_type": "stream",
     "text": [
      "en cours 2024 - 10 - 26...\n"
     ]
    },
    {
     "name": "stderr",
     "output_type": "stream",
     "text": [
      "2025-09-30 09:32:11,665 INFO Request ID is e91eb68f-92ea-42ca-b704-5c1feb71bc1b\n",
      "2025-09-30 09:32:12,794 INFO status has been updated to accepted\n",
      "2025-09-30 09:32:22,228 INFO status has been updated to running\n",
      "2025-09-30 09:32:28,757 INFO status has been updated to successful\n"
     ]
    },
    {
     "data": {
      "application/vnd.jupyter.widget-view+json": {
       "model_id": "9433df1f2e9c45b1af661ddfb0c93a76",
       "version_major": 2,
       "version_minor": 0
      },
      "text/plain": [
       "b1b03885744f67b6846c2556a746ca60.nc:   0%|          | 0.00/3.71M [00:01<?, ?B/s]"
      ]
     },
     "metadata": {},
     "output_type": "display_data"
    },
    {
     "name": "stdout",
     "output_type": "stream",
     "text": [
      "en cours 2024 - 10 - 27...\n"
     ]
    },
    {
     "name": "stderr",
     "output_type": "stream",
     "text": [
      "2025-09-30 09:32:56,331 INFO Request ID is 0c881b18-c44c-4cbd-a9c4-b70725d728b2\n",
      "2025-09-30 09:32:56,901 INFO status has been updated to accepted\n",
      "2025-09-30 09:33:07,481 INFO status has been updated to running\n",
      "2025-09-30 09:33:13,814 INFO status has been updated to successful\n"
     ]
    },
    {
     "data": {
      "application/vnd.jupyter.widget-view+json": {
       "model_id": "414fa8ef0e814b6c8064bdb4e17c5971",
       "version_major": 2,
       "version_minor": 0
      },
      "text/plain": [
       "5711965c7aacbd20199dc49b0bdfd22d.nc:   0%|          | 0.00/3.66M [00:00<?, ?B/s]"
      ]
     },
     "metadata": {},
     "output_type": "display_data"
    },
    {
     "name": "stdout",
     "output_type": "stream",
     "text": [
      "en cours 2024 - 10 - 28...\n"
     ]
    },
    {
     "name": "stderr",
     "output_type": "stream",
     "text": [
      "2025-09-30 09:33:23,952 INFO Request ID is abd16554-9a1a-4c03-8805-e80715524ab0\n",
      "2025-09-30 09:33:24,390 INFO status has been updated to accepted\n",
      "2025-09-30 09:33:36,021 INFO status has been updated to successful\n"
     ]
    },
    {
     "data": {
      "application/vnd.jupyter.widget-view+json": {
       "model_id": "c132163535854baa81bb65fc84a8f767",
       "version_major": 2,
       "version_minor": 0
      },
      "text/plain": [
       "40fca1cb95e7549528460c8e73964498.nc:   0%|          | 0.00/3.67M [00:00<?, ?B/s]"
      ]
     },
     "metadata": {},
     "output_type": "display_data"
    },
    {
     "name": "stdout",
     "output_type": "stream",
     "text": [
      "en cours 2024 - 10 - 29...\n"
     ]
    },
    {
     "name": "stderr",
     "output_type": "stream",
     "text": [
      "2025-09-30 09:33:57,236 INFO Request ID is 6eef4b34-3d1c-4d48-af6c-7a1ba7e8c0a5\n",
      "2025-09-30 09:33:57,521 INFO status has been updated to accepted\n",
      "2025-09-30 09:34:12,115 INFO status has been updated to running\n",
      "2025-09-30 09:34:20,003 INFO status has been updated to successful\n"
     ]
    },
    {
     "data": {
      "application/vnd.jupyter.widget-view+json": {
       "model_id": "6ef05cd8bf844d2db01d32b05e5d1222",
       "version_major": 2,
       "version_minor": 0
      },
      "text/plain": [
       "d295b41683ab3bea1d8476103cb516f.nc:   0%|          | 0.00/3.68M [00:00<?, ?B/s]"
      ]
     },
     "metadata": {},
     "output_type": "display_data"
    },
    {
     "name": "stdout",
     "output_type": "stream",
     "text": [
      "en cours 2024 - 10 - 30...\n"
     ]
    },
    {
     "name": "stderr",
     "output_type": "stream",
     "text": [
      "2025-09-30 09:34:25,296 INFO Request ID is 3e03a2a3-fb45-468a-9a1c-181db1895e32\n",
      "2025-09-30 09:34:25,561 INFO status has been updated to accepted\n",
      "2025-09-30 09:34:34,819 INFO status has been updated to successful\n"
     ]
    },
    {
     "data": {
      "application/vnd.jupyter.widget-view+json": {
       "model_id": "6a02e3d0b0bc427eb3525cfb413d5d92",
       "version_major": 2,
       "version_minor": 0
      },
      "text/plain": [
       "293031eea7a8474a7dcf0dadc9979fa1.nc:   0%|          | 0.00/3.68M [00:00<?, ?B/s]"
      ]
     },
     "metadata": {},
     "output_type": "display_data"
    },
    {
     "name": "stdout",
     "output_type": "stream",
     "text": [
      "en cours 2024 - 11 - 01...\n"
     ]
    },
    {
     "name": "stderr",
     "output_type": "stream",
     "text": [
      "2025-09-30 09:36:40,200 INFO Request ID is 57987654-d198-47ee-b269-23a9cfd36388\n",
      "2025-09-30 09:36:40,500 INFO status has been updated to accepted\n",
      "2025-09-30 09:36:55,860 INFO status has been updated to running\n",
      "2025-09-30 09:37:05,745 INFO status has been updated to successful\n"
     ]
    },
    {
     "data": {
      "application/vnd.jupyter.widget-view+json": {
       "model_id": "ed5755fb7d7e4b61b8098b02f2543d09",
       "version_major": 2,
       "version_minor": 0
      },
      "text/plain": [
       "9ba9616152cb89693fc0d20a1605469c.nc:   0%|          | 0.00/3.67M [00:00<?, ?B/s]"
      ]
     },
     "metadata": {},
     "output_type": "display_data"
    },
    {
     "name": "stdout",
     "output_type": "stream",
     "text": [
      "en cours 2024 - 11 - 02...\n"
     ]
    },
    {
     "name": "stderr",
     "output_type": "stream",
     "text": [
      "2025-09-30 09:37:12,488 INFO Request ID is 83b10790-9249-45ce-9271-dfcd2de88a3b\n",
      "2025-09-30 09:37:12,807 INFO status has been updated to accepted\n",
      "2025-09-30 09:37:27,317 INFO status has been updated to successful\n"
     ]
    },
    {
     "data": {
      "application/vnd.jupyter.widget-view+json": {
       "model_id": "72e9970cff47464b99cad2f61e4d93d6",
       "version_major": 2,
       "version_minor": 0
      },
      "text/plain": [
       "fce5c55cf00a6ee83c3cc5db8c4e4dcb.nc:   0%|          | 0.00/3.67M [00:00<?, ?B/s]"
      ]
     },
     "metadata": {},
     "output_type": "display_data"
    },
    {
     "name": "stdout",
     "output_type": "stream",
     "text": [
      "en cours 2024 - 11 - 03...\n"
     ]
    },
    {
     "name": "stderr",
     "output_type": "stream",
     "text": [
      "2025-09-30 09:37:34,624 INFO Request ID is 9114c4cb-257d-43e7-85db-d5c709894fb7\n",
      "2025-09-30 09:37:34,909 INFO status has been updated to accepted\n",
      "2025-09-30 09:37:45,010 INFO status has been updated to running\n",
      "2025-09-30 09:37:50,542 INFO status has been updated to successful\n"
     ]
    },
    {
     "data": {
      "application/vnd.jupyter.widget-view+json": {
       "model_id": "328a1cc243174df98a5a077781d2737b",
       "version_major": 2,
       "version_minor": 0
      },
      "text/plain": [
       "1599996c888a8b5055ae432530554df7.nc:   0%|          | 0.00/3.65M [00:00<?, ?B/s]"
      ]
     },
     "metadata": {},
     "output_type": "display_data"
    },
    {
     "name": "stdout",
     "output_type": "stream",
     "text": [
      "en cours 2024 - 11 - 04...\n"
     ]
    },
    {
     "name": "stderr",
     "output_type": "stream",
     "text": [
      "2025-09-30 09:38:01,144 INFO Request ID is 0b588acf-e898-4273-903e-380deb6a569c\n",
      "2025-09-30 09:38:01,422 INFO status has been updated to accepted\n",
      "2025-09-30 09:38:17,931 INFO status has been updated to successful\n"
     ]
    },
    {
     "data": {
      "application/vnd.jupyter.widget-view+json": {
       "model_id": "29bdbd7ab86b4d1d95e9001bec5a24c4",
       "version_major": 2,
       "version_minor": 0
      },
      "text/plain": [
       "65248a7899ca27709217dc9f91000073.nc:   0%|          | 0.00/3.66M [00:00<?, ?B/s]"
      ]
     },
     "metadata": {},
     "output_type": "display_data"
    },
    {
     "name": "stdout",
     "output_type": "stream",
     "text": [
      "en cours 2024 - 11 - 05...\n"
     ]
    },
    {
     "name": "stderr",
     "output_type": "stream",
     "text": [
      "2025-09-30 09:38:25,949 INFO Request ID is e564e19a-ff07-4c33-a4c4-aedcaf89e898\n",
      "2025-09-30 09:38:26,236 INFO status has been updated to accepted\n",
      "2025-09-30 09:38:35,657 INFO status has been updated to running\n",
      "2025-09-30 09:38:40,994 INFO status has been updated to successful\n"
     ]
    },
    {
     "data": {
      "application/vnd.jupyter.widget-view+json": {
       "model_id": "ea40375d7f0a4efdb748a5c104db90b3",
       "version_major": 2,
       "version_minor": 0
      },
      "text/plain": [
       "5160b02472979d447e1ea2ee5c08c919.nc:   0%|          | 0.00/3.61M [00:00<?, ?B/s]"
      ]
     },
     "metadata": {},
     "output_type": "display_data"
    },
    {
     "name": "stdout",
     "output_type": "stream",
     "text": [
      "en cours 2024 - 11 - 06...\n"
     ]
    },
    {
     "name": "stderr",
     "output_type": "stream",
     "text": [
      "2025-09-30 09:38:48,032 INFO Request ID is 3a70f5bb-a1eb-40e1-b943-db7825ac8938\n",
      "2025-09-30 09:38:48,348 INFO status has been updated to accepted\n",
      "2025-09-30 09:38:57,965 INFO status has been updated to running\n",
      "2025-09-30 09:39:04,107 INFO status has been updated to successful\n"
     ]
    },
    {
     "data": {
      "application/vnd.jupyter.widget-view+json": {
       "model_id": "64b24c1f36064419b57f8da2faedc42f",
       "version_major": 2,
       "version_minor": 0
      },
      "text/plain": [
       "f6f7475f099afe7a47b1d5f7ddd39eb6.nc:   0%|          | 0.00/3.62M [00:00<?, ?B/s]"
      ]
     },
     "metadata": {},
     "output_type": "display_data"
    },
    {
     "name": "stdout",
     "output_type": "stream",
     "text": [
      "en cours 2024 - 11 - 07...\n"
     ]
    },
    {
     "name": "stderr",
     "output_type": "stream",
     "text": [
      "2025-09-30 09:39:11,200 INFO Request ID is 39599282-b34f-4526-9985-ead80e64f01e\n",
      "2025-09-30 09:39:11,551 INFO status has been updated to accepted\n",
      "2025-09-30 09:39:21,260 INFO status has been updated to running\n",
      "2025-09-30 09:39:26,623 INFO status has been updated to successful\n"
     ]
    },
    {
     "data": {
      "application/vnd.jupyter.widget-view+json": {
       "model_id": "0c4d9ab6fe784f0bb15a0cd647d2bdfe",
       "version_major": 2,
       "version_minor": 0
      },
      "text/plain": [
       "808d2f0000753fe90bea41addb36c881.nc:   0%|          | 0.00/3.66M [00:00<?, ?B/s]"
      ]
     },
     "metadata": {},
     "output_type": "display_data"
    },
    {
     "name": "stdout",
     "output_type": "stream",
     "text": [
      "en cours 2024 - 11 - 08...\n"
     ]
    },
    {
     "name": "stderr",
     "output_type": "stream",
     "text": [
      "2025-09-30 09:42:30,383 INFO Request ID is e4a6e668-9ebb-4d97-8436-861933bfcdb6\n",
      "2025-09-30 09:42:30,685 INFO status has been updated to accepted\n",
      "2025-09-30 09:42:40,001 INFO status has been updated to running\n",
      "2025-09-30 09:42:45,383 INFO status has been updated to successful\n"
     ]
    },
    {
     "data": {
      "application/vnd.jupyter.widget-view+json": {
       "model_id": "e68fd89bffcc4c7689730e8b19f481eb",
       "version_major": 2,
       "version_minor": 0
      },
      "text/plain": [
       "be60067ea001a8ee55e09d56609e9319.nc:   0%|          | 0.00/3.66M [00:00<?, ?B/s]"
      ]
     },
     "metadata": {},
     "output_type": "display_data"
    },
    {
     "name": "stdout",
     "output_type": "stream",
     "text": [
      "en cours 2024 - 11 - 09...\n"
     ]
    },
    {
     "name": "stderr",
     "output_type": "stream",
     "text": [
      "2025-09-30 09:42:52,925 INFO Request ID is 0cc28732-d197-46da-a958-fd38421ce275\n",
      "2025-09-30 09:42:53,215 INFO status has been updated to accepted\n",
      "2025-09-30 09:43:02,440 INFO status has been updated to running\n",
      "2025-09-30 09:43:07,770 INFO status has been updated to successful\n"
     ]
    },
    {
     "data": {
      "application/vnd.jupyter.widget-view+json": {
       "model_id": "da2c9f64868346d794fe447a314597a3",
       "version_major": 2,
       "version_minor": 0
      },
      "text/plain": [
       "566494e5184268deb009008baeee415f.nc:   0%|          | 0.00/3.66M [00:00<?, ?B/s]"
      ]
     },
     "metadata": {},
     "output_type": "display_data"
    },
    {
     "name": "stdout",
     "output_type": "stream",
     "text": [
      "en cours 2024 - 11 - 10...\n"
     ]
    },
    {
     "name": "stderr",
     "output_type": "stream",
     "text": [
      "2025-09-30 09:45:47,111 INFO Request ID is 4d0ebb9d-a128-4cb4-9d6b-4d9766ee9375\n",
      "2025-09-30 09:45:47,400 INFO status has been updated to accepted\n",
      "2025-09-30 09:45:56,619 INFO status has been updated to running\n",
      "2025-09-30 09:46:01,951 INFO status has been updated to accepted\n",
      "2025-09-30 09:46:10,031 INFO status has been updated to successful\n"
     ]
    },
    {
     "data": {
      "application/vnd.jupyter.widget-view+json": {
       "model_id": "ca91e973af004db18883bc3498e02324",
       "version_major": 2,
       "version_minor": 0
      },
      "text/plain": [
       "6de63bd095834784add803d662af4901.nc:   0%|          | 0.00/3.60M [00:00<?, ?B/s]"
      ]
     },
     "metadata": {},
     "output_type": "display_data"
    },
    {
     "name": "stdout",
     "output_type": "stream",
     "text": [
      "en cours 2024 - 11 - 11...\n"
     ]
    },
    {
     "name": "stderr",
     "output_type": "stream",
     "text": [
      "2025-09-30 09:46:15,261 INFO Request ID is f40cd2e4-971d-40c0-bed7-41b9300d3733\n",
      "2025-09-30 09:46:15,682 INFO status has been updated to accepted\n",
      "2025-09-30 09:46:30,242 INFO status has been updated to running\n",
      "2025-09-30 09:46:38,101 INFO status has been updated to successful\n"
     ]
    },
    {
     "data": {
      "application/vnd.jupyter.widget-view+json": {
       "model_id": "96f4fda6f41042d0bcf9f87d83eac067",
       "version_major": 2,
       "version_minor": 0
      },
      "text/plain": [
       "71a626814d5ca1789b36f2a758b88404.nc:   0%|          | 0.00/3.59M [00:00<?, ?B/s]"
      ]
     },
     "metadata": {},
     "output_type": "display_data"
    },
    {
     "name": "stdout",
     "output_type": "stream",
     "text": [
      "en cours 2024 - 11 - 12...\n"
     ]
    },
    {
     "name": "stderr",
     "output_type": "stream",
     "text": [
      "2025-09-30 09:48:26,778 INFO Request ID is c9fbc64e-5d5f-40a2-b9cd-17908b87a8c8\n",
      "2025-09-30 09:48:27,035 INFO status has been updated to accepted\n",
      "Recovering from connection error [('Connection aborted.', RemoteDisconnected('Remote end closed connection without response'))], attempt 1 of 500\n",
      "Retrying in 120 seconds\n",
      "2025-09-30 09:50:58,055 INFO status has been updated to successful\n"
     ]
    },
    {
     "data": {
      "application/vnd.jupyter.widget-view+json": {
       "model_id": "539ea526acb444e2b3b7bf95449501be",
       "version_major": 2,
       "version_minor": 0
      },
      "text/plain": [
       "c97ec4e4220bdd5a90ac1ff964fa6297.nc:   0%|          | 0.00/3.61M [00:00<?, ?B/s]"
      ]
     },
     "metadata": {},
     "output_type": "display_data"
    },
    {
     "name": "stdout",
     "output_type": "stream",
     "text": [
      "en cours 2024 - 11 - 13...\n"
     ]
    },
    {
     "name": "stderr",
     "output_type": "stream",
     "text": [
      "2025-09-30 09:53:44,841 INFO Request ID is 66bc3795-f8ca-422b-ba1d-14d86547ed0a\n",
      "2025-09-30 09:53:45,191 INFO status has been updated to accepted\n",
      "2025-09-30 09:53:59,774 INFO status has been updated to running\n",
      "2025-09-30 09:54:07,678 INFO status has been updated to successful\n"
     ]
    },
    {
     "data": {
      "application/vnd.jupyter.widget-view+json": {
       "model_id": "5fd98664050549039d8513fe88369e0e",
       "version_major": 2,
       "version_minor": 0
      },
      "text/plain": [
       "9da2227220262f2c4bfc7049fdfa908f.nc:   0%|          | 0.00/3.66M [00:00<?, ?B/s]"
      ]
     },
     "metadata": {},
     "output_type": "display_data"
    },
    {
     "name": "stdout",
     "output_type": "stream",
     "text": [
      "en cours 2024 - 11 - 14...\n"
     ]
    },
    {
     "name": "stderr",
     "output_type": "stream",
     "text": [
      "2025-09-30 09:54:12,033 INFO Request ID is 5970d06a-ed62-4536-a3da-f0664fd28caa\n",
      "2025-09-30 09:54:12,400 INFO status has been updated to accepted\n",
      "2025-09-30 09:54:34,985 INFO status has been updated to successful\n"
     ]
    },
    {
     "data": {
      "application/vnd.jupyter.widget-view+json": {
       "model_id": "3a4845cc11fe4c83b6a03443e80727b3",
       "version_major": 2,
       "version_minor": 0
      },
      "text/plain": [
       "110f97ad34f014ce5f72b50a99007096.nc:   0%|          | 0.00/3.67M [00:00<?, ?B/s]"
      ]
     },
     "metadata": {},
     "output_type": "display_data"
    },
    {
     "name": "stdout",
     "output_type": "stream",
     "text": [
      "en cours 2024 - 11 - 15...\n"
     ]
    },
    {
     "name": "stderr",
     "output_type": "stream",
     "text": [
      "2025-09-30 09:56:37,931 INFO Request ID is 6f90e1e4-5b20-4f67-af88-6fb67174a18e\n",
      "2025-09-30 09:56:38,206 INFO status has been updated to accepted\n",
      "2025-09-30 09:56:52,785 INFO status has been updated to successful\n"
     ]
    },
    {
     "data": {
      "application/vnd.jupyter.widget-view+json": {
       "model_id": "92d18865af6645ff9bec09c402665859",
       "version_major": 2,
       "version_minor": 0
      },
      "text/plain": [
       "b28684b1713e5e24dbc4ff7d01628003.nc:   0%|          | 0.00/3.64M [00:00<?, ?B/s]"
      ]
     },
     "metadata": {},
     "output_type": "display_data"
    },
    {
     "name": "stdout",
     "output_type": "stream",
     "text": [
      "en cours 2024 - 11 - 16...\n"
     ]
    },
    {
     "name": "stderr",
     "output_type": "stream",
     "text": [
      "2025-09-30 09:57:36,495 INFO Request ID is dd7e2c00-3197-4cb5-9faa-000062a2b52a\n",
      "2025-09-30 09:57:36,750 INFO status has been updated to accepted\n",
      "2025-09-30 09:57:46,163 INFO status has been updated to running\n",
      "2025-09-30 09:57:51,489 INFO status has been updated to successful\n"
     ]
    },
    {
     "data": {
      "application/vnd.jupyter.widget-view+json": {
       "model_id": "7fb37d279dfa4afe93564f63a0a40a5f",
       "version_major": 2,
       "version_minor": 0
      },
      "text/plain": [
       "5129f4179c953733678c23af0336a790.nc:   0%|          | 0.00/3.64M [00:00<?, ?B/s]"
      ]
     },
     "metadata": {},
     "output_type": "display_data"
    },
    {
     "name": "stdout",
     "output_type": "stream",
     "text": [
      "en cours 2024 - 11 - 17...\n"
     ]
    },
    {
     "name": "stderr",
     "output_type": "stream",
     "text": [
      "2025-09-30 09:59:48,061 INFO Request ID is ca89b35f-58f9-4955-afb2-8c1e96554c8f\n",
      "2025-09-30 09:59:48,317 INFO status has been updated to accepted\n",
      "2025-09-30 10:00:03,205 INFO status has been updated to running\n",
      "2025-09-30 10:00:11,205 INFO status has been updated to successful\n"
     ]
    },
    {
     "data": {
      "application/vnd.jupyter.widget-view+json": {
       "model_id": "2b4c60c7a1954964ab8f3abc721384e6",
       "version_major": 2,
       "version_minor": 0
      },
      "text/plain": [
       "aad4dd5a68c79fe09496f55f754859b2.nc:   0%|          | 0.00/3.63M [00:00<?, ?B/s]"
      ]
     },
     "metadata": {},
     "output_type": "display_data"
    },
    {
     "name": "stdout",
     "output_type": "stream",
     "text": [
      "en cours 2024 - 11 - 18...\n"
     ]
    },
    {
     "name": "stderr",
     "output_type": "stream",
     "text": [
      "2025-09-30 10:00:22,209 INFO Request ID is 1e7ca407-17ec-4039-aa7c-417b84f23598\n",
      "2025-09-30 10:00:22,453 INFO status has been updated to accepted\n",
      "2025-09-30 10:00:36,949 INFO status has been updated to successful\n"
     ]
    },
    {
     "data": {
      "application/vnd.jupyter.widget-view+json": {
       "model_id": "aa702b7272734f62a5b32b2a97ea5b50",
       "version_major": 2,
       "version_minor": 0
      },
      "text/plain": [
       "48fbc7a18caa160d49f9e0e9a7570082.nc:   0%|          | 0.00/3.65M [00:00<?, ?B/s]"
      ]
     },
     "metadata": {},
     "output_type": "display_data"
    },
    {
     "name": "stdout",
     "output_type": "stream",
     "text": [
      "en cours 2024 - 11 - 19...\n"
     ]
    },
    {
     "name": "stderr",
     "output_type": "stream",
     "text": [
      "2025-09-30 10:00:42,101 INFO Request ID is 694cfe57-d6e5-4217-a412-823f8cc0ee05\n",
      "2025-09-30 10:00:42,338 INFO status has been updated to accepted\n",
      "2025-09-30 10:00:56,813 INFO status has been updated to running\n",
      "2025-09-30 10:01:04,677 INFO status has been updated to successful\n"
     ]
    },
    {
     "data": {
      "application/vnd.jupyter.widget-view+json": {
       "model_id": "98b4cce27371441da54933b8dcc68b2f",
       "version_major": 2,
       "version_minor": 0
      },
      "text/plain": [
       "119306a087778514aa1c5d30481ff6cf.nc:   0%|          | 0.00/3.67M [00:00<?, ?B/s]"
      ]
     },
     "metadata": {},
     "output_type": "display_data"
    },
    {
     "name": "stdout",
     "output_type": "stream",
     "text": [
      "en cours 2024 - 11 - 20...\n"
     ]
    },
    {
     "name": "stderr",
     "output_type": "stream",
     "text": [
      "2025-09-30 10:01:08,948 INFO Request ID is 17da9be1-d235-453e-a928-d52825a220db\n",
      "2025-09-30 10:01:09,221 INFO status has been updated to accepted\n",
      "2025-09-30 10:01:18,467 INFO status has been updated to running\n",
      "2025-09-30 10:01:23,983 INFO status has been updated to successful\n"
     ]
    },
    {
     "data": {
      "application/vnd.jupyter.widget-view+json": {
       "model_id": "252abfb564524d26a3fcfa0d70f4da5d",
       "version_major": 2,
       "version_minor": 0
      },
      "text/plain": [
       "c470a4c91445755169b229a88a16de71.nc:   0%|          | 0.00/3.63M [00:00<?, ?B/s]"
      ]
     },
     "metadata": {},
     "output_type": "display_data"
    },
    {
     "name": "stdout",
     "output_type": "stream",
     "text": [
      "en cours 2024 - 11 - 21...\n"
     ]
    },
    {
     "name": "stderr",
     "output_type": "stream",
     "text": [
      "2025-09-30 10:03:08,589 INFO Request ID is 35c730f2-144b-4eaa-ad0e-01aaa721dce1\n",
      "2025-09-30 10:03:08,853 INFO status has been updated to accepted\n",
      "2025-09-30 10:03:23,712 INFO status has been updated to running\n",
      "2025-09-30 10:03:31,570 INFO status has been updated to successful\n"
     ]
    },
    {
     "data": {
      "application/vnd.jupyter.widget-view+json": {
       "model_id": "472201c6a8cf414f8f053b3f06596a4c",
       "version_major": 2,
       "version_minor": 0
      },
      "text/plain": [
       "1d5cf54a62c530f83e4cf07036918812.nc:   0%|          | 0.00/3.61M [00:00<?, ?B/s]"
      ]
     },
     "metadata": {},
     "output_type": "display_data"
    },
    {
     "name": "stdout",
     "output_type": "stream",
     "text": [
      "en cours 2024 - 11 - 22...\n"
     ]
    },
    {
     "name": "stderr",
     "output_type": "stream",
     "text": [
      "2025-09-30 10:03:39,724 INFO Request ID is 9bc42f39-93f4-49ee-8a84-9b735be3ba5e\n",
      "2025-09-30 10:03:39,983 INFO status has been updated to accepted\n",
      "2025-09-30 10:03:54,725 INFO status has been updated to successful\n"
     ]
    },
    {
     "data": {
      "application/vnd.jupyter.widget-view+json": {
       "model_id": "3d48952f25344dde971f154b3210954f",
       "version_major": 2,
       "version_minor": 0
      },
      "text/plain": [
       "849d0f6a9e7050ab2aaaeda5e4a4db1b.nc:   0%|          | 0.00/3.63M [00:00<?, ?B/s]"
      ]
     },
     "metadata": {},
     "output_type": "display_data"
    },
    {
     "name": "stdout",
     "output_type": "stream",
     "text": [
      "en cours 2024 - 11 - 23...\n"
     ]
    },
    {
     "name": "stderr",
     "output_type": "stream",
     "text": [
      "2025-09-30 10:06:09,148 INFO Request ID is 109333aa-b882-41f1-91ed-e7bf8a65990b\n",
      "2025-09-30 10:06:09,463 INFO status has been updated to accepted\n",
      "2025-09-30 10:06:44,024 INFO status has been updated to successful\n"
     ]
    },
    {
     "data": {
      "application/vnd.jupyter.widget-view+json": {
       "model_id": "87bbfc38718640de9905d1dbd84c1810",
       "version_major": 2,
       "version_minor": 0
      },
      "text/plain": [
       "971f5003fb8e5c49c7d6d5462206596c.nc:   0%|          | 0.00/3.65M [00:00<?, ?B/s]"
      ]
     },
     "metadata": {},
     "output_type": "display_data"
    },
    {
     "name": "stdout",
     "output_type": "stream",
     "text": [
      "en cours 2024 - 11 - 24...\n"
     ]
    },
    {
     "name": "stderr",
     "output_type": "stream",
     "text": [
      "2025-09-30 10:06:49,297 INFO Request ID is cf0d25cf-be49-4921-b659-2d66dda42bf3\n",
      "2025-09-30 10:06:49,575 INFO status has been updated to accepted\n",
      "2025-09-30 10:06:55,099 INFO status has been updated to running\n",
      "2025-09-30 10:06:58,708 INFO status has been updated to accepted\n",
      "2025-09-30 10:07:04,312 INFO status has been updated to successful\n"
     ]
    },
    {
     "data": {
      "application/vnd.jupyter.widget-view+json": {
       "model_id": "8a99335418a04ea982fc3cdab4fdeeb9",
       "version_major": 2,
       "version_minor": 0
      },
      "text/plain": [
       "724be0612cacf3294c7a9e4661fb62.nc:   0%|          | 0.00/3.62M [00:00<?, ?B/s]"
      ]
     },
     "metadata": {},
     "output_type": "display_data"
    },
    {
     "name": "stdout",
     "output_type": "stream",
     "text": [
      "en cours 2024 - 11 - 25...\n"
     ]
    },
    {
     "name": "stderr",
     "output_type": "stream",
     "text": [
      "2025-09-30 10:07:17,127 INFO Request ID is 0e1c84e4-0d7b-45ed-8d4d-acab8d9b330e\n",
      "2025-09-30 10:07:17,370 INFO status has been updated to accepted\n",
      "2025-09-30 10:07:26,456 INFO status has been updated to running\n",
      "2025-09-30 10:07:31,794 INFO status has been updated to successful\n"
     ]
    },
    {
     "data": {
      "application/vnd.jupyter.widget-view+json": {
       "model_id": "a57cfb28e1cd441f8b20a70286bec01d",
       "version_major": 2,
       "version_minor": 0
      },
      "text/plain": [
       "44c911275aa518d35092404fc0533d15.nc:   0%|          | 0.00/3.60M [00:00<?, ?B/s]"
      ]
     },
     "metadata": {},
     "output_type": "display_data"
    },
    {
     "name": "stdout",
     "output_type": "stream",
     "text": [
      "en cours 2024 - 11 - 26...\n"
     ]
    },
    {
     "name": "stderr",
     "output_type": "stream",
     "text": [
      "2025-09-30 10:07:49,275 INFO Request ID is 79af4317-37ac-491b-a7b3-27e266bc7fe2\n",
      "2025-09-30 10:07:49,558 INFO status has been updated to accepted\n",
      "2025-09-30 10:08:11,811 INFO status has been updated to successful\n"
     ]
    },
    {
     "data": {
      "application/vnd.jupyter.widget-view+json": {
       "model_id": "f6b7073570b749e0840a07f3602ef9b0",
       "version_major": 2,
       "version_minor": 0
      },
      "text/plain": [
       "e365b5f62b2b844f3ae44b78e0f2e436.nc:   0%|          | 0.00/3.61M [00:00<?, ?B/s]"
      ]
     },
     "metadata": {},
     "output_type": "display_data"
    },
    {
     "name": "stdout",
     "output_type": "stream",
     "text": [
      "en cours 2024 - 11 - 27...\n"
     ]
    },
    {
     "name": "stderr",
     "output_type": "stream",
     "text": [
      "2025-09-30 10:08:17,708 INFO Request ID is 39f2188f-a92e-4f1d-b41d-6464e019f7c6\n",
      "2025-09-30 10:08:17,940 INFO status has been updated to accepted\n",
      "2025-09-30 10:08:27,281 INFO status has been updated to running\n",
      "2025-09-30 10:08:32,574 INFO status has been updated to successful\n"
     ]
    },
    {
     "data": {
      "application/vnd.jupyter.widget-view+json": {
       "model_id": "e316b5833b44408b8ef1b457e7a399df",
       "version_major": 2,
       "version_minor": 0
      },
      "text/plain": [
       "c20ff1e4ce4182c8ebdadc9991f1af17.nc:   0%|          | 0.00/3.64M [00:00<?, ?B/s]"
      ]
     },
     "metadata": {},
     "output_type": "display_data"
    },
    {
     "name": "stdout",
     "output_type": "stream",
     "text": [
      "en cours 2024 - 11 - 28...\n"
     ]
    },
    {
     "name": "stderr",
     "output_type": "stream",
     "text": [
      "2025-09-30 10:08:48,505 INFO Request ID is 8ab9236b-3ecb-4b56-a02c-6baeb4e3a5d5\n",
      "2025-09-30 10:08:48,802 INFO status has been updated to accepted\n",
      "2025-09-30 10:09:03,176 INFO status has been updated to running\n",
      "2025-09-30 10:09:15,853 INFO status has been updated to successful\n"
     ]
    },
    {
     "data": {
      "application/vnd.jupyter.widget-view+json": {
       "model_id": "9b688ab1f8274188a5e9efff9a39ab61",
       "version_major": 2,
       "version_minor": 0
      },
      "text/plain": [
       "d8f6a4a6b4e150a0eb9b861fcb37dcb3.nc:   0%|          | 0.00/3.67M [00:00<?, ?B/s]"
      ]
     },
     "metadata": {},
     "output_type": "display_data"
    },
    {
     "name": "stdout",
     "output_type": "stream",
     "text": [
      "en cours 2024 - 11 - 29...\n"
     ]
    },
    {
     "name": "stderr",
     "output_type": "stream",
     "text": [
      "2025-09-30 10:09:29,212 INFO Request ID is 051948f9-5885-4fc4-b9ce-a8187bfafd98\n",
      "2025-09-30 10:09:29,455 INFO status has been updated to accepted\n",
      "2025-09-30 10:10:03,366 INFO status has been updated to successful\n"
     ]
    },
    {
     "data": {
      "application/vnd.jupyter.widget-view+json": {
       "model_id": "06b3b3aca96348fd8b6ac6f7b9b22929",
       "version_major": 2,
       "version_minor": 0
      },
      "text/plain": [
       "d96794680c5cb00ebadbbbff7502f334.nc:   0%|          | 0.00/3.65M [00:00<?, ?B/s]"
      ]
     },
     "metadata": {},
     "output_type": "display_data"
    },
    {
     "name": "stdout",
     "output_type": "stream",
     "text": [
      "en cours 2024 - 11 - 30...\n"
     ]
    },
    {
     "name": "stderr",
     "output_type": "stream",
     "text": [
      "2025-09-30 10:10:07,838 INFO Request ID is f0169546-7963-429e-9fd9-376e4d54cc3e\n",
      "2025-09-30 10:10:08,074 INFO status has been updated to accepted\n",
      "2025-09-30 10:10:17,237 INFO status has been updated to running\n",
      "2025-09-30 10:10:22,533 INFO status has been updated to successful\n"
     ]
    },
    {
     "data": {
      "application/vnd.jupyter.widget-view+json": {
       "model_id": "6490eae7881d40d2957ad75e8c3d198b",
       "version_major": 2,
       "version_minor": 0
      },
      "text/plain": [
       "59243d6172610c471cb05dd3e12f5db5.nc:   0%|          | 0.00/3.64M [00:00<?, ?B/s]"
      ]
     },
     "metadata": {},
     "output_type": "display_data"
    },
    {
     "name": "stdout",
     "output_type": "stream",
     "text": [
      "en cours 2024 - 12 - 01...\n"
     ]
    },
    {
     "name": "stderr",
     "output_type": "stream",
     "text": [
      "2025-09-30 10:10:27,679 INFO Request ID is fbef169c-d834-417e-a513-b4633d3d6714\n",
      "2025-09-30 10:10:28,023 INFO status has been updated to accepted\n",
      "2025-09-30 10:10:42,518 INFO status has been updated to running\n",
      "2025-09-30 10:11:02,008 INFO status has been updated to successful\n"
     ]
    },
    {
     "data": {
      "application/vnd.jupyter.widget-view+json": {
       "model_id": "971eefb810ef4236b07f7f2f156b01aa",
       "version_major": 2,
       "version_minor": 0
      },
      "text/plain": [
       "b86f51aca76d0f317efdb80fb917160.nc:   0%|          | 0.00/3.65M [00:00<?, ?B/s]"
      ]
     },
     "metadata": {},
     "output_type": "display_data"
    },
    {
     "name": "stdout",
     "output_type": "stream",
     "text": [
      "en cours 2024 - 12 - 02...\n"
     ]
    },
    {
     "name": "stderr",
     "output_type": "stream",
     "text": [
      "2025-09-30 10:13:06,167 INFO Request ID is f6411e31-56cb-4d22-83f8-1994c11a4112\n",
      "2025-09-30 10:13:06,429 INFO status has been updated to accepted\n",
      "2025-09-30 10:13:20,945 INFO status has been updated to running\n",
      "2025-09-30 10:13:40,718 INFO status has been updated to successful\n"
     ]
    },
    {
     "data": {
      "application/vnd.jupyter.widget-view+json": {
       "model_id": "d0322f405979418491258868e2015fcb",
       "version_major": 2,
       "version_minor": 0
      },
      "text/plain": [
       "240470492b9cb03ac70a653172289f89.nc:   0%|          | 0.00/3.68M [00:00<?, ?B/s]"
      ]
     },
     "metadata": {},
     "output_type": "display_data"
    },
    {
     "name": "stdout",
     "output_type": "stream",
     "text": [
      "en cours 2024 - 12 - 03...\n"
     ]
    },
    {
     "name": "stderr",
     "output_type": "stream",
     "text": [
      "2025-09-30 10:13:46,052 INFO Request ID is 0616d881-2125-4b80-841b-16d164486feb\n",
      "2025-09-30 10:13:46,391 INFO status has been updated to accepted\n",
      "2025-09-30 10:14:01,535 INFO status has been updated to running\n",
      "2025-09-30 10:14:21,171 INFO status has been updated to successful\n"
     ]
    },
    {
     "data": {
      "application/vnd.jupyter.widget-view+json": {
       "model_id": "91b3305ab59f4231a3491e8dbf89659e",
       "version_major": 2,
       "version_minor": 0
      },
      "text/plain": [
       "bcc25d6e9ea699c17db6b5db402597c4.nc:   0%|          | 0.00/3.71M [00:00<?, ?B/s]"
      ]
     },
     "metadata": {},
     "output_type": "display_data"
    },
    {
     "name": "stdout",
     "output_type": "stream",
     "text": [
      "en cours 2024 - 12 - 04...\n"
     ]
    },
    {
     "name": "stderr",
     "output_type": "stream",
     "text": [
      "2025-09-30 10:14:26,950 INFO Request ID is 995ca005-8aa6-4a4a-b6c3-e1469bdcccc7\n",
      "2025-09-30 10:14:27,227 INFO status has been updated to accepted\n",
      "2025-09-30 10:14:41,686 INFO status has been updated to running\n",
      "2025-09-30 10:14:49,626 INFO status has been updated to accepted\n",
      "2025-09-30 10:15:01,382 INFO status has been updated to successful\n"
     ]
    },
    {
     "data": {
      "application/vnd.jupyter.widget-view+json": {
       "model_id": "a2cb23333d4f4beb98988c9a7eeb74a9",
       "version_major": 2,
       "version_minor": 0
      },
      "text/plain": [
       "d8dd866d887c07db38579a833174b662.nc:   0%|          | 0.00/3.70M [00:00<?, ?B/s]"
      ]
     },
     "metadata": {},
     "output_type": "display_data"
    },
    {
     "name": "stdout",
     "output_type": "stream",
     "text": [
      "en cours 2024 - 12 - 05...\n"
     ]
    },
    {
     "name": "stderr",
     "output_type": "stream",
     "text": [
      "2025-09-30 10:15:07,426 INFO Request ID is 5c822e19-adb3-4665-acc8-2680ef9e3003\n",
      "2025-09-30 10:15:07,697 INFO status has been updated to accepted\n",
      "2025-09-30 10:15:17,510 INFO status has been updated to running\n",
      "2025-09-30 10:15:42,395 INFO status has been updated to successful\n"
     ]
    },
    {
     "data": {
      "application/vnd.jupyter.widget-view+json": {
       "model_id": "e4d16ef5680d45f7b738ec1677da46c2",
       "version_major": 2,
       "version_minor": 0
      },
      "text/plain": [
       "7c654b421a6dec97723207166062dc69.nc:   0%|          | 0.00/3.67M [00:00<?, ?B/s]"
      ]
     },
     "metadata": {},
     "output_type": "display_data"
    },
    {
     "name": "stdout",
     "output_type": "stream",
     "text": [
      "en cours 2024 - 12 - 06...\n"
     ]
    },
    {
     "name": "stderr",
     "output_type": "stream",
     "text": [
      "2025-09-30 10:15:49,796 INFO Request ID is b28c7e23-2be5-43e4-a1b3-fdbb804c4e5c\n",
      "2025-09-30 10:15:50,073 INFO status has been updated to accepted\n",
      "2025-09-30 10:16:05,087 INFO status has been updated to running\n",
      "2025-09-30 10:16:24,808 INFO status has been updated to successful\n"
     ]
    },
    {
     "data": {
      "application/vnd.jupyter.widget-view+json": {
       "model_id": "b816fb2ec84c42ddac01c6243d112710",
       "version_major": 2,
       "version_minor": 0
      },
      "text/plain": [
       "78e77eac0263dd32229daca1863fe056.nc:   0%|          | 0.00/3.70M [00:00<?, ?B/s]"
      ]
     },
     "metadata": {},
     "output_type": "display_data"
    },
    {
     "name": "stdout",
     "output_type": "stream",
     "text": [
      "en cours 2024 - 12 - 07...\n"
     ]
    },
    {
     "name": "stderr",
     "output_type": "stream",
     "text": [
      "2025-09-30 10:16:30,261 INFO Request ID is 080ad88e-ec51-41d6-adcf-a5f82acbacaf\n",
      "2025-09-30 10:16:30,546 INFO status has been updated to accepted\n",
      "2025-09-30 10:16:45,541 INFO status has been updated to running\n",
      "2025-09-30 10:17:05,756 INFO status has been updated to successful\n"
     ]
    },
    {
     "data": {
      "application/vnd.jupyter.widget-view+json": {
       "model_id": "aa8deb212dc040c5a8e3a3b4480d7e69",
       "version_major": 2,
       "version_minor": 0
      },
      "text/plain": [
       "361d1ba101795113b51245ef63f65aae.nc:   0%|          | 0.00/3.68M [00:00<?, ?B/s]"
      ]
     },
     "metadata": {},
     "output_type": "display_data"
    },
    {
     "name": "stdout",
     "output_type": "stream",
     "text": [
      "en cours 2024 - 12 - 08...\n"
     ]
    },
    {
     "name": "stderr",
     "output_type": "stream",
     "text": [
      "2025-09-30 10:19:04,481 INFO Request ID is 2bc07368-8ea4-4c62-8073-cf7b914cf990\n",
      "2025-09-30 10:19:04,783 INFO status has been updated to accepted\n",
      "2025-09-30 10:19:13,919 INFO status has been updated to running\n",
      "2025-09-30 10:19:38,701 INFO status has been updated to successful\n"
     ]
    },
    {
     "data": {
      "application/vnd.jupyter.widget-view+json": {
       "model_id": "ff14c9ddd10449fc994718ff1519eda3",
       "version_major": 2,
       "version_minor": 0
      },
      "text/plain": [
       "b35ceb0801bc7404ba8478df4d53b82c.nc:   0%|          | 0.00/3.67M [00:00<?, ?B/s]"
      ]
     },
     "metadata": {},
     "output_type": "display_data"
    },
    {
     "name": "stdout",
     "output_type": "stream",
     "text": [
      "en cours 2024 - 12 - 09...\n"
     ]
    },
    {
     "name": "stderr",
     "output_type": "stream",
     "text": [
      "2025-09-30 10:19:57,279 INFO Request ID is b08f989f-00ed-49eb-b774-5ba38c388575\n",
      "2025-09-30 10:19:57,499 INFO status has been updated to accepted\n",
      "2025-09-30 10:20:11,893 INFO status has been updated to running\n",
      "2025-09-30 10:20:48,632 INFO status has been updated to successful\n"
     ]
    },
    {
     "data": {
      "application/vnd.jupyter.widget-view+json": {
       "model_id": "a55279f4ccab494a8185a9d2622547c3",
       "version_major": 2,
       "version_minor": 0
      },
      "text/plain": [
       "1ae645b15125213563e5097c3a62b0c1.nc:   0%|          | 0.00/3.66M [00:00<?, ?B/s]"
      ]
     },
     "metadata": {},
     "output_type": "display_data"
    },
    {
     "name": "stdout",
     "output_type": "stream",
     "text": [
      "en cours 2024 - 12 - 10...\n"
     ]
    },
    {
     "name": "stderr",
     "output_type": "stream",
     "text": [
      "2025-09-30 10:20:53,630 INFO Request ID is 0bb9d688-9895-4381-990e-d8cec4ed26d0\n",
      "2025-09-30 10:20:53,868 INFO status has been updated to accepted\n",
      "2025-09-30 10:21:08,200 INFO status has been updated to running\n",
      "2025-09-30 10:21:16,044 INFO status has been updated to accepted\n",
      "2025-09-30 10:21:27,822 INFO status has been updated to successful\n"
     ]
    },
    {
     "data": {
      "application/vnd.jupyter.widget-view+json": {
       "model_id": "abbd2d481b7949ce9aa3dd7ab54317a1",
       "version_major": 2,
       "version_minor": 0
      },
      "text/plain": [
       "d5fcda5f0cab50c3eff74fd79b30f666.nc:   0%|          | 0.00/3.66M [00:00<?, ?B/s]"
      ]
     },
     "metadata": {},
     "output_type": "display_data"
    },
    {
     "name": "stdout",
     "output_type": "stream",
     "text": [
      "en cours 2024 - 12 - 11...\n"
     ]
    },
    {
     "name": "stderr",
     "output_type": "stream",
     "text": [
      "2025-09-30 10:21:33,296 INFO Request ID is 88fbb540-c288-4511-bb64-078e828c93bf\n",
      "2025-09-30 10:21:33,507 INFO status has been updated to accepted\n",
      "2025-09-30 10:21:42,764 INFO status has been updated to running\n",
      "2025-09-30 10:22:07,585 INFO status has been updated to successful\n"
     ]
    },
    {
     "data": {
      "application/vnd.jupyter.widget-view+json": {
       "model_id": "f2e21c12ade444abb496aecf1c9d0aef",
       "version_major": 2,
       "version_minor": 0
      },
      "text/plain": [
       "73916669ce0af093e11af7247c6a9368.nc:   0%|          | 0.00/3.64M [00:00<?, ?B/s]"
      ]
     },
     "metadata": {},
     "output_type": "display_data"
    },
    {
     "name": "stdout",
     "output_type": "stream",
     "text": [
      "en cours 2024 - 12 - 12...\n"
     ]
    },
    {
     "name": "stderr",
     "output_type": "stream",
     "text": [
      "2025-09-30 10:23:52,484 INFO Request ID is a1fde94d-ad0a-48c2-997e-b4b0f388baae\n",
      "2025-09-30 10:23:52,724 INFO status has been updated to accepted\n",
      "2025-09-30 10:24:02,027 INFO status has been updated to running\n",
      "2025-09-30 10:24:26,784 INFO status has been updated to successful\n"
     ]
    },
    {
     "data": {
      "application/vnd.jupyter.widget-view+json": {
       "model_id": "5587694110e4441480c4c94f57af6f70",
       "version_major": 2,
       "version_minor": 0
      },
      "text/plain": [
       "6342888f4b793aff0a379a1ec780e7ae.nc:   0%|          | 0.00/3.66M [00:00<?, ?B/s]"
      ]
     },
     "metadata": {},
     "output_type": "display_data"
    },
    {
     "name": "stdout",
     "output_type": "stream",
     "text": [
      "en cours 2024 - 12 - 13...\n"
     ]
    },
    {
     "name": "stderr",
     "output_type": "stream",
     "text": [
      "2025-09-30 10:24:34,096 INFO Request ID is ccab28e7-3756-44d7-b817-039e357754be\n",
      "2025-09-30 10:24:34,355 INFO status has been updated to accepted\n",
      "2025-09-30 10:24:49,113 INFO status has been updated to running\n",
      "2025-09-30 10:25:08,565 INFO status has been updated to successful\n"
     ]
    },
    {
     "data": {
      "application/vnd.jupyter.widget-view+json": {
       "model_id": "f7fdbbd66a77441289d80b9a7f2112d1",
       "version_major": 2,
       "version_minor": 0
      },
      "text/plain": [
       "def2e37ed5b1bc69de73da6d195b3545.nc:   0%|          | 0.00/3.64M [00:00<?, ?B/s]"
      ]
     },
     "metadata": {},
     "output_type": "display_data"
    },
    {
     "name": "stdout",
     "output_type": "stream",
     "text": [
      "en cours 2024 - 12 - 14...\n"
     ]
    },
    {
     "name": "stderr",
     "output_type": "stream",
     "text": [
      "2025-09-30 10:25:15,103 INFO Request ID is e4582952-40e8-4131-a78e-46c7f6769f0a\n",
      "2025-09-30 10:25:15,337 INFO status has been updated to accepted\n",
      "2025-09-30 10:25:29,833 INFO status has been updated to running\n",
      "2025-09-30 10:25:49,310 INFO status has been updated to successful\n"
     ]
    },
    {
     "data": {
      "application/vnd.jupyter.widget-view+json": {
       "model_id": "7511eb36e29d46ce86c7a4cc4479750e",
       "version_major": 2,
       "version_minor": 0
      },
      "text/plain": [
       "2c064549215ec28ae75a0d950da7a6b1.nc:   0%|          | 0.00/3.60M [00:00<?, ?B/s]"
      ]
     },
     "metadata": {},
     "output_type": "display_data"
    },
    {
     "name": "stdout",
     "output_type": "stream",
     "text": [
      "en cours 2024 - 12 - 15...\n"
     ]
    },
    {
     "name": "stderr",
     "output_type": "stream",
     "text": [
      "2025-09-30 10:27:01,061 INFO Request ID is c5efa436-60b3-444a-9694-bf9a04fcf50f\n",
      "2025-09-30 10:27:02,178 INFO status has been updated to accepted\n",
      "2025-09-30 10:27:12,784 INFO status has been updated to running\n",
      "2025-09-30 10:27:37,773 INFO status has been updated to successful\n"
     ]
    },
    {
     "data": {
      "application/vnd.jupyter.widget-view+json": {
       "model_id": "c24b950897024b1fa53ea7f5e926afe8",
       "version_major": 2,
       "version_minor": 0
      },
      "text/plain": [
       "34c257d4c64335450eee8215549a1083.nc:   0%|          | 0.00/3.60M [00:00<?, ?B/s]"
      ]
     },
     "metadata": {},
     "output_type": "display_data"
    },
    {
     "name": "stdout",
     "output_type": "stream",
     "text": [
      "en cours 2024 - 12 - 16...\n"
     ]
    },
    {
     "name": "stderr",
     "output_type": "stream",
     "text": [
      "2025-09-30 10:29:36,523 INFO Request ID is 030dc94c-92df-472e-a94d-802b6fd7937d\n",
      "2025-09-30 10:29:36,754 INFO status has been updated to accepted\n",
      "2025-09-30 10:29:46,061 INFO status has been updated to running\n",
      "2025-09-30 10:30:54,128 INFO status has been updated to successful\n"
     ]
    },
    {
     "data": {
      "application/vnd.jupyter.widget-view+json": {
       "model_id": "ce8871c4404746d7941d43b5d368ae2c",
       "version_major": 2,
       "version_minor": 0
      },
      "text/plain": [
       "ad3e524ead268ba7074a102c59d15c9c.nc:   0%|          | 0.00/3.62M [00:00<?, ?B/s]"
      ]
     },
     "metadata": {},
     "output_type": "display_data"
    },
    {
     "name": "stdout",
     "output_type": "stream",
     "text": [
      "en cours 2024 - 12 - 17...\n"
     ]
    },
    {
     "name": "stderr",
     "output_type": "stream",
     "text": [
      "2025-09-30 10:32:31,333 INFO Request ID is ac8fc38f-0af0-41b6-8610-e87114b73c12\n",
      "2025-09-30 10:32:31,622 INFO status has been updated to accepted\n",
      "2025-09-30 10:32:41,108 INFO status has been updated to running\n",
      "2025-09-30 10:33:05,878 INFO status has been updated to successful\n"
     ]
    },
    {
     "data": {
      "application/vnd.jupyter.widget-view+json": {
       "model_id": "7897202bce7a499ea78107bc64d73462",
       "version_major": 2,
       "version_minor": 0
      },
      "text/plain": [
       "d13629887b18be1ce7db74a1c80cf249.nc:   0%|          | 0.00/3.62M [00:00<?, ?B/s]"
      ]
     },
     "metadata": {},
     "output_type": "display_data"
    },
    {
     "name": "stdout",
     "output_type": "stream",
     "text": [
      "en cours 2024 - 12 - 18...\n"
     ]
    },
    {
     "name": "stderr",
     "output_type": "stream",
     "text": [
      "2025-09-30 10:34:58,981 INFO Request ID is 3df636ca-1e52-45c3-bd95-05b31c46cd39\n",
      "2025-09-30 10:34:59,355 INFO status has been updated to accepted\n",
      "2025-09-30 10:35:21,538 INFO status has been updated to running\n",
      "2025-09-30 10:35:33,145 INFO status has been updated to accepted\n",
      "2025-09-30 10:35:50,457 INFO status has been updated to successful\n"
     ]
    },
    {
     "data": {
      "application/vnd.jupyter.widget-view+json": {
       "model_id": "0681856317154c229f926cbabe362c71",
       "version_major": 2,
       "version_minor": 0
      },
      "text/plain": [
       "5682eac3146295ebe5724852f3b27c43.nc:   0%|          | 0.00/3.65M [00:00<?, ?B/s]"
      ]
     },
     "metadata": {},
     "output_type": "display_data"
    },
    {
     "name": "stdout",
     "output_type": "stream",
     "text": [
      "en cours 2024 - 12 - 19...\n"
     ]
    },
    {
     "name": "stderr",
     "output_type": "stream",
     "text": [
      "2025-09-30 10:35:55,945 INFO Request ID is e138ee5e-7c79-4818-bda4-55f5534fdc50\n",
      "2025-09-30 10:35:56,165 INFO status has been updated to accepted\n",
      "2025-09-30 10:36:05,323 INFO status has been updated to running\n",
      "2025-09-30 10:36:18,437 INFO status has been updated to successful\n"
     ]
    },
    {
     "data": {
      "application/vnd.jupyter.widget-view+json": {
       "model_id": "70bb9808465d400e887e4f5b76b553ce",
       "version_major": 2,
       "version_minor": 0
      },
      "text/plain": [
       "f7ea9d653dd941dd4e9e66ee971d350e.nc:   0%|          | 0.00/3.65M [00:00<?, ?B/s]"
      ]
     },
     "metadata": {},
     "output_type": "display_data"
    },
    {
     "name": "stdout",
     "output_type": "stream",
     "text": [
      "en cours 2024 - 12 - 20...\n"
     ]
    },
    {
     "name": "stderr",
     "output_type": "stream",
     "text": [
      "2025-09-30 10:36:23,478 INFO Request ID is aec0a26c-2de2-4e5c-bc96-824cf4eb2477\n",
      "2025-09-30 10:36:23,704 INFO status has been updated to accepted\n",
      "2025-09-30 10:36:38,268 INFO status has been updated to running\n",
      "Recovering from connection error [('Connection aborted.', RemoteDisconnected('Remote end closed connection without response'))], attempt 1 of 500\n",
      "Retrying in 120 seconds\n",
      "2025-09-30 10:39:06,156 INFO status has been updated to successful\n"
     ]
    },
    {
     "data": {
      "application/vnd.jupyter.widget-view+json": {
       "model_id": "029efb764e004b4ea7efb6badea692e5",
       "version_major": 2,
       "version_minor": 0
      },
      "text/plain": [
       "684d4867701aa0ee54ea58a82c183860.nc:   0%|          | 0.00/3.66M [00:00<?, ?B/s]"
      ]
     },
     "metadata": {},
     "output_type": "display_data"
    },
    {
     "name": "stdout",
     "output_type": "stream",
     "text": [
      "en cours 2024 - 12 - 21...\n"
     ]
    },
    {
     "name": "stderr",
     "output_type": "stream",
     "text": [
      "2025-09-30 10:39:26,890 INFO Request ID is 3c84c40d-bbba-4f3c-8de3-ff11f0a11aca\n",
      "2025-09-30 10:39:27,107 INFO status has been updated to accepted\n",
      "2025-09-30 10:39:49,630 INFO status has been updated to running\n",
      "2025-09-30 10:40:01,234 INFO status has been updated to successful\n"
     ]
    },
    {
     "data": {
      "application/vnd.jupyter.widget-view+json": {
       "model_id": "1b3cebfbd0d7408ea6301ee8b9202ca5",
       "version_major": 2,
       "version_minor": 0
      },
      "text/plain": [
       "f6df1f5505207c967109829c956f403a.nc:   0%|          | 0.00/3.73M [00:00<?, ?B/s]"
      ]
     },
     "metadata": {},
     "output_type": "display_data"
    },
    {
     "name": "stderr",
     "output_type": "stream",
     "text": [
      "Recovering from connection error [('Connection broken: IncompleteRead(1240640 bytes read, 2665943 more expected)', IncompleteRead(1240640 bytes read, 2665943 more expected))], attempt 1 of 500\n",
      "Retrying in 120 seconds\n",
      "D:/DATACLIMATE all/hum/relative_humidity 2024-12-21.nc: 1048576 bytes already download, but server does not support restarts\n"
     ]
    },
    {
     "data": {
      "application/vnd.jupyter.widget-view+json": {
       "model_id": "3d97992597cb456bb29fc67d154dd12a",
       "version_major": 2,
       "version_minor": 0
      },
      "text/plain": [
       "f6df1f5505207c967109829c956f403a.nc: 0.00B [00:00, ?B/s]"
      ]
     },
     "metadata": {},
     "output_type": "display_data"
    },
    {
     "name": "stderr",
     "output_type": "stream",
     "text": [
      "Recovering from connection error [HTTPSConnectionPool(host='object-store.os-api.cci2.ecmwf.int', port=443): Max retries exceeded with url: /cci2-prod-cache-1/2025-09-30/f6df1f5505207c967109829c956f403a.nc (Caused by NameResolutionError(\"<urllib3.connection.HTTPSConnection object at 0x000002EA37C0B050>: Failed to resolve 'object-store.os-api.cci2.ecmwf.int' ([Errno 11001] getaddrinfo failed)\"))], attempt 2 of 500\n",
      "Retrying in 120 seconds\n"
     ]
    },
    {
     "data": {
      "application/vnd.jupyter.widget-view+json": {
       "model_id": "ab83fa5a13ac4dfbab20e4256d1fc216",
       "version_major": 2,
       "version_minor": 0
      },
      "text/plain": [
       "f6df1f5505207c967109829c956f403a.nc: 0.00B [00:00, ?B/s]"
      ]
     },
     "metadata": {},
     "output_type": "display_data"
    },
    {
     "name": "stderr",
     "output_type": "stream",
     "text": [
      "Recovering from connection error [HTTPSConnectionPool(host='object-store.os-api.cci2.ecmwf.int', port=443): Max retries exceeded with url: /cci2-prod-cache-1/2025-09-30/f6df1f5505207c967109829c956f403a.nc (Caused by NameResolutionError(\"<urllib3.connection.HTTPSConnection object at 0x000002EA37C0B080>: Failed to resolve 'object-store.os-api.cci2.ecmwf.int' ([Errno 11001] getaddrinfo failed)\"))], attempt 3 of 500\n",
      "Retrying in 120 seconds\n"
     ]
    },
    {
     "data": {
      "application/vnd.jupyter.widget-view+json": {
       "model_id": "382129c97d0e4fc38ba6018593edfc98",
       "version_major": 2,
       "version_minor": 0
      },
      "text/plain": [
       "f6df1f5505207c967109829c956f403a.nc: 0.00B [00:00, ?B/s]"
      ]
     },
     "metadata": {},
     "output_type": "display_data"
    },
    {
     "name": "stderr",
     "output_type": "stream",
     "text": [
      "Recovering from connection error [HTTPSConnectionPool(host='object-store.os-api.cci2.ecmwf.int', port=443): Max retries exceeded with url: /cci2-prod-cache-1/2025-09-30/f6df1f5505207c967109829c956f403a.nc (Caused by NameResolutionError(\"<urllib3.connection.HTTPSConnection object at 0x000002EA37C0A9F0>: Failed to resolve 'object-store.os-api.cci2.ecmwf.int' ([Errno 11001] getaddrinfo failed)\"))], attempt 4 of 500\n",
      "Retrying in 120 seconds\n"
     ]
    },
    {
     "data": {
      "application/vnd.jupyter.widget-view+json": {
       "model_id": "285951a408a941bc904ef3f2c71e4d01",
       "version_major": 2,
       "version_minor": 0
      },
      "text/plain": [
       "f6df1f5505207c967109829c956f403a.nc: 0.00B [00:00, ?B/s]"
      ]
     },
     "metadata": {},
     "output_type": "display_data"
    },
    {
     "name": "stderr",
     "output_type": "stream",
     "text": [
      "Recovering from connection error [HTTPSConnectionPool(host='object-store.os-api.cci2.ecmwf.int', port=443): Max retries exceeded with url: /cci2-prod-cache-1/2025-09-30/f6df1f5505207c967109829c956f403a.nc (Caused by NameResolutionError(\"<urllib3.connection.HTTPSConnection object at 0x000002EA37B81280>: Failed to resolve 'object-store.os-api.cci2.ecmwf.int' ([Errno 11001] getaddrinfo failed)\"))], attempt 5 of 500\n",
      "Retrying in 120 seconds\n"
     ]
    },
    {
     "data": {
      "application/vnd.jupyter.widget-view+json": {
       "model_id": "d4805930c641498b98f5903fa7bb6c99",
       "version_major": 2,
       "version_minor": 0
      },
      "text/plain": [
       "f6df1f5505207c967109829c956f403a.nc: 0.00B [00:00, ?B/s]"
      ]
     },
     "metadata": {},
     "output_type": "display_data"
    },
    {
     "name": "stderr",
     "output_type": "stream",
     "text": [
      "Recovering from connection error [HTTPSConnectionPool(host='object-store.os-api.cci2.ecmwf.int', port=443): Max retries exceeded with url: /cci2-prod-cache-1/2025-09-30/f6df1f5505207c967109829c956f403a.nc (Caused by NameResolutionError(\"<urllib3.connection.HTTPSConnection object at 0x000002EA37C504D0>: Failed to resolve 'object-store.os-api.cci2.ecmwf.int' ([Errno 11001] getaddrinfo failed)\"))], attempt 6 of 500\n",
      "Retrying in 120 seconds\n"
     ]
    },
    {
     "data": {
      "application/vnd.jupyter.widget-view+json": {
       "model_id": "9a35db88d2b74a02ad45d80d068be5bf",
       "version_major": 2,
       "version_minor": 0
      },
      "text/plain": [
       "f6df1f5505207c967109829c956f403a.nc: 0.00B [00:00, ?B/s]"
      ]
     },
     "metadata": {},
     "output_type": "display_data"
    },
    {
     "name": "stderr",
     "output_type": "stream",
     "text": [
      "Recovering from connection error [HTTPSConnectionPool(host='object-store.os-api.cci2.ecmwf.int', port=443): Max retries exceeded with url: /cci2-prod-cache-1/2025-09-30/f6df1f5505207c967109829c956f403a.nc (Caused by NameResolutionError(\"<urllib3.connection.HTTPSConnection object at 0x000002EA37C50C20>: Failed to resolve 'object-store.os-api.cci2.ecmwf.int' ([Errno 11001] getaddrinfo failed)\"))], attempt 7 of 500\n",
      "Retrying in 120 seconds\n"
     ]
    },
    {
     "data": {
      "application/vnd.jupyter.widget-view+json": {
       "model_id": "4433fffab78343688fbf2a1732421b1e",
       "version_major": 2,
       "version_minor": 0
      },
      "text/plain": [
       "f6df1f5505207c967109829c956f403a.nc: 0.00B [00:00, ?B/s]"
      ]
     },
     "metadata": {},
     "output_type": "display_data"
    },
    {
     "name": "stderr",
     "output_type": "stream",
     "text": [
      "Recovering from connection error [HTTPSConnectionPool(host='object-store.os-api.cci2.ecmwf.int', port=443): Max retries exceeded with url: /cci2-prod-cache-1/2025-09-30/f6df1f5505207c967109829c956f403a.nc (Caused by NameResolutionError(\"<urllib3.connection.HTTPSConnection object at 0x000002EA37C08A40>: Failed to resolve 'object-store.os-api.cci2.ecmwf.int' ([Errno 11001] getaddrinfo failed)\"))], attempt 8 of 500\n",
      "Retrying in 120 seconds\n"
     ]
    },
    {
     "data": {
      "application/vnd.jupyter.widget-view+json": {
       "model_id": "b4a11aaafe5b4de3bd397a8a4185adb2",
       "version_major": 2,
       "version_minor": 0
      },
      "text/plain": [
       "f6df1f5505207c967109829c956f403a.nc: 0.00B [00:00, ?B/s]"
      ]
     },
     "metadata": {},
     "output_type": "display_data"
    },
    {
     "name": "stderr",
     "output_type": "stream",
     "text": [
      "Recovering from connection error [HTTPSConnectionPool(host='object-store.os-api.cci2.ecmwf.int', port=443): Max retries exceeded with url: /cci2-prod-cache-1/2025-09-30/f6df1f5505207c967109829c956f403a.nc (Caused by NameResolutionError(\"<urllib3.connection.HTTPSConnection object at 0x000002EA37BB3590>: Failed to resolve 'object-store.os-api.cci2.ecmwf.int' ([Errno 11001] getaddrinfo failed)\"))], attempt 9 of 500\n",
      "Retrying in 120 seconds\n"
     ]
    },
    {
     "data": {
      "application/vnd.jupyter.widget-view+json": {
       "model_id": "3a03d3b133fa4823abbd194b436050e6",
       "version_major": 2,
       "version_minor": 0
      },
      "text/plain": [
       "f6df1f5505207c967109829c956f403a.nc: 0.00B [00:00, ?B/s]"
      ]
     },
     "metadata": {},
     "output_type": "display_data"
    },
    {
     "name": "stderr",
     "output_type": "stream",
     "text": [
      "Recovering from connection error [HTTPSConnectionPool(host='object-store.os-api.cci2.ecmwf.int', port=443): Max retries exceeded with url: /cci2-prod-cache-1/2025-09-30/f6df1f5505207c967109829c956f403a.nc (Caused by NameResolutionError(\"<urllib3.connection.HTTPSConnection object at 0x000002EA37C0A8A0>: Failed to resolve 'object-store.os-api.cci2.ecmwf.int' ([Errno 11001] getaddrinfo failed)\"))], attempt 10 of 500\n",
      "Retrying in 120 seconds\n"
     ]
    },
    {
     "data": {
      "application/vnd.jupyter.widget-view+json": {
       "model_id": "1caa6705d8cc4165a25dcbc3b4ba6818",
       "version_major": 2,
       "version_minor": 0
      },
      "text/plain": [
       "f6df1f5505207c967109829c956f403a.nc: 0.00B [00:00, ?B/s]"
      ]
     },
     "metadata": {},
     "output_type": "display_data"
    },
    {
     "name": "stderr",
     "output_type": "stream",
     "text": [
      "Recovering from connection error [HTTPSConnectionPool(host='object-store.os-api.cci2.ecmwf.int', port=443): Max retries exceeded with url: /cci2-prod-cache-1/2025-09-30/f6df1f5505207c967109829c956f403a.nc (Caused by NameResolutionError(\"<urllib3.connection.HTTPSConnection object at 0x000002EA37C506B0>: Failed to resolve 'object-store.os-api.cci2.ecmwf.int' ([Errno 11001] getaddrinfo failed)\"))], attempt 11 of 500\n",
      "Retrying in 120 seconds\n"
     ]
    },
    {
     "data": {
      "application/vnd.jupyter.widget-view+json": {
       "model_id": "98d40325fead4ccab2ca5617540a10e6",
       "version_major": 2,
       "version_minor": 0
      },
      "text/plain": [
       "f6df1f5505207c967109829c956f403a.nc: 0.00B [00:00, ?B/s]"
      ]
     },
     "metadata": {},
     "output_type": "display_data"
    },
    {
     "name": "stderr",
     "output_type": "stream",
     "text": [
      "Recovering from connection error [HTTPSConnectionPool(host='object-store.os-api.cci2.ecmwf.int', port=443): Max retries exceeded with url: /cci2-prod-cache-1/2025-09-30/f6df1f5505207c967109829c956f403a.nc (Caused by NameResolutionError(\"<urllib3.connection.HTTPSConnection object at 0x000002EA37C50170>: Failed to resolve 'object-store.os-api.cci2.ecmwf.int' ([Errno 11001] getaddrinfo failed)\"))], attempt 12 of 500\n",
      "Retrying in 120 seconds\n"
     ]
    },
    {
     "data": {
      "application/vnd.jupyter.widget-view+json": {
       "model_id": "83d512a229064ecf932cd5caee0e89ea",
       "version_major": 2,
       "version_minor": 0
      },
      "text/plain": [
       "f6df1f5505207c967109829c956f403a.nc: 0.00B [00:00, ?B/s]"
      ]
     },
     "metadata": {},
     "output_type": "display_data"
    },
    {
     "name": "stderr",
     "output_type": "stream",
     "text": [
      "Recovering from connection error [HTTPSConnectionPool(host='object-store.os-api.cci2.ecmwf.int', port=443): Max retries exceeded with url: /cci2-prod-cache-1/2025-09-30/f6df1f5505207c967109829c956f403a.nc (Caused by NameResolutionError(\"<urllib3.connection.HTTPSConnection object at 0x000002EA37C081D0>: Failed to resolve 'object-store.os-api.cci2.ecmwf.int' ([Errno 11001] getaddrinfo failed)\"))], attempt 13 of 500\n",
      "Retrying in 120 seconds\n"
     ]
    },
    {
     "data": {
      "application/vnd.jupyter.widget-view+json": {
       "model_id": "c12d52a816014cc1a292ed62326705a3",
       "version_major": 2,
       "version_minor": 0
      },
      "text/plain": [
       "f6df1f5505207c967109829c956f403a.nc: 0.00B [00:00, ?B/s]"
      ]
     },
     "metadata": {},
     "output_type": "display_data"
    },
    {
     "name": "stderr",
     "output_type": "stream",
     "text": [
      "Recovering from connection error [HTTPSConnectionPool(host='object-store.os-api.cci2.ecmwf.int', port=443): Max retries exceeded with url: /cci2-prod-cache-1/2025-09-30/f6df1f5505207c967109829c956f403a.nc (Caused by NameResolutionError(\"<urllib3.connection.HTTPSConnection object at 0x000002EA37BB23F0>: Failed to resolve 'object-store.os-api.cci2.ecmwf.int' ([Errno 11001] getaddrinfo failed)\"))], attempt 14 of 500\n",
      "Retrying in 120 seconds\n"
     ]
    },
    {
     "data": {
      "application/vnd.jupyter.widget-view+json": {
       "model_id": "c5302ff730954b45af9653704204dbbe",
       "version_major": 2,
       "version_minor": 0
      },
      "text/plain": [
       "f6df1f5505207c967109829c956f403a.nc: 0.00B [00:00, ?B/s]"
      ]
     },
     "metadata": {},
     "output_type": "display_data"
    },
    {
     "name": "stderr",
     "output_type": "stream",
     "text": [
      "Recovering from connection error [HTTPSConnectionPool(host='object-store.os-api.cci2.ecmwf.int', port=443): Max retries exceeded with url: /cci2-prod-cache-1/2025-09-30/f6df1f5505207c967109829c956f403a.nc (Caused by NameResolutionError(\"<urllib3.connection.HTTPSConnection object at 0x000002EA37C0B470>: Failed to resolve 'object-store.os-api.cci2.ecmwf.int' ([Errno 11001] getaddrinfo failed)\"))], attempt 15 of 500\n",
      "Retrying in 120 seconds\n"
     ]
    },
    {
     "data": {
      "application/vnd.jupyter.widget-view+json": {
       "model_id": "d9b3ab1ccb4e4ecc9b966eaa60b5a8fa",
       "version_major": 2,
       "version_minor": 0
      },
      "text/plain": [
       "f6df1f5505207c967109829c956f403a.nc: 0.00B [00:00, ?B/s]"
      ]
     },
     "metadata": {},
     "output_type": "display_data"
    },
    {
     "name": "stderr",
     "output_type": "stream",
     "text": [
      "Recovering from connection error [HTTPSConnectionPool(host='object-store.os-api.cci2.ecmwf.int', port=443): Max retries exceeded with url: /cci2-prod-cache-1/2025-09-30/f6df1f5505207c967109829c956f403a.nc (Caused by NameResolutionError(\"<urllib3.connection.HTTPSConnection object at 0x000002EA37C53950>: Failed to resolve 'object-store.os-api.cci2.ecmwf.int' ([Errno 11001] getaddrinfo failed)\"))], attempt 16 of 500\n",
      "Retrying in 120 seconds\n"
     ]
    },
    {
     "data": {
      "application/vnd.jupyter.widget-view+json": {
       "model_id": "849ef7d985ea426bb5f0dfd9cc6db4a4",
       "version_major": 2,
       "version_minor": 0
      },
      "text/plain": [
       "f6df1f5505207c967109829c956f403a.nc: 0.00B [00:00, ?B/s]"
      ]
     },
     "metadata": {},
     "output_type": "display_data"
    },
    {
     "name": "stderr",
     "output_type": "stream",
     "text": [
      "Recovering from connection error [HTTPSConnectionPool(host='object-store.os-api.cci2.ecmwf.int', port=443): Max retries exceeded with url: /cci2-prod-cache-1/2025-09-30/f6df1f5505207c967109829c956f403a.nc (Caused by NameResolutionError(\"<urllib3.connection.HTTPSConnection object at 0x000002EA37C53B90>: Failed to resolve 'object-store.os-api.cci2.ecmwf.int' ([Errno 11001] getaddrinfo failed)\"))], attempt 17 of 500\n",
      "Retrying in 120 seconds\n"
     ]
    },
    {
     "data": {
      "application/vnd.jupyter.widget-view+json": {
       "model_id": "09ce8e251e3e4430acc457bccca888e6",
       "version_major": 2,
       "version_minor": 0
      },
      "text/plain": [
       "f6df1f5505207c967109829c956f403a.nc: 0.00B [00:00, ?B/s]"
      ]
     },
     "metadata": {},
     "output_type": "display_data"
    },
    {
     "name": "stderr",
     "output_type": "stream",
     "text": [
      "Recovering from connection error [HTTPSConnectionPool(host='object-store.os-api.cci2.ecmwf.int', port=443): Max retries exceeded with url: /cci2-prod-cache-1/2025-09-30/f6df1f5505207c967109829c956f403a.nc (Caused by NameResolutionError(\"<urllib3.connection.HTTPSConnection object at 0x000002EA37C51CA0>: Failed to resolve 'object-store.os-api.cci2.ecmwf.int' ([Errno 11001] getaddrinfo failed)\"))], attempt 18 of 500\n",
      "Retrying in 120 seconds\n"
     ]
    },
    {
     "data": {
      "application/vnd.jupyter.widget-view+json": {
       "model_id": "8f80fa52a01943e2bedefc81cbeac8fa",
       "version_major": 2,
       "version_minor": 0
      },
      "text/plain": [
       "f6df1f5505207c967109829c956f403a.nc: 0.00B [00:00, ?B/s]"
      ]
     },
     "metadata": {},
     "output_type": "display_data"
    },
    {
     "name": "stderr",
     "output_type": "stream",
     "text": [
      "Recovering from connection error [HTTPSConnectionPool(host='object-store.os-api.cci2.ecmwf.int', port=443): Max retries exceeded with url: /cci2-prod-cache-1/2025-09-30/f6df1f5505207c967109829c956f403a.nc (Caused by NameResolutionError(\"<urllib3.connection.HTTPSConnection object at 0x000002EA37C53EC0>: Failed to resolve 'object-store.os-api.cci2.ecmwf.int' ([Errno 11001] getaddrinfo failed)\"))], attempt 19 of 500\n",
      "Retrying in 120 seconds\n"
     ]
    },
    {
     "data": {
      "application/vnd.jupyter.widget-view+json": {
       "model_id": "d4aca487b56a4cc7a58ad0a12982537e",
       "version_major": 2,
       "version_minor": 0
      },
      "text/plain": [
       "f6df1f5505207c967109829c956f403a.nc: 0.00B [00:00, ?B/s]"
      ]
     },
     "metadata": {},
     "output_type": "display_data"
    },
    {
     "name": "stderr",
     "output_type": "stream",
     "text": [
      "Recovering from connection error [HTTPSConnectionPool(host='object-store.os-api.cci2.ecmwf.int', port=443): Max retries exceeded with url: /cci2-prod-cache-1/2025-09-30/f6df1f5505207c967109829c956f403a.nc (Caused by NameResolutionError(\"<urllib3.connection.HTTPSConnection object at 0x000002EA37C50260>: Failed to resolve 'object-store.os-api.cci2.ecmwf.int' ([Errno 11001] getaddrinfo failed)\"))], attempt 20 of 500\n",
      "Retrying in 120 seconds\n"
     ]
    },
    {
     "data": {
      "application/vnd.jupyter.widget-view+json": {
       "model_id": "4e9f39254ede4a4b87ec0d19daacfdc9",
       "version_major": 2,
       "version_minor": 0
      },
      "text/plain": [
       "f6df1f5505207c967109829c956f403a.nc: 0.00B [00:00, ?B/s]"
      ]
     },
     "metadata": {},
     "output_type": "display_data"
    },
    {
     "name": "stderr",
     "output_type": "stream",
     "text": [
      "Recovering from connection error [HTTPSConnectionPool(host='object-store.os-api.cci2.ecmwf.int', port=443): Max retries exceeded with url: /cci2-prod-cache-1/2025-09-30/f6df1f5505207c967109829c956f403a.nc (Caused by NameResolutionError(\"<urllib3.connection.HTTPSConnection object at 0x000002EA37C8E2D0>: Failed to resolve 'object-store.os-api.cci2.ecmwf.int' ([Errno 11001] getaddrinfo failed)\"))], attempt 21 of 500\n",
      "Retrying in 120 seconds\n"
     ]
    },
    {
     "data": {
      "application/vnd.jupyter.widget-view+json": {
       "model_id": "c8345d887ad445f29444c5ee9741db5a",
       "version_major": 2,
       "version_minor": 0
      },
      "text/plain": [
       "f6df1f5505207c967109829c956f403a.nc: 0.00B [00:00, ?B/s]"
      ]
     },
     "metadata": {},
     "output_type": "display_data"
    },
    {
     "name": "stderr",
     "output_type": "stream",
     "text": [
      "Recovering from connection error [HTTPSConnectionPool(host='object-store.os-api.cci2.ecmwf.int', port=443): Max retries exceeded with url: /cci2-prod-cache-1/2025-09-30/f6df1f5505207c967109829c956f403a.nc (Caused by NameResolutionError(\"<urllib3.connection.HTTPSConnection object at 0x000002EA37C8E510>: Failed to resolve 'object-store.os-api.cci2.ecmwf.int' ([Errno 11001] getaddrinfo failed)\"))], attempt 22 of 500\n",
      "Retrying in 120 seconds\n"
     ]
    },
    {
     "data": {
      "application/vnd.jupyter.widget-view+json": {
       "model_id": "2f19e99602454d87a8207be75a521cf8",
       "version_major": 2,
       "version_minor": 0
      },
      "text/plain": [
       "f6df1f5505207c967109829c956f403a.nc: 0.00B [00:00, ?B/s]"
      ]
     },
     "metadata": {},
     "output_type": "display_data"
    },
    {
     "name": "stderr",
     "output_type": "stream",
     "text": [
      "Recovering from connection error [HTTPSConnectionPool(host='object-store.os-api.cci2.ecmwf.int', port=443): Max retries exceeded with url: /cci2-prod-cache-1/2025-09-30/f6df1f5505207c967109829c956f403a.nc (Caused by NameResolutionError(\"<urllib3.connection.HTTPSConnection object at 0x000002EA37C51B80>: Failed to resolve 'object-store.os-api.cci2.ecmwf.int' ([Errno 11001] getaddrinfo failed)\"))], attempt 23 of 500\n",
      "Retrying in 120 seconds\n"
     ]
    },
    {
     "data": {
      "application/vnd.jupyter.widget-view+json": {
       "model_id": "2f60641b50dc4d82a84b722f06a64a7b",
       "version_major": 2,
       "version_minor": 0
      },
      "text/plain": [
       "f6df1f5505207c967109829c956f403a.nc: 0.00B [00:00, ?B/s]"
      ]
     },
     "metadata": {},
     "output_type": "display_data"
    },
    {
     "name": "stderr",
     "output_type": "stream",
     "text": [
      "Recovering from connection error [HTTPSConnectionPool(host='object-store.os-api.cci2.ecmwf.int', port=443): Max retries exceeded with url: /cci2-prod-cache-1/2025-09-30/f6df1f5505207c967109829c956f403a.nc (Caused by NameResolutionError(\"<urllib3.connection.HTTPSConnection object at 0x000002EA37C516A0>: Failed to resolve 'object-store.os-api.cci2.ecmwf.int' ([Errno 11001] getaddrinfo failed)\"))], attempt 24 of 500\n",
      "Retrying in 120 seconds\n"
     ]
    },
    {
     "data": {
      "application/vnd.jupyter.widget-view+json": {
       "model_id": "e65ca79ac15547d0a7454907fb6b61f1",
       "version_major": 2,
       "version_minor": 0
      },
      "text/plain": [
       "f6df1f5505207c967109829c956f403a.nc: 0.00B [00:00, ?B/s]"
      ]
     },
     "metadata": {},
     "output_type": "display_data"
    },
    {
     "name": "stderr",
     "output_type": "stream",
     "text": [
      "Recovering from connection error [HTTPSConnectionPool(host='object-store.os-api.cci2.ecmwf.int', port=443): Max retries exceeded with url: /cci2-prod-cache-1/2025-09-30/f6df1f5505207c967109829c956f403a.nc (Caused by NameResolutionError(\"<urllib3.connection.HTTPSConnection object at 0x000002EA37C53710>: Failed to resolve 'object-store.os-api.cci2.ecmwf.int' ([Errno 11001] getaddrinfo failed)\"))], attempt 25 of 500\n",
      "Retrying in 120 seconds\n"
     ]
    },
    {
     "data": {
      "application/vnd.jupyter.widget-view+json": {
       "model_id": "74db415273b04ae68883730ef0ad38f2",
       "version_major": 2,
       "version_minor": 0
      },
      "text/plain": [
       "f6df1f5505207c967109829c956f403a.nc: 0.00B [00:00, ?B/s]"
      ]
     },
     "metadata": {},
     "output_type": "display_data"
    },
    {
     "name": "stderr",
     "output_type": "stream",
     "text": [
      "Recovering from connection error [HTTPSConnectionPool(host='object-store.os-api.cci2.ecmwf.int', port=443): Max retries exceeded with url: /cci2-prod-cache-1/2025-09-30/f6df1f5505207c967109829c956f403a.nc (Caused by NameResolutionError(\"<urllib3.connection.HTTPSConnection object at 0x000002EA37C8E5D0>: Failed to resolve 'object-store.os-api.cci2.ecmwf.int' ([Errno 11001] getaddrinfo failed)\"))], attempt 26 of 500\n",
      "Retrying in 120 seconds\n"
     ]
    },
    {
     "data": {
      "application/vnd.jupyter.widget-view+json": {
       "model_id": "08a74124e63d4dcfbfc0c0f121a493c0",
       "version_major": 2,
       "version_minor": 0
      },
      "text/plain": [
       "f6df1f5505207c967109829c956f403a.nc: 0.00B [00:00, ?B/s]"
      ]
     },
     "metadata": {},
     "output_type": "display_data"
    },
    {
     "name": "stderr",
     "output_type": "stream",
     "text": [
      "Recovering from connection error [HTTPSConnectionPool(host='object-store.os-api.cci2.ecmwf.int', port=443): Max retries exceeded with url: /cci2-prod-cache-1/2025-09-30/f6df1f5505207c967109829c956f403a.nc (Caused by NameResolutionError(\"<urllib3.connection.HTTPSConnection object at 0x000002EA37C8D0D0>: Failed to resolve 'object-store.os-api.cci2.ecmwf.int' ([Errno 11001] getaddrinfo failed)\"))], attempt 27 of 500\n",
      "Retrying in 120 seconds\n"
     ]
    },
    {
     "data": {
      "application/vnd.jupyter.widget-view+json": {
       "model_id": "7bd9820efd7b4daaa78db5a881ba9021",
       "version_major": 2,
       "version_minor": 0
      },
      "text/plain": [
       "f6df1f5505207c967109829c956f403a.nc: 0.00B [00:00, ?B/s]"
      ]
     },
     "metadata": {},
     "output_type": "display_data"
    },
    {
     "name": "stderr",
     "output_type": "stream",
     "text": [
      "Recovering from connection error [HTTPSConnectionPool(host='object-store.os-api.cci2.ecmwf.int', port=443): Max retries exceeded with url: /cci2-prod-cache-1/2025-09-30/f6df1f5505207c967109829c956f403a.nc (Caused by NameResolutionError(\"<urllib3.connection.HTTPSConnection object at 0x000002EA37C8DE20>: Failed to resolve 'object-store.os-api.cci2.ecmwf.int' ([Errno 11001] getaddrinfo failed)\"))], attempt 28 of 500\n",
      "Retrying in 120 seconds\n"
     ]
    },
    {
     "data": {
      "application/vnd.jupyter.widget-view+json": {
       "model_id": "ef3b02f55f9b4621be194cb5901c0742",
       "version_major": 2,
       "version_minor": 0
      },
      "text/plain": [
       "f6df1f5505207c967109829c956f403a.nc: 0.00B [00:00, ?B/s]"
      ]
     },
     "metadata": {},
     "output_type": "display_data"
    },
    {
     "name": "stderr",
     "output_type": "stream",
     "text": [
      "Recovering from connection error [HTTPSConnectionPool(host='object-store.os-api.cci2.ecmwf.int', port=443): Max retries exceeded with url: /cci2-prod-cache-1/2025-09-30/f6df1f5505207c967109829c956f403a.nc (Caused by NameResolutionError(\"<urllib3.connection.HTTPSConnection object at 0x000002EA37C50830>: Failed to resolve 'object-store.os-api.cci2.ecmwf.int' ([Errno 11001] getaddrinfo failed)\"))], attempt 29 of 500\n",
      "Retrying in 120 seconds\n"
     ]
    },
    {
     "data": {
      "application/vnd.jupyter.widget-view+json": {
       "model_id": "c6e6f3f10bc84707adc97e0cd6cf0770",
       "version_major": 2,
       "version_minor": 0
      },
      "text/plain": [
       "f6df1f5505207c967109829c956f403a.nc: 0.00B [00:00, ?B/s]"
      ]
     },
     "metadata": {},
     "output_type": "display_data"
    },
    {
     "name": "stderr",
     "output_type": "stream",
     "text": [
      "Recovering from connection error [HTTPSConnectionPool(host='object-store.os-api.cci2.ecmwf.int', port=443): Max retries exceeded with url: /cci2-prod-cache-1/2025-09-30/f6df1f5505207c967109829c956f403a.nc (Caused by NameResolutionError(\"<urllib3.connection.HTTPSConnection object at 0x000002EA37C535F0>: Failed to resolve 'object-store.os-api.cci2.ecmwf.int' ([Errno 11001] getaddrinfo failed)\"))], attempt 30 of 500\n",
      "Retrying in 120 seconds\n"
     ]
    },
    {
     "data": {
      "application/vnd.jupyter.widget-view+json": {
       "model_id": "e11eb01d5fd64dc9a99fc97b75e6d19a",
       "version_major": 2,
       "version_minor": 0
      },
      "text/plain": [
       "f6df1f5505207c967109829c956f403a.nc: 0.00B [00:00, ?B/s]"
      ]
     },
     "metadata": {},
     "output_type": "display_data"
    },
    {
     "name": "stderr",
     "output_type": "stream",
     "text": [
      "Recovering from connection error [HTTPSConnectionPool(host='object-store.os-api.cci2.ecmwf.int', port=443): Max retries exceeded with url: /cci2-prod-cache-1/2025-09-30/f6df1f5505207c967109829c956f403a.nc (Caused by NameResolutionError(\"<urllib3.connection.HTTPSConnection object at 0x000002EA37CCC320>: Failed to resolve 'object-store.os-api.cci2.ecmwf.int' ([Errno 11001] getaddrinfo failed)\"))], attempt 31 of 500\n",
      "Retrying in 120 seconds\n"
     ]
    },
    {
     "data": {
      "application/vnd.jupyter.widget-view+json": {
       "model_id": "8f935aef3bb84c928a02cf3cf6ee5480",
       "version_major": 2,
       "version_minor": 0
      },
      "text/plain": [
       "f6df1f5505207c967109829c956f403a.nc: 0.00B [00:00, ?B/s]"
      ]
     },
     "metadata": {},
     "output_type": "display_data"
    },
    {
     "name": "stderr",
     "output_type": "stream",
     "text": [
      "Recovering from connection error [HTTPSConnectionPool(host='object-store.os-api.cci2.ecmwf.int', port=443): Max retries exceeded with url: /cci2-prod-cache-1/2025-09-30/f6df1f5505207c967109829c956f403a.nc (Caused by NameResolutionError(\"<urllib3.connection.HTTPSConnection object at 0x000002EA37CCC830>: Failed to resolve 'object-store.os-api.cci2.ecmwf.int' ([Errno 11001] getaddrinfo failed)\"))], attempt 32 of 500\n",
      "Retrying in 120 seconds\n"
     ]
    },
    {
     "data": {
      "application/vnd.jupyter.widget-view+json": {
       "model_id": "fd5a1ed5cc2e4f3bad5d7737ce1432c9",
       "version_major": 2,
       "version_minor": 0
      },
      "text/plain": [
       "f6df1f5505207c967109829c956f403a.nc: 0.00B [00:00, ?B/s]"
      ]
     },
     "metadata": {},
     "output_type": "display_data"
    },
    {
     "name": "stderr",
     "output_type": "stream",
     "text": [
      "Recovering from connection error [HTTPSConnectionPool(host='object-store.os-api.cci2.ecmwf.int', port=443): Max retries exceeded with url: /cci2-prod-cache-1/2025-09-30/f6df1f5505207c967109829c956f403a.nc (Caused by NameResolutionError(\"<urllib3.connection.HTTPSConnection object at 0x000002EA37C8F710>: Failed to resolve 'object-store.os-api.cci2.ecmwf.int' ([Errno 11001] getaddrinfo failed)\"))], attempt 33 of 500\n",
      "Retrying in 120 seconds\n"
     ]
    },
    {
     "data": {
      "application/vnd.jupyter.widget-view+json": {
       "model_id": "5606de2aed6246c8a101f43b4eb82547",
       "version_major": 2,
       "version_minor": 0
      },
      "text/plain": [
       "f6df1f5505207c967109829c956f403a.nc: 0.00B [00:00, ?B/s]"
      ]
     },
     "metadata": {},
     "output_type": "display_data"
    },
    {
     "name": "stderr",
     "output_type": "stream",
     "text": [
      "Recovering from connection error [HTTPSConnectionPool(host='object-store.os-api.cci2.ecmwf.int', port=443): Max retries exceeded with url: /cci2-prod-cache-1/2025-09-30/f6df1f5505207c967109829c956f403a.nc (Caused by NameResolutionError(\"<urllib3.connection.HTTPSConnection object at 0x000002EA37C50680>: Failed to resolve 'object-store.os-api.cci2.ecmwf.int' ([Errno 11001] getaddrinfo failed)\"))], attempt 34 of 500\n",
      "Retrying in 120 seconds\n"
     ]
    },
    {
     "data": {
      "application/vnd.jupyter.widget-view+json": {
       "model_id": "c5288170f1bf4d1289ed8b091898130f",
       "version_major": 2,
       "version_minor": 0
      },
      "text/plain": [
       "f6df1f5505207c967109829c956f403a.nc: 0.00B [00:00, ?B/s]"
      ]
     },
     "metadata": {},
     "output_type": "display_data"
    },
    {
     "name": "stderr",
     "output_type": "stream",
     "text": [
      "Recovering from connection error [HTTPSConnectionPool(host='object-store.os-api.cci2.ecmwf.int', port=443): Max retries exceeded with url: /cci2-prod-cache-1/2025-09-30/f6df1f5505207c967109829c956f403a.nc (Caused by NameResolutionError(\"<urllib3.connection.HTTPSConnection object at 0x000002EA37C8C530>: Failed to resolve 'object-store.os-api.cci2.ecmwf.int' ([Errno 11001] getaddrinfo failed)\"))], attempt 35 of 500\n",
      "Retrying in 120 seconds\n"
     ]
    },
    {
     "data": {
      "application/vnd.jupyter.widget-view+json": {
       "model_id": "380a466f159d48f6aaac03831a11b846",
       "version_major": 2,
       "version_minor": 0
      },
      "text/plain": [
       "f6df1f5505207c967109829c956f403a.nc: 0.00B [00:00, ?B/s]"
      ]
     },
     "metadata": {},
     "output_type": "display_data"
    },
    {
     "name": "stderr",
     "output_type": "stream",
     "text": [
      "Recovering from connection error [HTTPSConnectionPool(host='object-store.os-api.cci2.ecmwf.int', port=443): Max retries exceeded with url: /cci2-prod-cache-1/2025-09-30/f6df1f5505207c967109829c956f403a.nc (Caused by NameResolutionError(\"<urllib3.connection.HTTPSConnection object at 0x000002EA37CCF140>: Failed to resolve 'object-store.os-api.cci2.ecmwf.int' ([Errno 11001] getaddrinfo failed)\"))], attempt 36 of 500\n",
      "Retrying in 120 seconds\n"
     ]
    },
    {
     "data": {
      "application/vnd.jupyter.widget-view+json": {
       "model_id": "0c3312faded24db199e6b6acf33658be",
       "version_major": 2,
       "version_minor": 0
      },
      "text/plain": [
       "f6df1f5505207c967109829c956f403a.nc: 0.00B [00:00, ?B/s]"
      ]
     },
     "metadata": {},
     "output_type": "display_data"
    },
    {
     "name": "stderr",
     "output_type": "stream",
     "text": [
      "Recovering from connection error [HTTPSConnectionPool(host='object-store.os-api.cci2.ecmwf.int', port=443): Max retries exceeded with url: /cci2-prod-cache-1/2025-09-30/f6df1f5505207c967109829c956f403a.nc (Caused by NameResolutionError(\"<urllib3.connection.HTTPSConnection object at 0x000002EA37CCF410>: Failed to resolve 'object-store.os-api.cci2.ecmwf.int' ([Errno 11001] getaddrinfo failed)\"))], attempt 37 of 500\n",
      "Retrying in 120 seconds\n"
     ]
    },
    {
     "data": {
      "application/vnd.jupyter.widget-view+json": {
       "model_id": "d471c663d9af4de2a5b7c2ac38d5b837",
       "version_major": 2,
       "version_minor": 0
      },
      "text/plain": [
       "f6df1f5505207c967109829c956f403a.nc: 0.00B [00:00, ?B/s]"
      ]
     },
     "metadata": {},
     "output_type": "display_data"
    },
    {
     "name": "stderr",
     "output_type": "stream",
     "text": [
      "Recovering from connection error [HTTPSConnectionPool(host='object-store.os-api.cci2.ecmwf.int', port=443): Max retries exceeded with url: /cci2-prod-cache-1/2025-09-30/f6df1f5505207c967109829c956f403a.nc (Caused by NameResolutionError(\"<urllib3.connection.HTTPSConnection object at 0x000002EA37ADED20>: Failed to resolve 'object-store.os-api.cci2.ecmwf.int' ([Errno 11001] getaddrinfo failed)\"))], attempt 38 of 500\n",
      "Retrying in 120 seconds\n"
     ]
    },
    {
     "data": {
      "application/vnd.jupyter.widget-view+json": {
       "model_id": "d0cfef2b806e493bb7b4c38c01b38016",
       "version_major": 2,
       "version_minor": 0
      },
      "text/plain": [
       "f6df1f5505207c967109829c956f403a.nc: 0.00B [00:00, ?B/s]"
      ]
     },
     "metadata": {},
     "output_type": "display_data"
    },
    {
     "name": "stderr",
     "output_type": "stream",
     "text": [
      "Recovering from connection error [HTTPSConnectionPool(host='object-store.os-api.cci2.ecmwf.int', port=443): Max retries exceeded with url: /cci2-prod-cache-1/2025-09-30/f6df1f5505207c967109829c956f403a.nc (Caused by NameResolutionError(\"<urllib3.connection.HTTPSConnection object at 0x000002EA37ADD520>: Failed to resolve 'object-store.os-api.cci2.ecmwf.int' ([Errno 11001] getaddrinfo failed)\"))], attempt 39 of 500\n",
      "Retrying in 120 seconds\n"
     ]
    },
    {
     "data": {
      "application/vnd.jupyter.widget-view+json": {
       "model_id": "3633b5fbe9e1419ca92dc21083c5247d",
       "version_major": 2,
       "version_minor": 0
      },
      "text/plain": [
       "f6df1f5505207c967109829c956f403a.nc: 0.00B [00:00, ?B/s]"
      ]
     },
     "metadata": {},
     "output_type": "display_data"
    },
    {
     "name": "stderr",
     "output_type": "stream",
     "text": [
      "Recovering from connection error [HTTPSConnectionPool(host='object-store.os-api.cci2.ecmwf.int', port=443): Max retries exceeded with url: /cci2-prod-cache-1/2025-09-30/f6df1f5505207c967109829c956f403a.nc (Caused by NameResolutionError(\"<urllib3.connection.HTTPSConnection object at 0x000002EA37C8D5B0>: Failed to resolve 'object-store.os-api.cci2.ecmwf.int' ([Errno 11001] getaddrinfo failed)\"))], attempt 40 of 500\n",
      "Retrying in 120 seconds\n"
     ]
    },
    {
     "data": {
      "application/vnd.jupyter.widget-view+json": {
       "model_id": "1f3b43c7124b45bb92fa39158922a687",
       "version_major": 2,
       "version_minor": 0
      },
      "text/plain": [
       "f6df1f5505207c967109829c956f403a.nc:   0%|          | 0.00/3.73M [00:00<?, ?B/s]"
      ]
     },
     "metadata": {},
     "output_type": "display_data"
    },
    {
     "name": "stdout",
     "output_type": "stream",
     "text": [
      "en cours 2024 - 12 - 22...\n"
     ]
    },
    {
     "name": "stderr",
     "output_type": "stream",
     "text": [
      "2025-09-30 12:07:28,036 INFO Request ID is ce91e3c0-f90f-45b3-8232-c257bf8f3206\n",
      "2025-09-30 12:07:28,300 INFO status has been updated to accepted\n",
      "2025-09-30 12:07:37,581 INFO status has been updated to running\n",
      "2025-09-30 12:08:02,533 INFO status has been updated to successful\n"
     ]
    },
    {
     "data": {
      "application/vnd.jupyter.widget-view+json": {
       "model_id": "247d9f8ed1e54b96bdd6ff171760b4ed",
       "version_major": 2,
       "version_minor": 0
      },
      "text/plain": [
       "a9bc30d544eaae16198bdc1b9cf4c6bd.nc:   0%|          | 0.00/3.72M [00:00<?, ?B/s]"
      ]
     },
     "metadata": {},
     "output_type": "display_data"
    },
    {
     "name": "stdout",
     "output_type": "stream",
     "text": [
      "en cours 2024 - 12 - 23...\n"
     ]
    },
    {
     "name": "stderr",
     "output_type": "stream",
     "text": [
      "2025-09-30 12:08:10,629 INFO Request ID is 51cf3541-25cd-4021-bb01-d08ad7fbb738\n",
      "2025-09-30 12:08:10,849 INFO status has been updated to accepted\n",
      "2025-09-30 12:08:25,773 INFO status has been updated to running\n",
      "2025-09-30 12:08:45,242 INFO status has been updated to successful\n"
     ]
    },
    {
     "data": {
      "application/vnd.jupyter.widget-view+json": {
       "model_id": "8b98e8c0de2e4a669ad4872b3049f447",
       "version_major": 2,
       "version_minor": 0
      },
      "text/plain": [
       "abff7b8f4ad09d5d24628fa8c98565e5.nc:   0%|          | 0.00/3.71M [00:00<?, ?B/s]"
      ]
     },
     "metadata": {},
     "output_type": "display_data"
    },
    {
     "name": "stdout",
     "output_type": "stream",
     "text": [
      "en cours 2024 - 12 - 24...\n"
     ]
    },
    {
     "name": "stderr",
     "output_type": "stream",
     "text": [
      "2025-09-30 12:08:55,145 INFO Request ID is 840d33d3-949f-4d51-a230-a737a2c21928\n",
      "2025-09-30 12:08:55,798 INFO status has been updated to accepted\n",
      "2025-09-30 12:09:10,103 INFO status has been updated to running\n",
      "2025-09-30 12:09:29,519 INFO status has been updated to successful\n"
     ]
    },
    {
     "data": {
      "application/vnd.jupyter.widget-view+json": {
       "model_id": "4c21ae49294a4690aca58bd957312435",
       "version_major": 2,
       "version_minor": 0
      },
      "text/plain": [
       "ed6a3fd98482a01957c83d89e87c1368.nc:   0%|          | 0.00/3.73M [00:00<?, ?B/s]"
      ]
     },
     "metadata": {},
     "output_type": "display_data"
    },
    {
     "name": "stdout",
     "output_type": "stream",
     "text": [
      "en cours 2024 - 12 - 25...\n"
     ]
    },
    {
     "name": "stderr",
     "output_type": "stream",
     "text": [
      "2025-09-30 12:09:35,311 INFO Request ID is 78209f6b-6765-4b98-8dfa-7214cab97bca\n",
      "2025-09-30 12:09:35,620 INFO status has been updated to accepted\n",
      "2025-09-30 12:09:57,719 INFO status has been updated to running\n",
      "2025-09-30 12:10:09,351 INFO status has been updated to successful\n"
     ]
    },
    {
     "data": {
      "application/vnd.jupyter.widget-view+json": {
       "model_id": "4498f221ee0a444cbf2954e7c04f9807",
       "version_major": 2,
       "version_minor": 0
      },
      "text/plain": [
       "b6f39a1bea560395eb4977830010ef44.nc:   0%|          | 0.00/3.73M [00:00<?, ?B/s]"
      ]
     },
     "metadata": {},
     "output_type": "display_data"
    },
    {
     "name": "stdout",
     "output_type": "stream",
     "text": [
      "en cours 2024 - 12 - 26...\n"
     ]
    },
    {
     "name": "stderr",
     "output_type": "stream",
     "text": [
      "2025-09-30 12:10:15,200 INFO Request ID is 777307d5-6140-44b6-af03-4d9744fe2483\n",
      "2025-09-30 12:10:15,527 INFO status has been updated to accepted\n",
      "2025-09-30 12:10:49,240 INFO status has been updated to running\n",
      "2025-09-30 12:12:11,167 INFO status has been updated to successful\n"
     ]
    },
    {
     "data": {
      "application/vnd.jupyter.widget-view+json": {
       "model_id": "f5f62b1bc2874784bd01c3491bddb1e2",
       "version_major": 2,
       "version_minor": 0
      },
      "text/plain": [
       "1dfa03293ca47094b69c5be6ca212f0.nc:   0%|          | 0.00/3.72M [00:00<?, ?B/s]"
      ]
     },
     "metadata": {},
     "output_type": "display_data"
    },
    {
     "name": "stdout",
     "output_type": "stream",
     "text": [
      "en cours 2024 - 12 - 27...\n"
     ]
    },
    {
     "name": "stderr",
     "output_type": "stream",
     "text": [
      "2025-09-30 12:12:21,642 INFO Request ID is 7f95b572-f2af-4d5b-9b99-c825fa040326\n",
      "2025-09-30 12:12:21,925 INFO status has been updated to accepted\n",
      "2025-09-30 12:12:31,175 INFO status has been updated to running\n",
      "2025-09-30 12:12:55,923 INFO status has been updated to successful\n"
     ]
    },
    {
     "data": {
      "application/vnd.jupyter.widget-view+json": {
       "model_id": "36c7d18fd59943bcaf5929e071cf66c6",
       "version_major": 2,
       "version_minor": 0
      },
      "text/plain": [
       "441fd3bcc7d1946f1dc4695293433a2d.nc:   0%|          | 0.00/3.73M [00:00<?, ?B/s]"
      ]
     },
     "metadata": {},
     "output_type": "display_data"
    },
    {
     "name": "stdout",
     "output_type": "stream",
     "text": [
      "en cours 2024 - 12 - 28...\n"
     ]
    },
    {
     "name": "stderr",
     "output_type": "stream",
     "text": [
      "2025-09-30 12:13:00,513 INFO Request ID is a98cb96c-292d-4684-b3d9-cda7e3d4545e\n",
      "2025-09-30 12:13:00,778 INFO status has been updated to accepted\n",
      "2025-09-30 12:13:09,862 INFO status has been updated to running\n",
      "2025-09-30 12:13:34,850 INFO status has been updated to successful\n"
     ]
    },
    {
     "data": {
      "application/vnd.jupyter.widget-view+json": {
       "model_id": "19520d05a09749a2ae54709b275bbceb",
       "version_major": 2,
       "version_minor": 0
      },
      "text/plain": [
       "4fd2d6ee68c0f1cd80ffd5ed3fbbf59d.nc:   0%|          | 0.00/3.72M [00:00<?, ?B/s]"
      ]
     },
     "metadata": {},
     "output_type": "display_data"
    },
    {
     "name": "stdout",
     "output_type": "stream",
     "text": [
      "en cours 2024 - 12 - 29...\n"
     ]
    },
    {
     "name": "stderr",
     "output_type": "stream",
     "text": [
      "2025-09-30 12:15:50,500 INFO Request ID is cffcb179-04e8-4c19-bdb7-e26751419c17\n",
      "2025-09-30 12:15:50,737 INFO status has been updated to accepted\n",
      "2025-09-30 12:16:00,236 INFO status has been updated to running\n",
      "2025-09-30 12:16:13,518 INFO status has been updated to accepted\n",
      "2025-09-30 12:16:25,108 INFO status has been updated to running\n",
      "2025-09-30 12:16:42,422 INFO status has been updated to successful\n"
     ]
    },
    {
     "data": {
      "application/vnd.jupyter.widget-view+json": {
       "model_id": "37a62dd533b349a9a8a2ecdb9383be68",
       "version_major": 2,
       "version_minor": 0
      },
      "text/plain": [
       "953e215294b00bb7aba68be305727843.nc:   0%|          | 0.00/3.71M [00:00<?, ?B/s]"
      ]
     },
     "metadata": {},
     "output_type": "display_data"
    },
    {
     "name": "stdout",
     "output_type": "stream",
     "text": [
      "en cours 2024 - 12 - 30...\n"
     ]
    },
    {
     "name": "stderr",
     "output_type": "stream",
     "text": [
      "2025-09-30 12:18:58,918 INFO Request ID is 1df74874-a03a-43f1-ae41-f7dcd9ac4f06\n",
      "2025-09-30 12:18:59,208 INFO status has been updated to accepted\n",
      "2025-09-30 12:19:14,796 INFO status has been updated to running\n",
      "2025-09-30 12:19:51,685 INFO status has been updated to successful\n"
     ]
    },
    {
     "data": {
      "application/vnd.jupyter.widget-view+json": {
       "model_id": "fd9f887f82184169ab6aa54b096835d3",
       "version_major": 2,
       "version_minor": 0
      },
      "text/plain": [
       "7e7ea102595573de3430d929c6cd7327.nc:   0%|          | 0.00/3.67M [00:00<?, ?B/s]"
      ]
     },
     "metadata": {},
     "output_type": "display_data"
    },
    {
     "name": "stdout",
     "output_type": "stream",
     "text": [
      "le fichier est enregistré dans D:/DATACLIMATE all\n"
     ]
    }
   ],
   "source": [
    "#VERSION TEST 2 TEMPERATURE ALL OK\n",
    "import cdsapi\n",
    "c=cdsapi.Client(timeout=1200)\n",
    "#year_beg = int(input(\"la limite annuelle inférieure : \"))\n",
    "#year_end = int(input(\"la limite annuelle supérieure : \"))\n",
    "years = [f\"{y:02d}\" for y in range(2024, 2025)]\n",
    "months = [f\"{m:02d}\" for m in range(7, 13)]\n",
    "days = [f\"{d:02d}\" for d in range(1, 32)]\n",
    "hours = [f\"{h:02d}:00\" for h in range(24)]\n",
    "variable = \"relative_humidity\" #humidité relative\n",
    "area = [5.5, -12.5, -13.5, 31.5] #drc area [N, W, S, E]\n",
    "nb_err = 1\n",
    "\n",
    "import calendar\n",
    "for year in years:\n",
    "    for month in months:\n",
    "        for day in days:\n",
    "            try:\n",
    "                print(f\"en cours {year} - {month} - {day}...\")\n",
    "                c.retrieve(\"reanalysis-era5-pressure-levels\",\n",
    "                           {\"product_type\" : \"reanalysis\",\n",
    "                            \"variable\": variable,\n",
    "                            \"year\": year,\n",
    "                            \"month\": month,\n",
    "                            \"day\": day,\n",
    "                            \"area\": area,\n",
    "                            \"time\": hours,\n",
    "                            \"format\": \"netcdf\",\n",
    "                           },\n",
    "                           f\"D:/DATACLIMATE all/hum/relative_humidity {year}-{month}-{day}.nc\"\n",
    "                          )\n",
    "            except:\n",
    "                nb_err+=1\n",
    "print(f\"le fichier est enregistré dans D:/DATACLIMATE all\")"
   ]
  },
  {
   "cell_type": "markdown",
   "id": "9461891d-5ecc-44d1-a3ee-c4eb516dca0a",
   "metadata": {},
   "source": [
    "# TEMPERATURE 2024"
   ]
  },
  {
   "cell_type": "code",
   "execution_count": null,
   "id": "8edeb599-5878-437f-8f8c-836d8c17c92b",
   "metadata": {
    "scrolled": true
   },
   "outputs": [],
   "source": [
    "#VERSION TEST 2 TEMPERATURE ALL OK\n",
    "import cdsapi\n",
    "c=cdsapi.Client(timeout=1200)\n",
    "#year_beg = int(input(\"la limite annuelle inférieure : \"))\n",
    "#year_end = int(input(\"la limite annuelle supérieure : \"))\n",
    "years = [f\"{y:02d}\" for y in range(2024, 2025)]\n",
    "months = [f\"{m:02d}\" for m in range(1, 13)]\n",
    "days = [f\"{d:02d}\" for d in range(1, 32)]\n",
    "hours = [f\"{h:02d}:00\" for h in range(24)]\n",
    "variable = \"2m_temperature\"\n",
    "area = [5.5, -12.5, -13.5, 31.5]\n",
    "nb_err = 1\n",
    "\n",
    "import calendar\n",
    "for year in years:\n",
    "    for month in months:\n",
    "        for day in days:\n",
    "            try:\n",
    "                print(f\"en cours {year} - {month} - {day}...\")\n",
    "                c.retrieve(\"reanalysis-era5-single-levels\",\n",
    "                           {\"product_type\" : \"reanalysis\",\n",
    "                            \"variable\": variable,\n",
    "                            \"year\": year,\n",
    "                            \"month\": month,\n",
    "                            \"day\": day,\n",
    "                            \"area\": area,\n",
    "                            \"time\": hours,\n",
    "                            \"format\": \"netcdf\",\n",
    "                           },\n",
    "                           f\"D:/DATACLIMATE all/tem/2m_temperature {year}-{month}-{day}.nc\"\n",
    "                          )\n",
    "            except:\n",
    "                nb_err+=1\n",
    "print(f\"le fichier est enregistré dans D:/DATACLIMATE all\")"
   ]
  },
  {
   "cell_type": "markdown",
   "id": "e771629f-147d-4652-8cab-9f247fe0374f",
   "metadata": {},
   "source": [
    "# PRECIPITATION 2024"
   ]
  },
  {
   "cell_type": "code",
   "execution_count": null,
   "id": "37d32f8d-3757-4b1c-9b2a-ba582b837e5a",
   "metadata": {},
   "outputs": [],
   "source": [
    "#VERSION TEST 2 TEMPERATURE ALL OK\n",
    "import cdsapi\n",
    "c=cdsapi.Client(timeout=1200)\n",
    "#year_beg = int(input(\"la limite annuelle inférieure : \"))\n",
    "#year_end = int(input(\"la limite annuelle supérieure : \"))\n",
    "years = [f\"{y:02d}\" for y in range(2024, 2025)]\n",
    "months = [f\"{m:02d}\" for m in range(1, 13)]\n",
    "days = [f\"{d:02d}\" for d in range(1, 32)]\n",
    "hours = [f\"{h:02d}:00\" for h in range(24)]\n",
    "variable = \"total_precipitation\"\n",
    "area = [5.5, -12.5, -13.5, 31.5]\n",
    "nb_err = 1\n",
    "\n",
    "import calendar\n",
    "for year in years:\n",
    "    for month in months:\n",
    "        for day in days:\n",
    "            try:\n",
    "                print(f\"en cours {year} - {month} - {day}...\")\n",
    "                c.retrieve(\"reanalysis-era5-single-levels\",\n",
    "                           {\"product_type\" : \"reanalysis\",\n",
    "                            \"variable\": variable,\n",
    "                            \"year\": year,\n",
    "                            \"month\": month,\n",
    "                            \"day\": day,\n",
    "                            \"area\": area,\n",
    "                            \"time\": hours,\n",
    "                            \"format\": \"netcdf\",\n",
    "                           },\n",
    "                           f\"D:/DATACLIMATE all/pre/total_precipitation {year}-{month}-{day}.nc\"\n",
    "                          )\n",
    "            except:\n",
    "                nb_err+=1\n",
    "print(f\"le fichier est enregistré dans D:/DATACLIMATE all\")"
   ]
  },
  {
   "cell_type": "markdown",
   "id": "ea1791ba-4bdb-4ddb-942a-0f6881561dfd",
   "metadata": {},
   "source": [
    "# ZONAL WIND 2024 (E-W)"
   ]
  },
  {
   "cell_type": "code",
   "execution_count": null,
   "id": "4a58fc59-dc33-4264-bcfb-c973c7262839",
   "metadata": {
    "scrolled": true
   },
   "outputs": [],
   "source": [
    "#VERSION TEST 2 TEMPERATURE ALL OK\n",
    "import cdsapi\n",
    "c=cdsapi.Client(timeout=1200)\n",
    "#year_beg = int(input(\"la limite annuelle inférieure : \"))\n",
    "#year_end = int(input(\"la limite annuelle supérieure : \"))\n",
    "years = [f\"{y:02d}\" for y in range(2024, 2025)]\n",
    "months = [f\"{m:02d}\" for m in range(1, 13)]\n",
    "days = [f\"{d:02d}\" for d in range(1, 32)]\n",
    "hours = [f\"{h:02d}:00\" for h in range(24)]\n",
    "variable = \"2m_u_component_of_wind\" #à 2m de la surface\n",
    "area = [5.5, -12.5, -13.5, 31.5]\n",
    "nb_err = 1\n",
    "\n",
    "import calendar\n",
    "for year in years:\n",
    "    for month in months:\n",
    "        for day in days:\n",
    "            try:\n",
    "                print(f\"en cours {year} - {month} - {day}...\")\n",
    "                c.retrieve(\"reanalysis-era5-pressure-levels\",\n",
    "                           {\"product_type\" : \"reanalysis\",\n",
    "                            \"variable\": variable,\n",
    "                            \"year\": year,\n",
    "                            \"month\": month,\n",
    "                            \"day\": day,\n",
    "                            \"area\": area,\n",
    "                            \"time\": hours,\n",
    "                            \"format\": \"netcdf\",\n",
    "                           },\n",
    "                           f\"D:/DATACLIMATE all/win EW/zonal wind {year}-{month}-{day}.nc\"\n",
    "                          )\n",
    "            except:\n",
    "                nb_err+=1\n",
    "print(f\"le fichier est enregistré dans D:/DATACLIMATE all\")"
   ]
  },
  {
   "cell_type": "markdown",
   "id": "8e2b65ea-7f1f-4085-b11e-e8b0f24bdfaa",
   "metadata": {},
   "source": [
    "# MERIDIAN WIND 2024 (N-S)"
   ]
  },
  {
   "cell_type": "code",
   "execution_count": null,
   "id": "26453741-9678-43af-afe0-764d782e4a2c",
   "metadata": {},
   "outputs": [],
   "source": [
    "#VERSION TEST 2 TEMPERATURE ALL OK\n",
    "import cdsapi\n",
    "c=cdsapi.Client(timeout=1200)\n",
    "#year_beg = int(input(\"la limite annuelle inférieure : \"))\n",
    "#year_end = int(input(\"la limite annuelle supérieure : \"))\n",
    "years = [f\"{y:02d}\" for y in range(2024, 2025)]\n",
    "months = [f\"{m:02d}\" for m in range(1, 13)]\n",
    "days = [f\"{d:02d}\" for d in range(1, 32)]\n",
    "hours = [f\"{h:02d}:00\" for h in range(24)]\n",
    "variable = \"2m_v_component_of_wind\" #vent à 2m de la surface\n",
    "area = [5.5, -12.5, -13.5, 31.5] #drc area [N, W, S, E]\n",
    "nb_err = 1\n",
    "\n",
    "import calendar\n",
    "for year in years:\n",
    "    for month in months:\n",
    "        for day in days:\n",
    "            try:\n",
    "                print(f\"en cours {year} - {month} - {day}...\")\n",
    "                c.retrieve(\"reanalysis-era5-pressure-levels\",\n",
    "                           {\"product_type\" : \"reanalysis\",\n",
    "                            \"variable\": variable,\n",
    "                            \"year\": year,\n",
    "                            \"month\": month,\n",
    "                            \"day\": day,\n",
    "                            \"area\": area,\n",
    "                            \"time\": hours,\n",
    "                            \"format\": \"netcdf\",\n",
    "                           },\n",
    "                           f\"D:/DATACLIMATE all/win NS/meridian wind 23-24.nc\"\n",
    "                          )\n",
    "            except:\n",
    "                nb_err+=1\n",
    "print(f\"le fichier est enregistré dans D:/DATACLIMATE all\")"
   ]
  },
  {
   "cell_type": "code",
   "execution_count": null,
   "id": "c821ba1b-ef5a-4f13-8502-337f7b0092a9",
   "metadata": {},
   "outputs": [],
   "source": []
  }
 ],
 "metadata": {
  "kernelspec": {
   "display_name": "Python [conda env:base] *",
   "language": "python",
   "name": "conda-base-py"
  },
  "language_info": {
   "codemirror_mode": {
    "name": "ipython",
    "version": 3
   },
   "file_extension": ".py",
   "mimetype": "text/x-python",
   "name": "python",
   "nbconvert_exporter": "python",
   "pygments_lexer": "ipython3",
   "version": "3.12.3"
  }
 },
 "nbformat": 4,
 "nbformat_minor": 5
}
